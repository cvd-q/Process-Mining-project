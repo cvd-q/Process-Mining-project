{
 "cells": [
  {
   "cell_type": "markdown",
   "id": "facial-charter",
   "metadata": {},
   "source": [
    "# PROCESS MINING FINAL PROJECT 2020-2021\n",
    "## Train models with timestamp information\n",
    "### AUTHOR: Ma Jiawei\n",
    "### LECTURERS: De Leoni Massimiliano, Di Francescomarino Chiara  "
   ]
  },
  {
   "cell_type": "markdown",
   "id": "consecutive-darkness",
   "metadata": {},
   "source": [
    "Here I decided to train same models as in the case of simple encoding. For the ML models I will simply \"flatten\" 2-D vectors into 1-D vectors."
   ]
  },
  {
   "cell_type": "markdown",
   "id": "consecutive-philosophy",
   "metadata": {},
   "source": [
    "### Load datasets"
   ]
  },
  {
   "cell_type": "code",
   "execution_count": 1,
   "id": "affecting-flood",
   "metadata": {},
   "outputs": [],
   "source": [
    "import numpy as np"
   ]
  },
  {
   "cell_type": "code",
   "execution_count": 2,
   "id": "sophisticated-calvin",
   "metadata": {},
   "outputs": [],
   "source": [
    "X_timestamp_train_ = np.load('X_timestamp_train.npy')\n",
    "X_timestamp_train = np.load('X_timestamp_train.npy')\n",
    "Y_timestamp_train = np.load('Y_timestamp_train.npy')"
   ]
  },
  {
   "cell_type": "code",
   "execution_count": 3,
   "id": "american-diversity",
   "metadata": {},
   "outputs": [
    {
     "name": "stdout",
     "output_type": "stream",
     "text": [
      "(912, 20, 2)\n",
      "(912,)\n"
     ]
    }
   ],
   "source": [
    "print(X_timestamp_train.shape)\n",
    "print(Y_timestamp_train.shape)"
   ]
  },
  {
   "cell_type": "code",
   "execution_count": 4,
   "id": "negative-america",
   "metadata": {},
   "outputs": [
    {
     "name": "stdout",
     "output_type": "stream",
     "text": [
      "(228, 20, 2)\n",
      "(228,)\n"
     ]
    }
   ],
   "source": [
    "X_timestamp_test_ = np.load('X_timestamp_test.npy')\n",
    "X_timestamp_test = np.load('X_timestamp_test.npy')\n",
    "Y_timestamp_test = np.load('Y_timestamp_test.npy')\n",
    "print(X_timestamp_test.shape)\n",
    "print(Y_timestamp_test.shape)"
   ]
  },
  {
   "cell_type": "markdown",
   "id": "spiritual-preserve",
   "metadata": {},
   "source": [
    "Standardize the data, both time and event name encoding:"
   ]
  },
  {
   "cell_type": "code",
   "execution_count": 5,
   "id": "gentle-platinum",
   "metadata": {},
   "outputs": [],
   "source": [
    "from sklearn.preprocessing import StandardScaler\n",
    "from sklearn.base import TransformerMixin\n",
    "class NDStandardScaler(TransformerMixin):\n",
    "    def __init__(self, **kwargs):\n",
    "        self._scaler = StandardScaler(copy=True, **kwargs)\n",
    "        self._orig_shape = None\n",
    "\n",
    "    def fit(self, X, **kwargs):\n",
    "        X = np.array(X)\n",
    "        # Save the original shape to reshape the flattened X later\n",
    "        # back to its original shape\n",
    "        if len(X.shape) > 1:\n",
    "            self._orig_shape = X.shape[1:]\n",
    "        X = self._flatten(X)\n",
    "        self._scaler.fit(X, **kwargs)\n",
    "        return self\n",
    "\n",
    "    def transform(self, X, **kwargs):\n",
    "        X = np.array(X)\n",
    "        X = self._flatten(X)\n",
    "        X = self._scaler.transform(X, **kwargs)\n",
    "        X = self._reshape(X)\n",
    "        return X\n",
    "\n",
    "    def _flatten(self, X):\n",
    "        # Reshape X to <= 2 dimensions\n",
    "        if len(X.shape) > 2:\n",
    "            n_dims = np.prod(self._orig_shape)\n",
    "            X = X.reshape(-1, n_dims)\n",
    "        return X\n",
    "\n",
    "    def _reshape(self, X):\n",
    "        # Reshape X back to it's original shape\n",
    "        if len(X.shape) >= 2:\n",
    "            X = X.reshape(-1, *self._orig_shape)\n",
    "        return X\n",
    "scaler = NDStandardScaler().fit(X_timestamp_train)\n",
    "X_train = scaler.transform(X_timestamp_train)\n",
    "X_test = scaler.transform(X_timestamp_test)\n",
    "\n",
    "Y_train = Y_timestamp_train\n",
    "Y_test = Y_timestamp_test\n",
    "\n",
    "X_train_flat = X_train.reshape(X_train.shape[0], X_train.shape[1]*X_train.shape[2])\n",
    "X_test_flat = X_test.reshape(X_test.shape[0], X_test.shape[1]*X_test.shape[2])"
   ]
  },
  {
   "cell_type": "markdown",
   "id": "cordless-ridge",
   "metadata": {},
   "source": [
    "### Training models"
   ]
  },
  {
   "cell_type": "markdown",
   "id": "joint-meaning",
   "metadata": {},
   "source": [
    "### Logistic regression with different regularization method"
   ]
  },
  {
   "cell_type": "code",
   "execution_count": 6,
   "id": "meaning-conclusion",
   "metadata": {},
   "outputs": [],
   "source": [
    "from sklearn.linear_model import LogisticRegression"
   ]
  },
  {
   "cell_type": "markdown",
   "id": "isolated-plain",
   "metadata": {},
   "source": [
    "No regularization:"
   ]
  },
  {
   "cell_type": "code",
   "execution_count": 8,
   "id": "packed-trinity",
   "metadata": {},
   "outputs": [
    {
     "name": "stdout",
     "output_type": "stream",
     "text": [
      "Training accuracy logistic_model:  0.7774122807017544\n",
      "Test accuracy logistic_model:  0.6052631578947368\n"
     ]
    },
    {
     "name": "stderr",
     "output_type": "stream",
     "text": [
      "/Users/jiaweima/miniconda3/lib/python3.8/site-packages/sklearn/linear_model/_logistic.py:938: ConvergenceWarning: lbfgs failed to converge (status=1):\n",
      "STOP: TOTAL NO. of ITERATIONS REACHED LIMIT.\n",
      "\n",
      "Increase the number of iterations (max_iter) or scale the data as shown in:\n",
      "    https://scikit-learn.org/stable/modules/preprocessing.html\n",
      "Please also refer to the documentation for alternative solver options:\n",
      "    https://scikit-learn.org/stable/modules/linear_model.html#logistic-regression\n",
      "  n_iter_i = _check_optimize_result(\n"
     ]
    }
   ],
   "source": [
    "logistic_model = LogisticRegression(penalty='none',random_state=0).fit(X_train_flat, Y_train)\n",
    "print('Training accuracy logistic_model: ', logistic_model.score(X_train_flat, Y_train))\n",
    "print('Test accuracy logistic_model: ', logistic_model.score(X_test_flat, Y_test))"
   ]
  },
  {
   "cell_type": "markdown",
   "id": "indoor-connecticut",
   "metadata": {},
   "source": [
    "L2 regularization:"
   ]
  },
  {
   "cell_type": "code",
   "execution_count": 9,
   "id": "dietary-samuel",
   "metadata": {},
   "outputs": [
    {
     "name": "stdout",
     "output_type": "stream",
     "text": [
      "Training accuracy logistic_model_l2:  0.7817982456140351\n",
      "Test accuracy logistic_model_l2:  0.6052631578947368\n"
     ]
    }
   ],
   "source": [
    "logistic_model_l2 = LogisticRegression(penalty='l2',random_state=0).fit(X_train_flat, Y_train)\n",
    "print('Training accuracy logistic_model_l2: ', logistic_model_l2.score(X_train_flat, Y_train))\n",
    "print('Test accuracy logistic_model_l2: ', logistic_model_l2.score(X_test_flat, Y_test))"
   ]
  },
  {
   "cell_type": "markdown",
   "id": "acute-payroll",
   "metadata": {},
   "source": [
    "L1 regularization:"
   ]
  },
  {
   "cell_type": "code",
   "execution_count": 10,
   "id": "sophisticated-tenant",
   "metadata": {},
   "outputs": [
    {
     "name": "stdout",
     "output_type": "stream",
     "text": [
      "Training accuracy logistic_model_l1:  0.7741228070175439\n",
      "Test accuracy logistic_model_l1:  0.6008771929824561\n"
     ]
    },
    {
     "name": "stderr",
     "output_type": "stream",
     "text": [
      "/Users/jiaweima/miniconda3/lib/python3.8/site-packages/sklearn/linear_model/_sag.py:329: ConvergenceWarning: The max_iter was reached which means the coef_ did not converge\n",
      "  warnings.warn(\"The max_iter was reached which means \"\n"
     ]
    }
   ],
   "source": [
    "logistic_model_l1 = LogisticRegression(penalty='l1',random_state=0, solver='saga').fit(X_train_flat, Y_train)\n",
    "print('Training accuracy logistic_model_l1: ', logistic_model_l1.score(X_train_flat, Y_train))\n",
    "print('Test accuracy logistic_model_l1: ', logistic_model_l1.score(X_test_flat, Y_test))"
   ]
  },
  {
   "cell_type": "markdown",
   "id": "refined-tourism",
   "metadata": {},
   "source": [
    "Elasticnet regularization:"
   ]
  },
  {
   "cell_type": "code",
   "execution_count": 11,
   "id": "average-anderson",
   "metadata": {},
   "outputs": [
    {
     "name": "stdout",
     "output_type": "stream",
     "text": [
      "Training accuracy logistic_model_elastic:  0.7796052631578947\n",
      "Test accuracy logistic_model_elastic:  0.6008771929824561\n"
     ]
    },
    {
     "name": "stderr",
     "output_type": "stream",
     "text": [
      "/Users/jiaweima/miniconda3/lib/python3.8/site-packages/sklearn/linear_model/_sag.py:329: ConvergenceWarning: The max_iter was reached which means the coef_ did not converge\n",
      "  warnings.warn(\"The max_iter was reached which means \"\n"
     ]
    }
   ],
   "source": [
    "logistic_model_elastic = LogisticRegression(penalty='elasticnet',random_state=0, solver='saga',\n",
    "                                           l1_ratio=0.5).fit(X_train_flat, Y_train)\n",
    "print('Training accuracy logistic_model_elastic: ', logistic_model_elastic.score(X_train_flat, Y_train))\n",
    "print('Test accuracy logistic_model_elastic: ', logistic_model_elastic.score(X_test_flat, Y_test))"
   ]
  },
  {
   "cell_type": "markdown",
   "id": "statistical-object",
   "metadata": {},
   "source": [
    "Data dimension too high... The models cannot be optimized."
   ]
  },
  {
   "cell_type": "markdown",
   "id": "corporate-serve",
   "metadata": {},
   "source": [
    "### Support Vector Machines using CV"
   ]
  },
  {
   "cell_type": "code",
   "execution_count": 12,
   "id": "answering-academy",
   "metadata": {},
   "outputs": [],
   "source": [
    "from sklearn import svm\n",
    "from sklearn.model_selection import GridSearchCV"
   ]
  },
  {
   "cell_type": "code",
   "execution_count": 13,
   "id": "continuous-chancellor",
   "metadata": {},
   "outputs": [
    {
     "name": "stdout",
     "output_type": "stream",
     "text": [
      "0.7478352248844052 {'kernel': 'sigmoid'}\n",
      "Test accuracy svm_model:  0.6052631578947368\n"
     ]
    }
   ],
   "source": [
    "parameters = {'kernel':['linear', 'poly', 'rbf', 'sigmoid']}\n",
    "grid_model = GridSearchCV(svm.SVC(), parameters, n_jobs=4)\n",
    "grid_model.fit(X=X_train_flat, y=Y_train)\n",
    "svm_model = grid_model.best_estimator_\n",
    "print (grid_model.best_score_, grid_model.best_params_)\n",
    "print('Test accuracy svm_model: ', svm_model.score(X_test_flat, Y_test))"
   ]
  },
  {
   "cell_type": "markdown",
   "id": "attached-armstrong",
   "metadata": {},
   "source": [
    "### Decision Tree with CV"
   ]
  },
  {
   "cell_type": "code",
   "execution_count": 15,
   "id": "visible-private",
   "metadata": {},
   "outputs": [],
   "source": [
    "from sklearn import tree"
   ]
  },
  {
   "cell_type": "code",
   "execution_count": 16,
   "id": "recent-sense",
   "metadata": {},
   "outputs": [
    {
     "name": "stdout",
     "output_type": "stream",
     "text": [
      "0.7731039452350927 {'max_depth': 2}\n"
     ]
    }
   ],
   "source": [
    "parameters = {'max_depth':range(1,50)}\n",
    "grid_model = GridSearchCV(tree.DecisionTreeClassifier(), parameters, n_jobs=4)\n",
    "grid_model.fit(X=X_train_flat, y=Y_train)\n",
    "tree_model = grid_model.best_estimator_\n",
    "print (grid_model.best_score_, grid_model.best_params_)"
   ]
  },
  {
   "cell_type": "code",
   "execution_count": 17,
   "id": "smooth-journal",
   "metadata": {},
   "outputs": [
    {
     "data": {
      "text/plain": [
       "0.6008771929824561"
      ]
     },
     "execution_count": 17,
     "metadata": {},
     "output_type": "execute_result"
    }
   ],
   "source": [
    "tree_model.score(X_test_flat, Y_test)"
   ]
  },
  {
   "cell_type": "code",
   "execution_count": 18,
   "id": "quarterly-mustang",
   "metadata": {},
   "outputs": [
    {
     "data": {
      "image/svg+xml": [
       "<?xml version=\"1.0\" encoding=\"UTF-8\" standalone=\"no\"?>\n",
       "<!DOCTYPE svg PUBLIC \"-//W3C//DTD SVG 1.1//EN\"\n",
       " \"http://www.w3.org/Graphics/SVG/1.1/DTD/svg11.dtd\">\n",
       "<!-- Generated by graphviz version 2.40.1 (20161225.0304)\n",
       " -->\n",
       "<!-- Title: Tree Pages: 1 -->\n",
       "<svg width=\"511pt\" height=\"314pt\"\n",
       " viewBox=\"0.00 0.00 511.00 314.00\" xmlns=\"http://www.w3.org/2000/svg\" xmlns:xlink=\"http://www.w3.org/1999/xlink\">\n",
       "<g id=\"graph0\" class=\"graph\" transform=\"scale(1 1) rotate(0) translate(4 310)\">\n",
       "<title>Tree</title>\n",
       "<polygon fill=\"#ffffff\" stroke=\"transparent\" points=\"-4,4 -4,-310 507,-310 507,4 -4,4\"/>\n",
       "<!-- 0 -->\n",
       "<g id=\"node1\" class=\"node\">\n",
       "<title>0</title>\n",
       "<polygon fill=\"none\" stroke=\"#000000\" points=\"302,-306 182,-306 182,-223 302,-223 302,-306\"/>\n",
       "<text text-anchor=\"middle\" x=\"242\" y=\"-290.8\" font-family=\"Times,serif\" font-size=\"14.00\" fill=\"#000000\">X[38] &lt;= &#45;1.047</text>\n",
       "<text text-anchor=\"middle\" x=\"242\" y=\"-275.8\" font-family=\"Times,serif\" font-size=\"14.00\" fill=\"#000000\">gini = 0.472</text>\n",
       "<text text-anchor=\"middle\" x=\"242\" y=\"-260.8\" font-family=\"Times,serif\" font-size=\"14.00\" fill=\"#000000\">samples = 912</text>\n",
       "<text text-anchor=\"middle\" x=\"242\" y=\"-245.8\" font-family=\"Times,serif\" font-size=\"14.00\" fill=\"#000000\">value = [563, 349]</text>\n",
       "<text text-anchor=\"middle\" x=\"242\" y=\"-230.8\" font-family=\"Times,serif\" font-size=\"14.00\" fill=\"#000000\">class = 0</text>\n",
       "</g>\n",
       "<!-- 1 -->\n",
       "<g id=\"node2\" class=\"node\">\n",
       "<title>1</title>\n",
       "<polygon fill=\"none\" stroke=\"#000000\" points=\"231.5,-187 118.5,-187 118.5,-104 231.5,-104 231.5,-187\"/>\n",
       "<text text-anchor=\"middle\" x=\"175\" y=\"-171.8\" font-family=\"Times,serif\" font-size=\"14.00\" fill=\"#000000\">X[2] &lt;= 0.518</text>\n",
       "<text text-anchor=\"middle\" x=\"175\" y=\"-156.8\" font-family=\"Times,serif\" font-size=\"14.00\" fill=\"#000000\">gini = 0.095</text>\n",
       "<text text-anchor=\"middle\" x=\"175\" y=\"-141.8\" font-family=\"Times,serif\" font-size=\"14.00\" fill=\"#000000\">samples = 359</text>\n",
       "<text text-anchor=\"middle\" x=\"175\" y=\"-126.8\" font-family=\"Times,serif\" font-size=\"14.00\" fill=\"#000000\">value = [341, 18]</text>\n",
       "<text text-anchor=\"middle\" x=\"175\" y=\"-111.8\" font-family=\"Times,serif\" font-size=\"14.00\" fill=\"#000000\">class = 0</text>\n",
       "</g>\n",
       "<!-- 0&#45;&gt;1 -->\n",
       "<g id=\"edge1\" class=\"edge\">\n",
       "<title>0&#45;&gt;1</title>\n",
       "<path fill=\"none\" stroke=\"#000000\" d=\"M218.5667,-222.8796C213.6987,-214.2335 208.5181,-205.0322 203.4914,-196.1042\"/>\n",
       "<polygon fill=\"#000000\" stroke=\"#000000\" points=\"206.4893,-194.2947 198.5334,-187.2981 200.3897,-197.729 206.4893,-194.2947\"/>\n",
       "<text text-anchor=\"middle\" x=\"191.8022\" y=\"-207.6749\" font-family=\"Times,serif\" font-size=\"14.00\" fill=\"#000000\">True</text>\n",
       "</g>\n",
       "<!-- 4 -->\n",
       "<g id=\"node5\" class=\"node\">\n",
       "<title>4</title>\n",
       "<polygon fill=\"none\" stroke=\"#000000\" points=\"370,-187 250,-187 250,-104 370,-104 370,-187\"/>\n",
       "<text text-anchor=\"middle\" x=\"310\" y=\"-171.8\" font-family=\"Times,serif\" font-size=\"14.00\" fill=\"#000000\">X[4] &lt;= 0.478</text>\n",
       "<text text-anchor=\"middle\" x=\"310\" y=\"-156.8\" font-family=\"Times,serif\" font-size=\"14.00\" fill=\"#000000\">gini = 0.481</text>\n",
       "<text text-anchor=\"middle\" x=\"310\" y=\"-141.8\" font-family=\"Times,serif\" font-size=\"14.00\" fill=\"#000000\">samples = 553</text>\n",
       "<text text-anchor=\"middle\" x=\"310\" y=\"-126.8\" font-family=\"Times,serif\" font-size=\"14.00\" fill=\"#000000\">value = [222, 331]</text>\n",
       "<text text-anchor=\"middle\" x=\"310\" y=\"-111.8\" font-family=\"Times,serif\" font-size=\"14.00\" fill=\"#000000\">class = 1</text>\n",
       "</g>\n",
       "<!-- 0&#45;&gt;4 -->\n",
       "<g id=\"edge4\" class=\"edge\">\n",
       "<title>0&#45;&gt;4</title>\n",
       "<path fill=\"none\" stroke=\"#000000\" d=\"M265.7831,-222.8796C270.7237,-214.2335 275.9816,-205.0322 281.0833,-196.1042\"/>\n",
       "<polygon fill=\"#000000\" stroke=\"#000000\" points=\"284.1928,-197.717 286.1154,-187.2981 278.1151,-194.244 284.1928,-197.717\"/>\n",
       "<text text-anchor=\"middle\" x=\"292.6933\" y=\"-207.7172\" font-family=\"Times,serif\" font-size=\"14.00\" fill=\"#000000\">False</text>\n",
       "</g>\n",
       "<!-- 2 -->\n",
       "<g id=\"node3\" class=\"node\">\n",
       "<title>2</title>\n",
       "<polygon fill=\"none\" stroke=\"#000000\" points=\"106,-68 0,-68 0,0 106,0 106,-68\"/>\n",
       "<text text-anchor=\"middle\" x=\"53\" y=\"-52.8\" font-family=\"Times,serif\" font-size=\"14.00\" fill=\"#000000\">gini = 0.035</text>\n",
       "<text text-anchor=\"middle\" x=\"53\" y=\"-37.8\" font-family=\"Times,serif\" font-size=\"14.00\" fill=\"#000000\">samples = 335</text>\n",
       "<text text-anchor=\"middle\" x=\"53\" y=\"-22.8\" font-family=\"Times,serif\" font-size=\"14.00\" fill=\"#000000\">value = [329, 6]</text>\n",
       "<text text-anchor=\"middle\" x=\"53\" y=\"-7.8\" font-family=\"Times,serif\" font-size=\"14.00\" fill=\"#000000\">class = 0</text>\n",
       "</g>\n",
       "<!-- 1&#45;&gt;2 -->\n",
       "<g id=\"edge2\" class=\"edge\">\n",
       "<title>1&#45;&gt;2</title>\n",
       "<path fill=\"none\" stroke=\"#000000\" d=\"M129.5717,-103.9815C119.2139,-94.5151 108.2141,-84.462 97.8794,-75.0168\"/>\n",
       "<polygon fill=\"#000000\" stroke=\"#000000\" points=\"100.2331,-72.4264 90.4903,-68.2637 95.5107,-77.5935 100.2331,-72.4264\"/>\n",
       "</g>\n",
       "<!-- 3 -->\n",
       "<g id=\"node4\" class=\"node\">\n",
       "<title>3</title>\n",
       "<polygon fill=\"none\" stroke=\"#000000\" points=\"230,-68 124,-68 124,0 230,0 230,-68\"/>\n",
       "<text text-anchor=\"middle\" x=\"177\" y=\"-52.8\" font-family=\"Times,serif\" font-size=\"14.00\" fill=\"#000000\">gini = 0.5</text>\n",
       "<text text-anchor=\"middle\" x=\"177\" y=\"-37.8\" font-family=\"Times,serif\" font-size=\"14.00\" fill=\"#000000\">samples = 24</text>\n",
       "<text text-anchor=\"middle\" x=\"177\" y=\"-22.8\" font-family=\"Times,serif\" font-size=\"14.00\" fill=\"#000000\">value = [12, 12]</text>\n",
       "<text text-anchor=\"middle\" x=\"177\" y=\"-7.8\" font-family=\"Times,serif\" font-size=\"14.00\" fill=\"#000000\">class = 0</text>\n",
       "</g>\n",
       "<!-- 1&#45;&gt;3 -->\n",
       "<g id=\"edge3\" class=\"edge\">\n",
       "<title>1&#45;&gt;3</title>\n",
       "<path fill=\"none\" stroke=\"#000000\" d=\"M175.7447,-103.9815C175.8947,-95.618 176.053,-86.7965 176.2046,-78.3409\"/>\n",
       "<polygon fill=\"#000000\" stroke=\"#000000\" points=\"179.7054,-78.3249 176.3854,-68.2637 172.7065,-78.1993 179.7054,-78.3249\"/>\n",
       "</g>\n",
       "<!-- 5 -->\n",
       "<g id=\"node6\" class=\"node\">\n",
       "<title>5</title>\n",
       "<polygon fill=\"none\" stroke=\"#000000\" points=\"364.5,-68 251.5,-68 251.5,0 364.5,0 364.5,-68\"/>\n",
       "<text text-anchor=\"middle\" x=\"308\" y=\"-52.8\" font-family=\"Times,serif\" font-size=\"14.00\" fill=\"#000000\">gini = 0.482</text>\n",
       "<text text-anchor=\"middle\" x=\"308\" y=\"-37.8\" font-family=\"Times,serif\" font-size=\"14.00\" fill=\"#000000\">samples = 195</text>\n",
       "<text text-anchor=\"middle\" x=\"308\" y=\"-22.8\" font-family=\"Times,serif\" font-size=\"14.00\" fill=\"#000000\">value = [116, 79]</text>\n",
       "<text text-anchor=\"middle\" x=\"308\" y=\"-7.8\" font-family=\"Times,serif\" font-size=\"14.00\" fill=\"#000000\">class = 0</text>\n",
       "</g>\n",
       "<!-- 4&#45;&gt;5 -->\n",
       "<g id=\"edge5\" class=\"edge\">\n",
       "<title>4&#45;&gt;5</title>\n",
       "<path fill=\"none\" stroke=\"#000000\" d=\"M309.2553,-103.9815C309.1053,-95.618 308.947,-86.7965 308.7954,-78.3409\"/>\n",
       "<polygon fill=\"#000000\" stroke=\"#000000\" points=\"312.2935,-78.1993 308.6146,-68.2637 305.2946,-78.3249 312.2935,-78.1993\"/>\n",
       "</g>\n",
       "<!-- 6 -->\n",
       "<g id=\"node7\" class=\"node\">\n",
       "<title>6</title>\n",
       "<polygon fill=\"none\" stroke=\"#000000\" points=\"503,-68 383,-68 383,0 503,0 503,-68\"/>\n",
       "<text text-anchor=\"middle\" x=\"443\" y=\"-52.8\" font-family=\"Times,serif\" font-size=\"14.00\" fill=\"#000000\">gini = 0.417</text>\n",
       "<text text-anchor=\"middle\" x=\"443\" y=\"-37.8\" font-family=\"Times,serif\" font-size=\"14.00\" fill=\"#000000\">samples = 358</text>\n",
       "<text text-anchor=\"middle\" x=\"443\" y=\"-22.8\" font-family=\"Times,serif\" font-size=\"14.00\" fill=\"#000000\">value = [106, 252]</text>\n",
       "<text text-anchor=\"middle\" x=\"443\" y=\"-7.8\" font-family=\"Times,serif\" font-size=\"14.00\" fill=\"#000000\">class = 1</text>\n",
       "</g>\n",
       "<!-- 4&#45;&gt;6 -->\n",
       "<g id=\"edge6\" class=\"edge\">\n",
       "<title>4&#45;&gt;6</title>\n",
       "<path fill=\"none\" stroke=\"#000000\" d=\"M359.5243,-103.9815C370.9257,-94.4232 383.0405,-84.2668 394.4021,-74.7419\"/>\n",
       "<polygon fill=\"#000000\" stroke=\"#000000\" points=\"396.7147,-77.3704 402.1294,-68.2637 392.2175,-72.006 396.7147,-77.3704\"/>\n",
       "</g>\n",
       "</g>\n",
       "</svg>\n"
      ],
      "text/plain": [
       "<graphviz.files.Source at 0x7fb38690b850>"
      ]
     },
     "execution_count": 18,
     "metadata": {},
     "output_type": "execute_result"
    }
   ],
   "source": [
    "import graphviz\n",
    "dot_data = tree.export_graphviz(tree_model, class_names=['0', '1'])\n",
    "graph = graphviz.Source(dot_data)\n",
    "graph"
   ]
  },
  {
   "cell_type": "markdown",
   "id": "organized-exercise",
   "metadata": {},
   "source": [
    "Save it as .png:"
   ]
  },
  {
   "cell_type": "code",
   "execution_count": 19,
   "id": "collaborative-alabama",
   "metadata": {},
   "outputs": [],
   "source": [
    "import pydot\n",
    "(graph,) = pydot.graph_from_dot_data(dot_data)\n",
    "graph.write_png('decision_tree_timestamp.png')"
   ]
  },
  {
   "cell_type": "markdown",
   "id": "periodic-orlando",
   "metadata": {},
   "source": [
    "### Random Forest with CV"
   ]
  },
  {
   "cell_type": "code",
   "execution_count": 20,
   "id": "prerequisite-chest",
   "metadata": {},
   "outputs": [],
   "source": [
    "from sklearn.ensemble import RandomForestClassifier"
   ]
  },
  {
   "cell_type": "code",
   "execution_count": 21,
   "id": "dried-slovenia",
   "metadata": {},
   "outputs": [
    {
     "name": "stdout",
     "output_type": "stream",
     "text": [
      "0.7620728997778178 {'max_depth': 2, 'n_estimators': 6}\n"
     ]
    }
   ],
   "source": [
    "parameters = {'max_depth':range(1,20), 'n_estimators':range(1,30)}\n",
    "grid_model = GridSearchCV(RandomForestClassifier(), parameters, n_jobs=4)\n",
    "grid_model.fit(X=X_train_flat, y=Y_train)\n",
    "forest_model = grid_model.best_estimator_\n",
    "print (grid_model.best_score_, grid_model.best_params_)"
   ]
  },
  {
   "cell_type": "code",
   "execution_count": 22,
   "id": "union-sydney",
   "metadata": {},
   "outputs": [
    {
     "data": {
      "text/plain": [
       "0.6140350877192983"
      ]
     },
     "execution_count": 22,
     "metadata": {},
     "output_type": "execute_result"
    }
   ],
   "source": [
    "forest_model.score(X_test_flat, Y_test)"
   ]
  },
  {
   "cell_type": "code",
   "execution_count": 23,
   "id": "private-short",
   "metadata": {},
   "outputs": [
    {
     "data": {
      "image/svg+xml": [
       "<?xml version=\"1.0\" encoding=\"UTF-8\" standalone=\"no\"?>\n",
       "<!DOCTYPE svg PUBLIC \"-//W3C//DTD SVG 1.1//EN\"\n",
       " \"http://www.w3.org/Graphics/SVG/1.1/DTD/svg11.dtd\">\n",
       "<!-- Generated by graphviz version 2.40.1 (20161225.0304)\n",
       " -->\n",
       "<!-- Title: Tree Pages: 1 -->\n",
       "<svg width=\"510pt\" height=\"314pt\"\n",
       " viewBox=\"0.00 0.00 509.50 314.00\" xmlns=\"http://www.w3.org/2000/svg\" xmlns:xlink=\"http://www.w3.org/1999/xlink\">\n",
       "<g id=\"graph0\" class=\"graph\" transform=\"scale(1 1) rotate(0) translate(4 310)\">\n",
       "<title>Tree</title>\n",
       "<polygon fill=\"#ffffff\" stroke=\"transparent\" points=\"-4,4 -4,-310 505.5,-310 505.5,4 -4,4\"/>\n",
       "<!-- 0 -->\n",
       "<g id=\"node1\" class=\"node\">\n",
       "<title>0</title>\n",
       "<polygon fill=\"none\" stroke=\"#000000\" points=\"310.5,-306 190.5,-306 190.5,-223 310.5,-223 310.5,-306\"/>\n",
       "<text text-anchor=\"middle\" x=\"250.5\" y=\"-290.8\" font-family=\"Times,serif\" font-size=\"14.00\" fill=\"#000000\">X[39] &lt;= &#45;0.251</text>\n",
       "<text text-anchor=\"middle\" x=\"250.5\" y=\"-275.8\" font-family=\"Times,serif\" font-size=\"14.00\" fill=\"#000000\">gini = 0.468</text>\n",
       "<text text-anchor=\"middle\" x=\"250.5\" y=\"-260.8\" font-family=\"Times,serif\" font-size=\"14.00\" fill=\"#000000\">samples = 577</text>\n",
       "<text text-anchor=\"middle\" x=\"250.5\" y=\"-245.8\" font-family=\"Times,serif\" font-size=\"14.00\" fill=\"#000000\">value = [571, 341]</text>\n",
       "<text text-anchor=\"middle\" x=\"250.5\" y=\"-230.8\" font-family=\"Times,serif\" font-size=\"14.00\" fill=\"#000000\">class = 0</text>\n",
       "</g>\n",
       "<!-- 1 -->\n",
       "<g id=\"node2\" class=\"node\">\n",
       "<title>1</title>\n",
       "<polygon fill=\"none\" stroke=\"#000000\" points=\"240,-187 127,-187 127,-104 240,-104 240,-187\"/>\n",
       "<text text-anchor=\"middle\" x=\"183.5\" y=\"-171.8\" font-family=\"Times,serif\" font-size=\"14.00\" fill=\"#000000\">X[4] &lt;= 0.449</text>\n",
       "<text text-anchor=\"middle\" x=\"183.5\" y=\"-156.8\" font-family=\"Times,serif\" font-size=\"14.00\" fill=\"#000000\">gini = 0.123</text>\n",
       "<text text-anchor=\"middle\" x=\"183.5\" y=\"-141.8\" font-family=\"Times,serif\" font-size=\"14.00\" fill=\"#000000\">samples = 221</text>\n",
       "<text text-anchor=\"middle\" x=\"183.5\" y=\"-126.8\" font-family=\"Times,serif\" font-size=\"14.00\" fill=\"#000000\">value = [326, 23]</text>\n",
       "<text text-anchor=\"middle\" x=\"183.5\" y=\"-111.8\" font-family=\"Times,serif\" font-size=\"14.00\" fill=\"#000000\">class = 0</text>\n",
       "</g>\n",
       "<!-- 0&#45;&gt;1 -->\n",
       "<g id=\"edge1\" class=\"edge\">\n",
       "<title>0&#45;&gt;1</title>\n",
       "<path fill=\"none\" stroke=\"#000000\" d=\"M227.0667,-222.8796C222.1987,-214.2335 217.0181,-205.0322 211.9914,-196.1042\"/>\n",
       "<polygon fill=\"#000000\" stroke=\"#000000\" points=\"214.9893,-194.2947 207.0334,-187.2981 208.8897,-197.729 214.9893,-194.2947\"/>\n",
       "<text text-anchor=\"middle\" x=\"200.3022\" y=\"-207.6749\" font-family=\"Times,serif\" font-size=\"14.00\" fill=\"#000000\">True</text>\n",
       "</g>\n",
       "<!-- 4 -->\n",
       "<g id=\"node5\" class=\"node\">\n",
       "<title>4</title>\n",
       "<polygon fill=\"none\" stroke=\"#000000\" points=\"378.5,-187 258.5,-187 258.5,-104 378.5,-104 378.5,-187\"/>\n",
       "<text text-anchor=\"middle\" x=\"318.5\" y=\"-171.8\" font-family=\"Times,serif\" font-size=\"14.00\" fill=\"#000000\">X[3] &lt;= 0.433</text>\n",
       "<text text-anchor=\"middle\" x=\"318.5\" y=\"-156.8\" font-family=\"Times,serif\" font-size=\"14.00\" fill=\"#000000\">gini = 0.492</text>\n",
       "<text text-anchor=\"middle\" x=\"318.5\" y=\"-141.8\" font-family=\"Times,serif\" font-size=\"14.00\" fill=\"#000000\">samples = 356</text>\n",
       "<text text-anchor=\"middle\" x=\"318.5\" y=\"-126.8\" font-family=\"Times,serif\" font-size=\"14.00\" fill=\"#000000\">value = [245, 318]</text>\n",
       "<text text-anchor=\"middle\" x=\"318.5\" y=\"-111.8\" font-family=\"Times,serif\" font-size=\"14.00\" fill=\"#000000\">class = 1</text>\n",
       "</g>\n",
       "<!-- 0&#45;&gt;4 -->\n",
       "<g id=\"edge4\" class=\"edge\">\n",
       "<title>0&#45;&gt;4</title>\n",
       "<path fill=\"none\" stroke=\"#000000\" d=\"M274.2831,-222.8796C279.2237,-214.2335 284.4816,-205.0322 289.5833,-196.1042\"/>\n",
       "<polygon fill=\"#000000\" stroke=\"#000000\" points=\"292.6928,-197.717 294.6154,-187.2981 286.6151,-194.244 292.6928,-197.717\"/>\n",
       "<text text-anchor=\"middle\" x=\"301.1933\" y=\"-207.7172\" font-family=\"Times,serif\" font-size=\"14.00\" fill=\"#000000\">False</text>\n",
       "</g>\n",
       "<!-- 2 -->\n",
       "<g id=\"node3\" class=\"node\">\n",
       "<title>2</title>\n",
       "<polygon fill=\"none\" stroke=\"#000000\" points=\"113,-68 0,-68 0,0 113,0 113,-68\"/>\n",
       "<text text-anchor=\"middle\" x=\"56.5\" y=\"-52.8\" font-family=\"Times,serif\" font-size=\"14.00\" fill=\"#000000\">gini = 0.078</text>\n",
       "<text text-anchor=\"middle\" x=\"56.5\" y=\"-37.8\" font-family=\"Times,serif\" font-size=\"14.00\" fill=\"#000000\">samples = 201</text>\n",
       "<text text-anchor=\"middle\" x=\"56.5\" y=\"-22.8\" font-family=\"Times,serif\" font-size=\"14.00\" fill=\"#000000\">value = [306, 13]</text>\n",
       "<text text-anchor=\"middle\" x=\"56.5\" y=\"-7.8\" font-family=\"Times,serif\" font-size=\"14.00\" fill=\"#000000\">class = 0</text>\n",
       "</g>\n",
       "<!-- 1&#45;&gt;2 -->\n",
       "<g id=\"edge2\" class=\"edge\">\n",
       "<title>1&#45;&gt;2</title>\n",
       "<path fill=\"none\" stroke=\"#000000\" d=\"M136.2099,-103.9815C125.4275,-94.5151 113.977,-84.462 103.2187,-75.0168\"/>\n",
       "<polygon fill=\"#000000\" stroke=\"#000000\" points=\"105.3507,-72.2311 95.5268,-68.2637 100.7324,-77.4915 105.3507,-72.2311\"/>\n",
       "</g>\n",
       "<!-- 3 -->\n",
       "<g id=\"node4\" class=\"node\">\n",
       "<title>3</title>\n",
       "<polygon fill=\"none\" stroke=\"#000000\" points=\"237.5,-68 131.5,-68 131.5,0 237.5,0 237.5,-68\"/>\n",
       "<text text-anchor=\"middle\" x=\"184.5\" y=\"-52.8\" font-family=\"Times,serif\" font-size=\"14.00\" fill=\"#000000\">gini = 0.444</text>\n",
       "<text text-anchor=\"middle\" x=\"184.5\" y=\"-37.8\" font-family=\"Times,serif\" font-size=\"14.00\" fill=\"#000000\">samples = 20</text>\n",
       "<text text-anchor=\"middle\" x=\"184.5\" y=\"-22.8\" font-family=\"Times,serif\" font-size=\"14.00\" fill=\"#000000\">value = [20, 10]</text>\n",
       "<text text-anchor=\"middle\" x=\"184.5\" y=\"-7.8\" font-family=\"Times,serif\" font-size=\"14.00\" fill=\"#000000\">class = 0</text>\n",
       "</g>\n",
       "<!-- 1&#45;&gt;3 -->\n",
       "<g id=\"edge3\" class=\"edge\">\n",
       "<title>1&#45;&gt;3</title>\n",
       "<path fill=\"none\" stroke=\"#000000\" d=\"M183.8724,-103.9815C183.9474,-95.618 184.0265,-86.7965 184.1023,-78.3409\"/>\n",
       "<polygon fill=\"#000000\" stroke=\"#000000\" points=\"187.6028,-78.2947 184.1927,-68.2637 180.6031,-78.2318 187.6028,-78.2947\"/>\n",
       "</g>\n",
       "<!-- 5 -->\n",
       "<g id=\"node6\" class=\"node\">\n",
       "<title>5</title>\n",
       "<polygon fill=\"none\" stroke=\"#000000\" points=\"377.5,-68 257.5,-68 257.5,0 377.5,0 377.5,-68\"/>\n",
       "<text text-anchor=\"middle\" x=\"317.5\" y=\"-52.8\" font-family=\"Times,serif\" font-size=\"14.00\" fill=\"#000000\">gini = 0.498</text>\n",
       "<text text-anchor=\"middle\" x=\"317.5\" y=\"-37.8\" font-family=\"Times,serif\" font-size=\"14.00\" fill=\"#000000\">samples = 312</text>\n",
       "<text text-anchor=\"middle\" x=\"317.5\" y=\"-22.8\" font-family=\"Times,serif\" font-size=\"14.00\" fill=\"#000000\">value = [232, 265]</text>\n",
       "<text text-anchor=\"middle\" x=\"317.5\" y=\"-7.8\" font-family=\"Times,serif\" font-size=\"14.00\" fill=\"#000000\">class = 1</text>\n",
       "</g>\n",
       "<!-- 4&#45;&gt;5 -->\n",
       "<g id=\"edge5\" class=\"edge\">\n",
       "<title>4&#45;&gt;5</title>\n",
       "<path fill=\"none\" stroke=\"#000000\" d=\"M318.1276,-103.9815C318.0526,-95.618 317.9735,-86.7965 317.8977,-78.3409\"/>\n",
       "<polygon fill=\"#000000\" stroke=\"#000000\" points=\"321.3969,-78.2318 317.8073,-68.2637 314.3972,-78.2947 321.3969,-78.2318\"/>\n",
       "</g>\n",
       "<!-- 6 -->\n",
       "<g id=\"node7\" class=\"node\">\n",
       "<title>6</title>\n",
       "<polygon fill=\"none\" stroke=\"#000000\" points=\"501.5,-68 395.5,-68 395.5,0 501.5,0 501.5,-68\"/>\n",
       "<text text-anchor=\"middle\" x=\"448.5\" y=\"-52.8\" font-family=\"Times,serif\" font-size=\"14.00\" fill=\"#000000\">gini = 0.316</text>\n",
       "<text text-anchor=\"middle\" x=\"448.5\" y=\"-37.8\" font-family=\"Times,serif\" font-size=\"14.00\" fill=\"#000000\">samples = 44</text>\n",
       "<text text-anchor=\"middle\" x=\"448.5\" y=\"-22.8\" font-family=\"Times,serif\" font-size=\"14.00\" fill=\"#000000\">value = [13, 53]</text>\n",
       "<text text-anchor=\"middle\" x=\"448.5\" y=\"-7.8\" font-family=\"Times,serif\" font-size=\"14.00\" fill=\"#000000\">class = 1</text>\n",
       "</g>\n",
       "<!-- 4&#45;&gt;6 -->\n",
       "<g id=\"edge6\" class=\"edge\">\n",
       "<title>4&#45;&gt;6</title>\n",
       "<path fill=\"none\" stroke=\"#000000\" d=\"M366.9072,-103.9815C377.9442,-94.5151 389.6653,-84.462 400.6777,-75.0168\"/>\n",
       "<polygon fill=\"#000000\" stroke=\"#000000\" points=\"403.2394,-77.4307 408.5513,-68.2637 398.6822,-72.1173 403.2394,-77.4307\"/>\n",
       "</g>\n",
       "</g>\n",
       "</svg>\n"
      ],
      "text/plain": [
       "<graphviz.files.Source at 0x7fb38742bd30>"
      ]
     },
     "execution_count": 23,
     "metadata": {},
     "output_type": "execute_result"
    }
   ],
   "source": [
    "estimator = forest_model.estimators_[0]\n",
    "dot_data = tree.export_graphviz(estimator, class_names=['0', '1'])\n",
    "graph = graphviz.Source(dot_data)\n",
    "graph"
   ]
  },
  {
   "cell_type": "markdown",
   "id": "smart-lodging",
   "metadata": {},
   "source": [
    "Save it as .png:"
   ]
  },
  {
   "cell_type": "code",
   "execution_count": 24,
   "id": "timely-tolerance",
   "metadata": {},
   "outputs": [],
   "source": [
    "(graph,) = pydot.graph_from_dot_data(dot_data)\n",
    "graph.write_png('random_forest_0_timestamp.png')"
   ]
  },
  {
   "cell_type": "markdown",
   "id": "worthy-fighter",
   "metadata": {},
   "source": [
    "Plot importances:"
   ]
  },
  {
   "cell_type": "code",
   "execution_count": 37,
   "id": "female-quarter",
   "metadata": {},
   "outputs": [
    {
     "name": "stdout",
     "output_type": "stream",
     "text": [
      "Feature ranking:\n",
      "1. feature 39 (0.329468)\n",
      "2. feature 38 (0.294619)\n",
      "3. feature 4 (0.152184)\n",
      "4. feature 24 (0.141857)\n",
      "5. feature 6 (0.025211)\n",
      "6. feature 3 (0.024238)\n",
      "7. feature 36 (0.015906)\n",
      "8. feature 8 (0.009665)\n",
      "9. feature 1 (0.003837)\n",
      "10. feature 16 (0.003015)\n",
      "11. feature 7 (0.000000)\n",
      "12. feature 17 (0.000000)\n",
      "13. feature 5 (0.000000)\n",
      "14. feature 10 (0.000000)\n",
      "15. feature 11 (0.000000)\n",
      "16. feature 12 (0.000000)\n",
      "17. feature 2 (0.000000)\n",
      "18. feature 13 (0.000000)\n",
      "19. feature 14 (0.000000)\n",
      "20. feature 15 (0.000000)\n",
      "21. feature 9 (0.000000)\n",
      "22. feature 19 (0.000000)\n",
      "23. feature 18 (0.000000)\n",
      "24. feature 20 (0.000000)\n",
      "25. feature 37 (0.000000)\n",
      "26. feature 35 (0.000000)\n",
      "27. feature 34 (0.000000)\n",
      "28. feature 33 (0.000000)\n",
      "29. feature 32 (0.000000)\n",
      "30. feature 31 (0.000000)\n",
      "31. feature 30 (0.000000)\n",
      "32. feature 29 (0.000000)\n",
      "33. feature 28 (0.000000)\n",
      "34. feature 27 (0.000000)\n",
      "35. feature 26 (0.000000)\n",
      "36. feature 25 (0.000000)\n",
      "37. feature 23 (0.000000)\n",
      "38. feature 22 (0.000000)\n",
      "39. feature 21 (0.000000)\n",
      "40. feature 0 (0.000000)\n"
     ]
    },
    {
     "data": {
      "image/png": "[encoded data removed]",
      "text/plain": [
       "<Figure size 432x288 with 1 Axes>"
      ]
     },
     "metadata": {
      "needs_background": "light"
     },
     "output_type": "display_data"
    }
   ],
   "source": [
    "import matplotlib.pyplot as plt\n",
    "importances = forest_model.feature_importances_\n",
    "indices = np.argsort(importances)[::-1]\n",
    "\n",
    "# Print the feature ranking\n",
    "print(\"Feature ranking:\")\n",
    "\n",
    "for f in range(X_train_flat.shape[1]):\n",
    "    print(\"%d. feature %d (%f)\" % (f + 1, indices[f], importances[indices[f]]))\n",
    "\n",
    "# Plot the impurity-based feature importances of the forest\n",
    "plt.figure()\n",
    "plt.title(\"Random Forest: feature importances\")\n",
    "plt.bar(range(X_train_flat.shape[1]), importances[indices],\n",
    "        color=\"blue\", align=\"center\")\n",
    "plt.xticks(range(X_train_flat.shape[1]), indices)\n",
    "plt.xlim([-1, X_train_flat.shape[1]])\n",
    "plt.savefig('random_forest_importance_timestamp.png')\n",
    "plt.show()"
   ]
  },
  {
   "cell_type": "markdown",
   "id": "geological-brush",
   "metadata": {},
   "source": [
    "What we've obtained so far are very similar to the case without timestamp information, this implies that these additional information didn't help to improve the models."
   ]
  },
  {
   "cell_type": "markdown",
   "id": "addressed-noise",
   "metadata": {},
   "source": [
    "### Gradient Boost Model with CV"
   ]
  },
  {
   "cell_type": "code",
   "execution_count": 7,
   "id": "pleased-briefs",
   "metadata": {},
   "outputs": [],
   "source": [
    "from sklearn.ensemble import GradientBoostingClassifier"
   ]
  },
  {
   "cell_type": "code",
   "execution_count": 11,
   "id": "compliant-bangkok",
   "metadata": {},
   "outputs": [
    {
     "name": "stdout",
     "output_type": "stream",
     "text": [
      "0.7412778478352249 {'learning_rate': 0.01, 'max_depth': 3}\n"
     ]
    }
   ],
   "source": [
    "parameters = {'max_depth':range(2,10), 'learning_rate':[0.1,0.01, 1e-3]}\n",
    "grid_model = GridSearchCV(GradientBoostingClassifier(), parameters, n_jobs=4)\n",
    "grid_model.fit(X=X_train_flat, y=Y_train)\n",
    "GB_model = grid_model.best_estimator_\n",
    "print (grid_model.best_score_, grid_model.best_params_)"
   ]
  },
  {
   "cell_type": "code",
   "execution_count": 12,
   "id": "adjacent-barrel",
   "metadata": {},
   "outputs": [
    {
     "data": {
      "text/plain": [
       "0.5964912280701754"
      ]
     },
     "execution_count": 12,
     "metadata": {},
     "output_type": "execute_result"
    }
   ],
   "source": [
    "GB_model.score(X_test_flat, Y_test)"
   ]
  },
  {
   "cell_type": "code",
   "execution_count": 13,
   "id": "laughing-tumor",
   "metadata": {},
   "outputs": [
    {
     "name": "stdout",
     "output_type": "stream",
     "text": [
      "N trees:  100\n"
     ]
    }
   ],
   "source": [
    "print('N trees: ', GB_model.n_estimators_)"
   ]
  },
  {
   "cell_type": "code",
   "execution_count": 18,
   "id": "chronic-fireplace",
   "metadata": {},
   "outputs": [
    {
     "data": {
      "image/svg+xml": [
       "<?xml version=\"1.0\" encoding=\"UTF-8\" standalone=\"no\"?>\n",
       "<!DOCTYPE svg PUBLIC \"-//W3C//DTD SVG 1.1//EN\"\n",
       " \"http://www.w3.org/Graphics/SVG/1.1/DTD/svg11.dtd\">\n",
       "<!-- Generated by graphviz version 2.40.1 (20161225.0304)\n",
       " -->\n",
       "<!-- Title: Tree Pages: 1 -->\n",
       "<svg width=\"1272pt\" height=\"373pt\"\n",
       " viewBox=\"0.00 0.00 1272.00 373.00\" xmlns=\"http://www.w3.org/2000/svg\" xmlns:xlink=\"http://www.w3.org/1999/xlink\">\n",
       "<g id=\"graph0\" class=\"graph\" transform=\"scale(1 1) rotate(0) translate(4 369)\">\n",
       "<title>Tree</title>\n",
       "<polygon fill=\"#ffffff\" stroke=\"transparent\" points=\"-4,4 -4,-369 1268,-369 1268,4 -4,4\"/>\n",
       "<!-- 0 -->\n",
       "<g id=\"node1\" class=\"node\">\n",
       "<title>0</title>\n",
       "<polygon fill=\"none\" stroke=\"#000000\" points=\"706,-365 563,-365 563,-297 706,-297 706,-365\"/>\n",
       "<text text-anchor=\"middle\" x=\"634.5\" y=\"-349.8\" font-family=\"Times,serif\" font-size=\"14.00\" fill=\"#000000\">X[39] &lt;= &#45;0.251</text>\n",
       "<text text-anchor=\"middle\" x=\"634.5\" y=\"-334.8\" font-family=\"Times,serif\" font-size=\"14.00\" fill=\"#000000\">friedman_mse = 0.236</text>\n",
       "<text text-anchor=\"middle\" x=\"634.5\" y=\"-319.8\" font-family=\"Times,serif\" font-size=\"14.00\" fill=\"#000000\">samples = 912</text>\n",
       "<text text-anchor=\"middle\" x=\"634.5\" y=\"-304.8\" font-family=\"Times,serif\" font-size=\"14.00\" fill=\"#000000\">value = 0.0</text>\n",
       "</g>\n",
       "<!-- 1 -->\n",
       "<g id=\"node2\" class=\"node\">\n",
       "<title>1</title>\n",
       "<polygon fill=\"none\" stroke=\"#000000\" points=\"545,-261 402,-261 402,-193 545,-193 545,-261\"/>\n",
       "<text text-anchor=\"middle\" x=\"473.5\" y=\"-245.8\" font-family=\"Times,serif\" font-size=\"14.00\" fill=\"#000000\">X[2] &lt;= 0.518</text>\n",
       "<text text-anchor=\"middle\" x=\"473.5\" y=\"-230.8\" font-family=\"Times,serif\" font-size=\"14.00\" fill=\"#000000\">friedman_mse = 0.048</text>\n",
       "<text text-anchor=\"middle\" x=\"473.5\" y=\"-215.8\" font-family=\"Times,serif\" font-size=\"14.00\" fill=\"#000000\">samples = 359</text>\n",
       "<text text-anchor=\"middle\" x=\"473.5\" y=\"-200.8\" font-family=\"Times,serif\" font-size=\"14.00\" fill=\"#000000\">value = &#45;0.333</text>\n",
       "</g>\n",
       "<!-- 0&#45;&gt;1 -->\n",
       "<g id=\"edge1\" class=\"edge\">\n",
       "<title>0&#45;&gt;1</title>\n",
       "<path fill=\"none\" stroke=\"#000000\" d=\"M581.7826,-296.9465C566.7712,-287.2497 550.2906,-276.6039 534.8146,-266.6069\"/>\n",
       "<polygon fill=\"#000000\" stroke=\"#000000\" points=\"536.6349,-263.6161 526.3359,-261.13 532.8367,-269.496 536.6349,-263.6161\"/>\n",
       "<text text-anchor=\"middle\" x=\"531.593\" y=\"-281.871\" font-family=\"Times,serif\" font-size=\"14.00\" fill=\"#000000\">True</text>\n",
       "</g>\n",
       "<!-- 8 -->\n",
       "<g id=\"node9\" class=\"node\">\n",
       "<title>8</title>\n",
       "<polygon fill=\"none\" stroke=\"#000000\" points=\"862.5,-261 726.5,-261 726.5,-193 862.5,-193 862.5,-261\"/>\n",
       "<text text-anchor=\"middle\" x=\"794.5\" y=\"-245.8\" font-family=\"Times,serif\" font-size=\"14.00\" fill=\"#000000\">X[4] &lt;= 0.478</text>\n",
       "<text text-anchor=\"middle\" x=\"794.5\" y=\"-230.8\" font-family=\"Times,serif\" font-size=\"14.00\" fill=\"#000000\">friedman_mse = 0.24</text>\n",
       "<text text-anchor=\"middle\" x=\"794.5\" y=\"-215.8\" font-family=\"Times,serif\" font-size=\"14.00\" fill=\"#000000\">samples = 553</text>\n",
       "<text text-anchor=\"middle\" x=\"794.5\" y=\"-200.8\" font-family=\"Times,serif\" font-size=\"14.00\" fill=\"#000000\">value = 0.216</text>\n",
       "</g>\n",
       "<!-- 0&#45;&gt;8 -->\n",
       "<g id=\"edge8\" class=\"edge\">\n",
       "<title>0&#45;&gt;8</title>\n",
       "<path fill=\"none\" stroke=\"#000000\" d=\"M686.89,-296.9465C701.8082,-287.2497 718.1864,-276.6039 733.5662,-266.6069\"/>\n",
       "<polygon fill=\"#000000\" stroke=\"#000000\" points=\"735.5153,-269.5145 741.9923,-261.13 731.7004,-263.6454 735.5153,-269.5145\"/>\n",
       "<text text-anchor=\"middle\" x=\"736.8047\" y=\"-281.8858\" font-family=\"Times,serif\" font-size=\"14.00\" fill=\"#000000\">False</text>\n",
       "</g>\n",
       "<!-- 2 -->\n",
       "<g id=\"node3\" class=\"node\">\n",
       "<title>2</title>\n",
       "<polygon fill=\"none\" stroke=\"#000000\" points=\"304,-157 161,-157 161,-89 304,-89 304,-157\"/>\n",
       "<text text-anchor=\"middle\" x=\"232.5\" y=\"-141.8\" font-family=\"Times,serif\" font-size=\"14.00\" fill=\"#000000\">X[10] &lt;= 0.864</text>\n",
       "<text text-anchor=\"middle\" x=\"232.5\" y=\"-126.8\" font-family=\"Times,serif\" font-size=\"14.00\" fill=\"#000000\">friedman_mse = 0.018</text>\n",
       "<text text-anchor=\"middle\" x=\"232.5\" y=\"-111.8\" font-family=\"Times,serif\" font-size=\"14.00\" fill=\"#000000\">samples = 335</text>\n",
       "<text text-anchor=\"middle\" x=\"232.5\" y=\"-96.8\" font-family=\"Times,serif\" font-size=\"14.00\" fill=\"#000000\">value = &#45;0.365</text>\n",
       "</g>\n",
       "<!-- 1&#45;&gt;2 -->\n",
       "<g id=\"edge2\" class=\"edge\">\n",
       "<title>1&#45;&gt;2</title>\n",
       "<path fill=\"none\" stroke=\"#000000\" d=\"M401.8446,-196.0782C374.1703,-184.1358 342.3587,-170.4079 313.8328,-158.098\"/>\n",
       "<polygon fill=\"#000000\" stroke=\"#000000\" points=\"314.8639,-154.731 304.2955,-153.9823 312.0903,-161.1581 314.8639,-154.731\"/>\n",
       "</g>\n",
       "<!-- 5 -->\n",
       "<g id=\"node6\" class=\"node\">\n",
       "<title>5</title>\n",
       "<polygon fill=\"none\" stroke=\"#000000\" points=\"541.5,-157 405.5,-157 405.5,-89 541.5,-89 541.5,-157\"/>\n",
       "<text text-anchor=\"middle\" x=\"473.5\" y=\"-141.8\" font-family=\"Times,serif\" font-size=\"14.00\" fill=\"#000000\">X[12] &lt;= 0.663</text>\n",
       "<text text-anchor=\"middle\" x=\"473.5\" y=\"-126.8\" font-family=\"Times,serif\" font-size=\"14.00\" fill=\"#000000\">friedman_mse = 0.25</text>\n",
       "<text text-anchor=\"middle\" x=\"473.5\" y=\"-111.8\" font-family=\"Times,serif\" font-size=\"14.00\" fill=\"#000000\">samples = 24</text>\n",
       "<text text-anchor=\"middle\" x=\"473.5\" y=\"-96.8\" font-family=\"Times,serif\" font-size=\"14.00\" fill=\"#000000\">value = 0.117</text>\n",
       "</g>\n",
       "<!-- 1&#45;&gt;5 -->\n",
       "<g id=\"edge5\" class=\"edge\">\n",
       "<title>1&#45;&gt;5</title>\n",
       "<path fill=\"none\" stroke=\"#000000\" d=\"M473.5,-192.9465C473.5,-184.776 473.5,-175.9318 473.5,-167.3697\"/>\n",
       "<polygon fill=\"#000000\" stroke=\"#000000\" points=\"477.0001,-167.13 473.5,-157.13 470.0001,-167.13 477.0001,-167.13\"/>\n",
       "</g>\n",
       "<!-- 3 -->\n",
       "<g id=\"node4\" class=\"node\">\n",
       "<title>3</title>\n",
       "<polygon fill=\"none\" stroke=\"#000000\" points=\"143,-53 0,-53 0,0 143,0 143,-53\"/>\n",
       "<text text-anchor=\"middle\" x=\"71.5\" y=\"-37.8\" font-family=\"Times,serif\" font-size=\"14.00\" fill=\"#000000\">friedman_mse = 0.003</text>\n",
       "<text text-anchor=\"middle\" x=\"71.5\" y=\"-22.8\" font-family=\"Times,serif\" font-size=\"14.00\" fill=\"#000000\">samples = 314</text>\n",
       "<text text-anchor=\"middle\" x=\"71.5\" y=\"-7.8\" font-family=\"Times,serif\" font-size=\"14.00\" fill=\"#000000\">value = &#45;1.606</text>\n",
       "</g>\n",
       "<!-- 2&#45;&gt;3 -->\n",
       "<g id=\"edge3\" class=\"edge\">\n",
       "<title>2&#45;&gt;3</title>\n",
       "<path fill=\"none\" stroke=\"#000000\" d=\"M175.7374,-88.9777C159.1614,-79.0424 141.1107,-68.2232 124.7598,-58.4228\"/>\n",
       "<polygon fill=\"#000000\" stroke=\"#000000\" points=\"126.2477,-55.2341 115.871,-53.095 122.6489,-61.2382 126.2477,-55.2341\"/>\n",
       "</g>\n",
       "<!-- 4 -->\n",
       "<g id=\"node5\" class=\"node\">\n",
       "<title>4</title>\n",
       "<polygon fill=\"none\" stroke=\"#000000\" points=\"304,-53 161,-53 161,0 304,0 304,-53\"/>\n",
       "<text text-anchor=\"middle\" x=\"232.5\" y=\"-37.8\" font-family=\"Times,serif\" font-size=\"14.00\" fill=\"#000000\">friedman_mse = 0.181</text>\n",
       "<text text-anchor=\"middle\" x=\"232.5\" y=\"-22.8\" font-family=\"Times,serif\" font-size=\"14.00\" fill=\"#000000\">samples = 21</text>\n",
       "<text text-anchor=\"middle\" x=\"232.5\" y=\"-7.8\" font-family=\"Times,serif\" font-size=\"14.00\" fill=\"#000000\">value = &#45;0.612</text>\n",
       "</g>\n",
       "<!-- 2&#45;&gt;4 -->\n",
       "<g id=\"edge4\" class=\"edge\">\n",
       "<title>2&#45;&gt;4</title>\n",
       "<path fill=\"none\" stroke=\"#000000\" d=\"M232.5,-88.9777C232.5,-80.7364 232.5,-71.887 232.5,-63.5153\"/>\n",
       "<polygon fill=\"#000000\" stroke=\"#000000\" points=\"236.0001,-63.2484 232.5,-53.2485 229.0001,-63.2485 236.0001,-63.2484\"/>\n",
       "</g>\n",
       "<!-- 6 -->\n",
       "<g id=\"node7\" class=\"node\">\n",
       "<title>6</title>\n",
       "<polygon fill=\"none\" stroke=\"#000000\" points=\"465,-53 322,-53 322,0 465,0 465,-53\"/>\n",
       "<text text-anchor=\"middle\" x=\"393.5\" y=\"-37.8\" font-family=\"Times,serif\" font-size=\"14.00\" fill=\"#000000\">friedman_mse = 0.215</text>\n",
       "<text text-anchor=\"middle\" x=\"393.5\" y=\"-22.8\" font-family=\"Times,serif\" font-size=\"14.00\" fill=\"#000000\">samples = 16</text>\n",
       "<text text-anchor=\"middle\" x=\"393.5\" y=\"-7.8\" font-family=\"Times,serif\" font-size=\"14.00\" fill=\"#000000\">value = &#45;0.297</text>\n",
       "</g>\n",
       "<!-- 5&#45;&gt;6 -->\n",
       "<g id=\"edge6\" class=\"edge\">\n",
       "<title>5&#45;&gt;6</title>\n",
       "<path fill=\"none\" stroke=\"#000000\" d=\"M445.295,-88.9777C437.7796,-79.9123 429.6542,-70.111 422.117,-61.0192\"/>\n",
       "<polygon fill=\"#000000\" stroke=\"#000000\" points=\"424.7516,-58.7133 415.6749,-53.2485 419.3626,-63.1808 424.7516,-58.7133\"/>\n",
       "</g>\n",
       "<!-- 7 -->\n",
       "<g id=\"node8\" class=\"node\">\n",
       "<title>7</title>\n",
       "<polygon fill=\"none\" stroke=\"#000000\" points=\"626,-53 483,-53 483,0 626,0 626,-53\"/>\n",
       "<text text-anchor=\"middle\" x=\"554.5\" y=\"-37.8\" font-family=\"Times,serif\" font-size=\"14.00\" fill=\"#000000\">friedman_mse = 0.109</text>\n",
       "<text text-anchor=\"middle\" x=\"554.5\" y=\"-22.8\" font-family=\"Times,serif\" font-size=\"14.00\" fill=\"#000000\">samples = 8</text>\n",
       "<text text-anchor=\"middle\" x=\"554.5\" y=\"-7.8\" font-family=\"Times,serif\" font-size=\"14.00\" fill=\"#000000\">value = 2.084</text>\n",
       "</g>\n",
       "<!-- 5&#45;&gt;7 -->\n",
       "<g id=\"edge7\" class=\"edge\">\n",
       "<title>5&#45;&gt;7</title>\n",
       "<path fill=\"none\" stroke=\"#000000\" d=\"M502.0576,-88.9777C509.6669,-79.9123 517.8939,-70.111 525.5253,-61.0192\"/>\n",
       "<polygon fill=\"#000000\" stroke=\"#000000\" points=\"528.2995,-63.1581 532.0479,-53.2485 522.938,-58.6577 528.2995,-63.1581\"/>\n",
       "</g>\n",
       "<!-- 9 -->\n",
       "<g id=\"node10\" class=\"node\">\n",
       "<title>9</title>\n",
       "<polygon fill=\"none\" stroke=\"#000000\" points=\"866,-157 723,-157 723,-89 866,-89 866,-157\"/>\n",
       "<text text-anchor=\"middle\" x=\"794.5\" y=\"-141.8\" font-family=\"Times,serif\" font-size=\"14.00\" fill=\"#000000\">X[4] &lt;= &#45;1.143</text>\n",
       "<text text-anchor=\"middle\" x=\"794.5\" y=\"-126.8\" font-family=\"Times,serif\" font-size=\"14.00\" fill=\"#000000\">friedman_mse = 0.241</text>\n",
       "<text text-anchor=\"middle\" x=\"794.5\" y=\"-111.8\" font-family=\"Times,serif\" font-size=\"14.00\" fill=\"#000000\">samples = 195</text>\n",
       "<text text-anchor=\"middle\" x=\"794.5\" y=\"-96.8\" font-family=\"Times,serif\" font-size=\"14.00\" fill=\"#000000\">value = 0.022</text>\n",
       "</g>\n",
       "<!-- 8&#45;&gt;9 -->\n",
       "<g id=\"edge9\" class=\"edge\">\n",
       "<title>8&#45;&gt;9</title>\n",
       "<path fill=\"none\" stroke=\"#000000\" d=\"M794.5,-192.9465C794.5,-184.776 794.5,-175.9318 794.5,-167.3697\"/>\n",
       "<polygon fill=\"#000000\" stroke=\"#000000\" points=\"798.0001,-167.13 794.5,-157.13 791.0001,-167.13 798.0001,-167.13\"/>\n",
       "</g>\n",
       "<!-- 12 -->\n",
       "<g id=\"node13\" class=\"node\">\n",
       "<title>12</title>\n",
       "<polygon fill=\"none\" stroke=\"#000000\" points=\"1106,-157 963,-157 963,-89 1106,-89 1106,-157\"/>\n",
       "<text text-anchor=\"middle\" x=\"1034.5\" y=\"-141.8\" font-family=\"Times,serif\" font-size=\"14.00\" fill=\"#000000\">X[32] &lt;= &#45;0.551</text>\n",
       "<text text-anchor=\"middle\" x=\"1034.5\" y=\"-126.8\" font-family=\"Times,serif\" font-size=\"14.00\" fill=\"#000000\">friedman_mse = 0.208</text>\n",
       "<text text-anchor=\"middle\" x=\"1034.5\" y=\"-111.8\" font-family=\"Times,serif\" font-size=\"14.00\" fill=\"#000000\">samples = 358</text>\n",
       "<text text-anchor=\"middle\" x=\"1034.5\" y=\"-96.8\" font-family=\"Times,serif\" font-size=\"14.00\" fill=\"#000000\">value = 0.321</text>\n",
       "</g>\n",
       "<!-- 8&#45;&gt;12 -->\n",
       "<g id=\"edge12\" class=\"edge\">\n",
       "<title>8&#45;&gt;12</title>\n",
       "<path fill=\"none\" stroke=\"#000000\" d=\"M862.6324,-197.476C890.8936,-185.2294 923.9075,-170.9234 953.4047,-158.1413\"/>\n",
       "<polygon fill=\"#000000\" stroke=\"#000000\" points=\"955.0637,-161.2369 962.8476,-154.0494 952.2804,-154.814 955.0637,-161.2369\"/>\n",
       "</g>\n",
       "<!-- 10 -->\n",
       "<g id=\"node11\" class=\"node\">\n",
       "<title>10</title>\n",
       "<polygon fill=\"none\" stroke=\"#000000\" points=\"787,-53 644,-53 644,0 787,0 787,-53\"/>\n",
       "<text text-anchor=\"middle\" x=\"715.5\" y=\"-37.8\" font-family=\"Times,serif\" font-size=\"14.00\" fill=\"#000000\">friedman_mse = 0.219</text>\n",
       "<text text-anchor=\"middle\" x=\"715.5\" y=\"-22.8\" font-family=\"Times,serif\" font-size=\"14.00\" fill=\"#000000\">samples = 37</text>\n",
       "<text text-anchor=\"middle\" x=\"715.5\" y=\"-7.8\" font-family=\"Times,serif\" font-size=\"14.00\" fill=\"#000000\">value = 1.24</text>\n",
       "</g>\n",
       "<!-- 9&#45;&gt;10 -->\n",
       "<g id=\"edge10\" class=\"edge\">\n",
       "<title>9&#45;&gt;10</title>\n",
       "<path fill=\"none\" stroke=\"#000000\" d=\"M766.6476,-88.9777C759.2261,-79.9123 751.2023,-70.111 743.7593,-61.0192\"/>\n",
       "<polygon fill=\"#000000\" stroke=\"#000000\" points=\"746.4405,-58.7692 737.3977,-53.2485 741.0241,-63.2034 746.4405,-58.7692\"/>\n",
       "</g>\n",
       "<!-- 11 -->\n",
       "<g id=\"node12\" class=\"node\">\n",
       "<title>11</title>\n",
       "<polygon fill=\"none\" stroke=\"#000000\" points=\"948,-53 805,-53 805,0 948,0 948,-53\"/>\n",
       "<text text-anchor=\"middle\" x=\"876.5\" y=\"-37.8\" font-family=\"Times,serif\" font-size=\"14.00\" fill=\"#000000\">friedman_mse = 0.225</text>\n",
       "<text text-anchor=\"middle\" x=\"876.5\" y=\"-22.8\" font-family=\"Times,serif\" font-size=\"14.00\" fill=\"#000000\">samples = 158</text>\n",
       "<text text-anchor=\"middle\" x=\"876.5\" y=\"-7.8\" font-family=\"Times,serif\" font-size=\"14.00\" fill=\"#000000\">value = &#45;0.173</text>\n",
       "</g>\n",
       "<!-- 9&#45;&gt;11 -->\n",
       "<g id=\"edge11\" class=\"edge\">\n",
       "<title>9&#45;&gt;11</title>\n",
       "<path fill=\"none\" stroke=\"#000000\" d=\"M823.4101,-88.9777C831.1134,-79.9123 839.4419,-70.111 847.1676,-61.0192\"/>\n",
       "<polygon fill=\"#000000\" stroke=\"#000000\" points=\"849.9625,-63.1352 853.7707,-53.2485 844.6282,-58.6025 849.9625,-63.1352\"/>\n",
       "</g>\n",
       "<!-- 13 -->\n",
       "<g id=\"node14\" class=\"node\">\n",
       "<title>13</title>\n",
       "<polygon fill=\"none\" stroke=\"#000000\" points=\"1102.5,-53 966.5,-53 966.5,0 1102.5,0 1102.5,-53\"/>\n",
       "<text text-anchor=\"middle\" x=\"1034.5\" y=\"-37.8\" font-family=\"Times,serif\" font-size=\"14.00\" fill=\"#000000\">friedman_mse = 0.16</text>\n",
       "<text text-anchor=\"middle\" x=\"1034.5\" y=\"-22.8\" font-family=\"Times,serif\" font-size=\"14.00\" fill=\"#000000\">samples = 10</text>\n",
       "<text text-anchor=\"middle\" x=\"1034.5\" y=\"-7.8\" font-family=\"Times,serif\" font-size=\"14.00\" fill=\"#000000\">value = &#45;0.773</text>\n",
       "</g>\n",
       "<!-- 12&#45;&gt;13 -->\n",
       "<g id=\"edge13\" class=\"edge\">\n",
       "<title>12&#45;&gt;13</title>\n",
       "<path fill=\"none\" stroke=\"#000000\" d=\"M1034.5,-88.9777C1034.5,-80.7364 1034.5,-71.887 1034.5,-63.5153\"/>\n",
       "<polygon fill=\"#000000\" stroke=\"#000000\" points=\"1038.0001,-63.2484 1034.5,-53.2485 1031.0001,-63.2485 1038.0001,-63.2484\"/>\n",
       "</g>\n",
       "<!-- 14 -->\n",
       "<g id=\"node15\" class=\"node\">\n",
       "<title>14</title>\n",
       "<polygon fill=\"none\" stroke=\"#000000\" points=\"1264,-53 1121,-53 1121,0 1264,0 1264,-53\"/>\n",
       "<text text-anchor=\"middle\" x=\"1192.5\" y=\"-37.8\" font-family=\"Times,serif\" font-size=\"14.00\" fill=\"#000000\">friedman_mse = 0.202</text>\n",
       "<text text-anchor=\"middle\" x=\"1192.5\" y=\"-22.8\" font-family=\"Times,serif\" font-size=\"14.00\" fill=\"#000000\">samples = 348</text>\n",
       "<text text-anchor=\"middle\" x=\"1192.5\" y=\"-7.8\" font-family=\"Times,serif\" font-size=\"14.00\" fill=\"#000000\">value = 1.421</text>\n",
       "</g>\n",
       "<!-- 12&#45;&gt;14 -->\n",
       "<g id=\"edge14\" class=\"edge\">\n",
       "<title>12&#45;&gt;14</title>\n",
       "<path fill=\"none\" stroke=\"#000000\" d=\"M1090.2049,-88.9777C1106.472,-79.0424 1124.1864,-68.2232 1140.2326,-58.4228\"/>\n",
       "<polygon fill=\"#000000\" stroke=\"#000000\" points=\"1142.246,-61.2943 1148.9558,-53.095 1138.5973,-55.3204 1142.246,-61.2943\"/>\n",
       "</g>\n",
       "</g>\n",
       "</svg>\n"
      ],
      "text/plain": [
       "<graphviz.files.Source at 0x7fb0ca378700>"
      ]
     },
     "execution_count": 18,
     "metadata": {},
     "output_type": "execute_result"
    }
   ],
   "source": [
    "estimator = GB_model.estimators_[0,0]\n",
    "dot_data = tree.export_graphviz(estimator, class_names=['0', '1'])\n",
    "graph = graphviz.Source(dot_data)\n",
    "graph"
   ]
  },
  {
   "cell_type": "markdown",
   "id": "helpful-benchmark",
   "metadata": {},
   "source": [
    "Save it as .png:"
   ]
  },
  {
   "cell_type": "code",
   "execution_count": 21,
   "id": "collectible-baking",
   "metadata": {},
   "outputs": [],
   "source": [
    "(graph,) = pydot.graph_from_dot_data(dot_data)\n",
    "graph.write_png('GB_0_timestamp.png')"
   ]
  },
  {
   "cell_type": "markdown",
   "id": "outside-upper",
   "metadata": {},
   "source": [
    "Plot importances:"
   ]
  },
  {
   "cell_type": "code",
   "execution_count": 24,
   "id": "derived-watts",
   "metadata": {},
   "outputs": [
    {
     "name": "stdout",
     "output_type": "stream",
     "text": [
      "Feature ranking:\n",
      "1. feature 36 (0.290678)\n",
      "2. feature 39 (0.160544)\n",
      "3. feature 32 (0.142681)\n",
      "4. feature 4 (0.134465)\n",
      "5. feature 38 (0.087071)\n",
      "6. feature 2 (0.042810)\n",
      "7. feature 30 (0.040841)\n",
      "8. feature 24 (0.017909)\n",
      "9. feature 12 (0.011174)\n",
      "10. feature 20 (0.007773)\n",
      "11. feature 6 (0.007156)\n",
      "12. feature 0 (0.006556)\n",
      "13. feature 17 (0.005084)\n",
      "14. feature 1 (0.004722)\n",
      "15. feature 8 (0.004493)\n",
      "16. feature 19 (0.004314)\n",
      "17. feature 10 (0.003413)\n",
      "18. feature 3 (0.003401)\n",
      "19. feature 14 (0.003297)\n",
      "20. feature 26 (0.002884)\n",
      "21. feature 31 (0.002812)\n",
      "22. feature 22 (0.002715)\n",
      "23. feature 27 (0.002440)\n",
      "24. feature 13 (0.002086)\n",
      "25. feature 15 (0.002066)\n",
      "26. feature 25 (0.001863)\n",
      "27. feature 35 (0.001828)\n",
      "28. feature 11 (0.000984)\n",
      "29. feature 9 (0.000935)\n",
      "30. feature 18 (0.000362)\n",
      "31. feature 16 (0.000347)\n",
      "32. feature 21 (0.000102)\n",
      "33. feature 5 (0.000098)\n",
      "34. feature 7 (0.000094)\n",
      "35. feature 29 (0.000001)\n",
      "36. feature 28 (0.000001)\n",
      "37. feature 34 (0.000000)\n",
      "38. feature 33 (0.000000)\n",
      "39. feature 37 (0.000000)\n",
      "40. feature 23 (0.000000)\n"
     ]
    },
    {
     "data": {
      "image/png": "[encoded data removed]",
      "text/plain": [
       "<Figure size 432x288 with 1 Axes>"
      ]
     },
     "metadata": {
      "needs_background": "light"
     },
     "output_type": "display_data"
    }
   ],
   "source": [
    "importances = GB_model.feature_importances_\n",
    "indices = np.argsort(importances)[::-1]\n",
    "\n",
    "# Print the feature ranking\n",
    "print(\"Feature ranking:\")\n",
    "\n",
    "for f in range(X_train_flat.shape[1]):\n",
    "    print(\"%d. feature %d (%f)\" % (f + 1, indices[f], importances[indices[f]]))\n",
    "\n",
    "# Plot the impurity-based feature importances of the forest\n",
    "plt.figure()\n",
    "plt.title(\"Gradient Boosting: feature importances\")\n",
    "plt.bar(range(X_train_flat.shape[1]), importances[indices],\n",
    "        color=\"blue\", align=\"center\")\n",
    "plt.xticks(range(X_train_flat.shape[1]), indices)\n",
    "plt.xlim([-1, X_train_flat.shape[1]])\n",
    "plt.savefig('GB_importance_timestamp.png')\n",
    "plt.show()"
   ]
  },
  {
   "cell_type": "markdown",
   "id": "sunrise-quick",
   "metadata": {},
   "source": [
    "### DL models: MLP and RNNs with GRID search"
   ]
  },
  {
   "cell_type": "code",
   "execution_count": 38,
   "id": "musical-festival",
   "metadata": {},
   "outputs": [],
   "source": [
    "import tensorflow as tf"
   ]
  },
  {
   "cell_type": "markdown",
   "id": "annoying-exclusion",
   "metadata": {
    "tags": []
   },
   "source": [
    "### MLP"
   ]
  },
  {
   "cell_type": "code",
   "execution_count": 39,
   "id": "roman-victor",
   "metadata": {
    "id": "oGSKWTTtqxZ4"
   },
   "outputs": [],
   "source": [
    "def build_fc_model(n_units=30, learning_rate=1e-3, regularizer='l2'):\n",
    "    model = tf.keras.models.Sequential([\n",
    "                                    tf.keras.layers.Dense(n_units, activation=\"relu\", kernel_regularizer=regularizer),\n",
    "                                    tf.keras.layers.Dense(n_units, activation=\"relu\", kernel_regularizer=regularizer),\n",
    "                                    tf.keras.layers.Dense(1, activation=\"sigmoid\", kernel_regularizer=regularizer)\n",
    "                                     ]) \n",
    "    model.compile(loss=\"binary_crossentropy\",\n",
    "              optimizer=tf.keras.optimizers.Adam(learning_rate=learning_rate),\n",
    "              metrics=[\"accuracy\"])\n",
    "    return model\n",
    "\n",
    "keras_reg = tf.keras.wrappers.scikit_learn.KerasRegressor(build_fc_model)"
   ]
  },
  {
   "cell_type": "code",
   "execution_count": 40,
   "id": "available-participant",
   "metadata": {
    "id": "y-uldCW3ru24"
   },
   "outputs": [],
   "source": [
    "param_distribs = {\n",
    "    \"n_units\": [80, 100],\n",
    "    \"learning_rate\": [1e-3, 1e-4],\n",
    "    \"regularizer\": ['l1','l2']}"
   ]
  },
  {
   "cell_type": "code",
   "execution_count": 41,
   "id": "billion-toyota",
   "metadata": {
    "id": "iobF2Bvdr9ER"
   },
   "outputs": [],
   "source": [
    "grid_search = GridSearchCV(keras_reg, param_distribs)"
   ]
  },
  {
   "cell_type": "code",
   "execution_count": 42,
   "id": "preliminary-subscription",
   "metadata": {
    "collapsed": true,
    "id": "-BA3vgTjr-hw",
    "jupyter": {
     "outputs_hidden": true
    },
    "tags": []
   },
   "outputs": [
    {
     "name": "stdout",
     "output_type": "stream",
     "text": [
      "6/6 [==============================] - 0s 766us/step - loss: 0.6098 - accuracy: 0.7213\n",
      "6/6 [==============================] - 0s 832us/step - loss: 0.5578 - accuracy: 0.7213\n",
      "6/6 [==============================] - 0s 846us/step - loss: 0.5170 - accuracy: 0.7527\n",
      "6/6 [==============================] - 0s 819us/step - loss: 0.6039 - accuracy: 0.6923\n",
      "6/6 [==============================] - 0s 818us/step - loss: 0.6207 - accuracy: 0.7747\n",
      "6/6 [==============================] - 0s 852us/step - loss: 0.5644 - accuracy: 0.6776\n",
      "6/6 [==============================] - 0s 835us/step - loss: 0.5347 - accuracy: 0.7322\n",
      "6/6 [==============================] - 0s 898us/step - loss: 0.4638 - accuracy: 0.7912\n",
      "6/6 [==============================] - 0s 971us/step - loss: 0.5637 - accuracy: 0.7088\n",
      "6/6 [==============================] - 0s 882us/step - loss: 0.5994 - accuracy: 0.7143\n",
      "6/6 [==============================] - 0s 612us/step - loss: 0.6019 - accuracy: 0.7158\n",
      "6/6 [==============================] - 0s 962us/step - loss: 0.5443 - accuracy: 0.7486\n",
      "6/6 [==============================] - 0s 882us/step - loss: 0.5270 - accuracy: 0.7527\n",
      "6/6 [==============================] - 0s 873us/step - loss: 0.6213 - accuracy: 0.7143\n",
      "6/6 [==============================] - 0s 786us/step - loss: 0.6215 - accuracy: 0.7802\n",
      "6/6 [==============================] - 0s 860us/step - loss: 0.5772 - accuracy: 0.6667\n",
      "6/6 [==============================] - 0s 740us/step - loss: 0.5214 - accuracy: 0.7486\n",
      "6/6 [==============================] - 0s 661us/step - loss: 0.4639 - accuracy: 0.7967\n",
      "6/6 [==============================] - 0s 781us/step - loss: 0.5857 - accuracy: 0.7033\n",
      "6/6 [==============================] - 0s 716us/step - loss: 0.6107 - accuracy: 0.6923\n",
      "6/6 [==============================] - 0s 677us/step - loss: 5.7129 - accuracy: 0.6776\n",
      "6/6 [==============================] - 0s 865us/step - loss: 5.5200 - accuracy: 0.7377\n",
      "6/6 [==============================] - 0s 790us/step - loss: 5.5534 - accuracy: 0.8132\n",
      "6/6 [==============================] - 0s 966us/step - loss: 5.6063 - accuracy: 0.7033\n",
      "6/6 [==============================] - 0s 783us/step - loss: 5.8783 - accuracy: 0.7308\n",
      "6/6 [==============================] - 0s 835us/step - loss: 1.2730 - accuracy: 0.6776\n",
      "6/6 [==============================] - 0s 1ms/step - loss: 1.1560 - accuracy: 0.7432\n",
      "6/6 [==============================] - 0s 1ms/step - loss: 1.1417 - accuracy: 0.7582\n",
      "6/6 [==============================] - 0s 814us/step - loss: 1.2481 - accuracy: 0.7033\n",
      "6/6 [==============================] - 0s 746us/step - loss: 1.2333 - accuracy: 0.7692\n",
      "6/6 [==============================] - 0s 959us/step - loss: 7.0595 - accuracy: 0.6667\n",
      "6/6 [==============================] - 0s 770us/step - loss: 6.8471 - accuracy: 0.7322\n",
      "6/6 [==============================] - 0s 914us/step - loss: 6.6289 - accuracy: 0.7692\n",
      "6/6 [==============================] - 0s 845us/step - loss: 6.7371 - accuracy: 0.6923\n",
      "6/6 [==============================] - 0s 672us/step - loss: 6.9386 - accuracy: 0.5549\n",
      "6/6 [==============================] - 0s 797us/step - loss: 1.2799 - accuracy: 0.7432\n",
      "6/6 [==============================] - 0s 797us/step - loss: 1.2561 - accuracy: 0.7268\n",
      "6/6 [==============================] - 0s 731us/step - loss: 1.1606 - accuracy: 0.8022\n",
      "6/6 [==============================] - 0s 717us/step - loss: 1.3004 - accuracy: 0.7143\n",
      "6/6 [==============================] - 0s 901us/step - loss: 1.2807 - accuracy: 0.7582\n"
     ]
    },
    {
     "data": {
      "text/plain": [
       "GridSearchCV(cv=None, error_score=nan,\n",
       "             estimator=<tensorflow.python.keras.wrappers.scikit_learn.KerasRegressor object at 0x7fb38978dc70>,\n",
       "             iid='deprecated', n_jobs=None,\n",
       "             param_grid={'learning_rate': [0.001, 0.0001], 'n_units': [80, 100],\n",
       "                         'regularizer': ['l1', 'l2']},\n",
       "             pre_dispatch='2*n_jobs', refit=True, return_train_score=False,\n",
       "             scoring=None, verbose=0)"
      ]
     },
     "execution_count": 42,
     "metadata": {},
     "output_type": "execute_result"
    }
   ],
   "source": [
    "grid_search.fit(X_train_flat, Y_train, epochs=100, shuffle=True, batch_size=128, verbose=0)"
   ]
  },
  {
   "cell_type": "code",
   "execution_count": 43,
   "id": "robust-stretch",
   "metadata": {},
   "outputs": [
    {
     "name": "stdout",
     "output_type": "stream",
     "text": [
      "Hyperparameters:  {'learning_rate': 0.001, 'n_units': 80, 'regularizer': 'l2'}\n"
     ]
    }
   ],
   "source": [
    "print('Hyperparameters: ', grid_search.best_params_)"
   ]
  },
  {
   "cell_type": "code",
   "execution_count": 46,
   "id": "tough-explosion",
   "metadata": {},
   "outputs": [
    {
     "name": "stdout",
     "output_type": "stream",
     "text": [
      "Training accuracy:  0.7883771929824561\n",
      "Test accuracy:  0.6052631578947368\n"
     ]
    }
   ],
   "source": [
    "fc_model = build_fc_model(80, 1e-3, 'l2')\n",
    "fc_model.fit(X_train_flat, Y_train, epochs=100, shuffle=True, batch_size=128, verbose=0)\n",
    "\n",
    "fc_model_pred = fc_model.predict(X_train_flat)\n",
    "print('Training accuracy: ', np.mean((fc_model_pred>=0.5).squeeze().astype(int) == Y_train))\n",
    "fc_model_pred = fc_model.predict(X_test_flat)\n",
    "print('Test accuracy: ', np.mean((fc_model_pred>=0.5).squeeze().astype(int) == Y_test))"
   ]
  },
  {
   "cell_type": "code",
   "execution_count": 48,
   "id": "passive-driving",
   "metadata": {},
   "outputs": [
    {
     "name": "stdout",
     "output_type": "stream",
     "text": [
      "Model: \"sequential_43\"\n",
      "_________________________________________________________________\n",
      "Layer (type)                 Output Shape              Param #   \n",
      "=================================================================\n",
      "dense_129 (Dense)            (None, 80)                3280      \n",
      "_________________________________________________________________\n",
      "dense_130 (Dense)            (None, 80)                6480      \n",
      "_________________________________________________________________\n",
      "dense_131 (Dense)            (None, 1)                 81        \n",
      "=================================================================\n",
      "Total params: 9,841\n",
      "Trainable params: 9,841\n",
      "Non-trainable params: 0\n",
      "_________________________________________________________________\n"
     ]
    }
   ],
   "source": [
    "fc_model.summary()"
   ]
  },
  {
   "cell_type": "markdown",
   "id": "parliamentary-affairs",
   "metadata": {},
   "source": [
    "### RNN with LSTM"
   ]
  },
  {
   "cell_type": "code",
   "execution_count": 49,
   "id": "material-scheduling",
   "metadata": {},
   "outputs": [],
   "source": [
    "def build_lstm_model(n_lstm=4 ,n_units=50, learning_rate=1e-3):\n",
    "    lstm_model = tf.keras.models.Sequential()\n",
    "    lstm_model.add(tf.keras.layers.LSTM(n_lstm, return_sequences=True))\n",
    "    lstm_model.add(tf.keras.layers.LSTM(n_lstm))\n",
    "    lstm_model.add(tf.keras.layers.Dense(n_units, activation='relu', kernel_regularizer='l2'))\n",
    "    lstm_model.add(tf.keras.layers.Dense(1, activation='sigmoid', kernel_regularizer='l2'))\n",
    "    \n",
    "    lstm_model.compile(loss=\"binary_crossentropy\",\n",
    "              optimizer=tf.keras.optimizers.Adam(learning_rate=learning_rate),\n",
    "              metrics=[\"accuracy\"])\n",
    "    return lstm_model"
   ]
  },
  {
   "cell_type": "code",
   "execution_count": 50,
   "id": "horizontal-hudson",
   "metadata": {},
   "outputs": [],
   "source": [
    "param_distribs = {\n",
    "    \"n_lstm\": [4, 10],\n",
    "    \"n_units\": [30, 60],\n",
    "    \"learning_rate\": [1e-2, 1e-3]}\n",
    "keras_reg = tf.keras.wrappers.scikit_learn.KerasRegressor(build_lstm_model)\n",
    "grid_search = GridSearchCV(keras_reg, param_distribs)"
   ]
  },
  {
   "cell_type": "code",
   "execution_count": 52,
   "id": "likely-hungary",
   "metadata": {
    "collapsed": true,
    "jupyter": {
     "outputs_hidden": true
    },
    "tags": []
   },
   "outputs": [
    {
     "name": "stdout",
     "output_type": "stream",
     "text": [
      "6/6 [==============================] - 0s 3ms/step - loss: 0.5065 - accuracy: 0.7650\n",
      "6/6 [==============================] - 0s 3ms/step - loss: 0.4558 - accuracy: 0.7596\n",
      "6/6 [==============================] - 0s 3ms/step - loss: 0.4611 - accuracy: 0.7582\n",
      "6/6 [==============================] - 0s 3ms/step - loss: 0.5642 - accuracy: 0.7088\n",
      "6/6 [==============================] - 0s 3ms/step - loss: 0.5054 - accuracy: 0.7747\n",
      "6/6 [==============================] - 0s 4ms/step - loss: 0.5518 - accuracy: 0.7213\n",
      "6/6 [==============================] - 0s 3ms/step - loss: 0.4490 - accuracy: 0.7541\n",
      "6/6 [==============================] - 0s 3ms/step - loss: 0.4642 - accuracy: 0.7692\n",
      "6/6 [==============================] - 0s 3ms/step - loss: 0.5256 - accuracy: 0.7088\n",
      "6/6 [==============================] - 0s 3ms/step - loss: 0.5417 - accuracy: 0.7527\n",
      "6/6 [==============================] - 0s 3ms/step - loss: 0.5358 - accuracy: 0.7541\n",
      "6/6 [==============================] - 0s 3ms/step - loss: 0.4314 - accuracy: 0.7814\n",
      "6/6 [==============================] - 0s 3ms/step - loss: 0.4680 - accuracy: 0.7802\n",
      "6/6 [==============================] - 0s 4ms/step - loss: 0.6029 - accuracy: 0.7088\n",
      "6/6 [==============================] - 0s 3ms/step - loss: 0.5445 - accuracy: 0.7418\n",
      "6/6 [==============================] - 0s 3ms/step - loss: 0.5054 - accuracy: 0.7213\n",
      "6/6 [==============================] - 0s 3ms/step - loss: 0.4717 - accuracy: 0.7541\n",
      "6/6 [==============================] - 0s 3ms/step - loss: 0.4402 - accuracy: 0.7802\n",
      "6/6 [==============================] - 0s 4ms/step - loss: 0.5644 - accuracy: 0.7308\n",
      "6/6 [==============================] - 0s 3ms/step - loss: 0.5250 - accuracy: 0.7418\n",
      "6/6 [==============================] - 0s 3ms/step - loss: 0.5349 - accuracy: 0.7213\n",
      "6/6 [==============================] - 0s 3ms/step - loss: 0.4861 - accuracy: 0.7432\n",
      "6/6 [==============================] - 0s 3ms/step - loss: 0.4447 - accuracy: 0.7857\n",
      "6/6 [==============================] - 0s 4ms/step - loss: 0.5424 - accuracy: 0.6923\n",
      "6/6 [==============================] - 0s 3ms/step - loss: 0.5523 - accuracy: 0.7692\n",
      "6/6 [==============================] - 0s 3ms/step - loss: 0.5105 - accuracy: 0.7486\n",
      "6/6 [==============================] - 0s 3ms/step - loss: 0.4748 - accuracy: 0.7377\n",
      "6/6 [==============================] - 0s 3ms/step - loss: 0.4432 - accuracy: 0.7912\n",
      "6/6 [==============================] - 0s 3ms/step - loss: 0.5430 - accuracy: 0.6978\n",
      "6/6 [==============================] - 0s 3ms/step - loss: 0.5412 - accuracy: 0.7473\n",
      "6/6 [==============================] - 0s 3ms/step - loss: 0.5206 - accuracy: 0.7432\n",
      "6/6 [==============================] - 0s 3ms/step - loss: 0.4637 - accuracy: 0.7486\n",
      "6/6 [==============================] - 0s 3ms/step - loss: 0.4466 - accuracy: 0.7857\n",
      "6/6 [==============================] - 0s 4ms/step - loss: 0.5498 - accuracy: 0.7143\n",
      "6/6 [==============================] - 0s 4ms/step - loss: 0.5689 - accuracy: 0.7198\n",
      "6/6 [==============================] - 0s 3ms/step - loss: 0.5194 - accuracy: 0.7158\n",
      "6/6 [==============================] - 0s 3ms/step - loss: 0.4626 - accuracy: 0.7322\n",
      "6/6 [==============================] - 0s 3ms/step - loss: 0.4387 - accuracy: 0.7527\n",
      "6/6 [==============================] - 0s 3ms/step - loss: 0.5361 - accuracy: 0.7143\n",
      "6/6 [==============================] - 0s 4ms/step - loss: 0.5410 - accuracy: 0.7418\n",
      "Hyperparameters:  {'learning_rate': 0.01, 'n_lstm': 4, 'n_units': 30}\n"
     ]
    }
   ],
   "source": [
    "grid_search = GridSearchCV(keras_reg, param_distribs)\n",
    "grid_search.fit(X_train, Y_train, epochs=80, batch_size=128, shuffle=True, verbose=0)\n",
    "print('Hyperparameters: ', grid_search.best_params_)"
   ]
  },
  {
   "cell_type": "code",
   "execution_count": 55,
   "id": "manufactured-orange",
   "metadata": {},
   "outputs": [
    {
     "name": "stdout",
     "output_type": "stream",
     "text": [
      "Training accuracy:  0.7927631578947368\n",
      "Test accuracy:  0.6096491228070176\n"
     ]
    }
   ],
   "source": [
    "lstm_model = build_lstm_model(4, 30, 1e-2)\n",
    "lstm_model.fit(X_train, Y_train, epochs=80, batch_size=128, shuffle=True, verbose=0)\n",
    "\n",
    "lstm_model_pred = lstm_model.predict(X_train)\n",
    "print('Training accuracy: ', np.mean((lstm_model_pred>=0.5).squeeze().astype(int) == Y_train))\n",
    "lstm_model_pred = lstm_model.predict(X_test)\n",
    "print('Test accuracy: ', np.mean((lstm_model_pred>=0.5).squeeze().astype(int) == Y_test))"
   ]
  },
  {
   "cell_type": "code",
   "execution_count": 56,
   "id": "sudden-castle",
   "metadata": {},
   "outputs": [
    {
     "name": "stdout",
     "output_type": "stream",
     "text": [
      "Model: \"sequential_127\"\n",
      "_________________________________________________________________\n",
      "Layer (type)                 Output Shape              Param #   \n",
      "=================================================================\n",
      "lstm_166 (LSTM)              (None, 20, 4)             112       \n",
      "_________________________________________________________________\n",
      "lstm_167 (LSTM)              (None, 4)                 144       \n",
      "_________________________________________________________________\n",
      "dense_298 (Dense)            (None, 30)                150       \n",
      "_________________________________________________________________\n",
      "dense_299 (Dense)            (None, 1)                 31        \n",
      "=================================================================\n",
      "Total params: 437\n",
      "Trainable params: 437\n",
      "Non-trainable params: 0\n",
      "_________________________________________________________________\n"
     ]
    }
   ],
   "source": [
    "lstm_model.summary()"
   ]
  },
  {
   "cell_type": "markdown",
   "id": "imported-greensboro",
   "metadata": {},
   "source": [
    "### Bidirectional RNN with LSTMs with GRID search"
   ]
  },
  {
   "cell_type": "code",
   "execution_count": 7,
   "id": "general-perspective",
   "metadata": {},
   "outputs": [],
   "source": [
    "def build_bidir_model(n_lstm=4 ,n_units=30, learning_rate=1e-3):\n",
    "    bidir_model = tf.keras.models.Sequential()\n",
    "    bidir_model.add(tf.keras.layers.Bidirectional(tf.keras.layers.LSTM(n_lstm)))\n",
    "    bidir_model.add(tf.keras.layers.Dense(n_units, activation='relu',kernel_regularizer='l2'))\n",
    "    bidir_model.add(tf.keras.layers.Dense(n_units, activation='relu',kernel_regularizer='l2'))\n",
    "    bidir_model.add(tf.keras.layers.Dense(1, activation='sigmoid',kernel_regularizer='l2'))\n",
    "    \n",
    "    bidir_model.compile(loss=\"binary_crossentropy\",\n",
    "              optimizer=tf.keras.optimizers.Adam(learning_rate=learning_rate),\n",
    "              metrics=[\"accuracy\"])\n",
    "    return bidir_model"
   ]
  },
  {
   "cell_type": "code",
   "execution_count": 10,
   "id": "norman-stadium",
   "metadata": {
    "collapsed": true,
    "jupyter": {
     "outputs_hidden": true
    },
    "tags": []
   },
   "outputs": [
    {
     "name": "stdout",
     "output_type": "stream",
     "text": [
      "6/6 [==============================] - 0s 3ms/step - loss: 0.5619 - accuracy: 0.7322\n",
      "6/6 [==============================] - 0s 2ms/step - loss: 0.4755 - accuracy: 0.7596\n",
      "6/6 [==============================] - 0s 2ms/step - loss: 0.4938 - accuracy: 0.8022\n",
      "6/6 [==============================] - 0s 2ms/step - loss: 0.6573 - accuracy: 0.7033\n",
      "6/6 [==============================] - 0s 2ms/step - loss: 0.5622 - accuracy: 0.7473\n",
      "6/6 [==============================] - 0s 2ms/step - loss: 0.5875 - accuracy: 0.7377\n",
      "6/6 [==============================] - 0s 3ms/step - loss: 0.5403 - accuracy: 0.7760\n",
      "6/6 [==============================] - 0s 2ms/step - loss: 0.5442 - accuracy: 0.7857\n",
      "6/6 [==============================] - 0s 2ms/step - loss: 0.6254 - accuracy: 0.7308\n",
      "6/6 [==============================] - 0s 2ms/step - loss: 0.5992 - accuracy: 0.7473\n",
      "6/6 [==============================] - 0s 2ms/step - loss: 0.5705 - accuracy: 0.7268\n",
      "6/6 [==============================] - 0s 2ms/step - loss: 0.5117 - accuracy: 0.7814\n",
      "6/6 [==============================] - 0s 2ms/step - loss: 0.6088 - accuracy: 0.8022\n",
      "6/6 [==============================] - 0s 2ms/step - loss: 0.6900 - accuracy: 0.7308\n",
      "6/6 [==============================] - 0s 2ms/step - loss: 0.5039 - accuracy: 0.7802\n",
      "6/6 [==============================] - 0s 2ms/step - loss: 0.6552 - accuracy: 0.7486\n",
      "6/6 [==============================] - 0s 2ms/step - loss: 0.5226 - accuracy: 0.7869\n",
      "6/6 [==============================] - 0s 2ms/step - loss: 0.5705 - accuracy: 0.8077\n",
      "6/6 [==============================] - 0s 2ms/step - loss: 0.6616 - accuracy: 0.7253\n",
      "6/6 [==============================] - 0s 2ms/step - loss: 0.6509 - accuracy: 0.5989\n",
      "6/6 [==============================] - 0s 2ms/step - loss: 0.4990 - accuracy: 0.7322\n",
      "6/6 [==============================] - 0s 2ms/step - loss: 0.4317 - accuracy: 0.7650\n",
      "6/6 [==============================] - 0s 2ms/step - loss: 0.4467 - accuracy: 0.7857\n",
      "6/6 [==============================] - 0s 2ms/step - loss: 0.5368 - accuracy: 0.7253\n",
      "6/6 [==============================] - 0s 2ms/step - loss: 0.5556 - accuracy: 0.7747\n",
      "6/6 [==============================] - 0s 2ms/step - loss: 0.5107 - accuracy: 0.7158\n",
      "6/6 [==============================] - 0s 2ms/step - loss: 0.4296 - accuracy: 0.7596\n",
      "6/6 [==============================] - 0s 2ms/step - loss: 0.4344 - accuracy: 0.7967\n",
      "6/6 [==============================] - 0s 2ms/step - loss: 0.5593 - accuracy: 0.7088\n",
      "6/6 [==============================] - 0s 3ms/step - loss: 0.5907 - accuracy: 0.7308\n",
      "6/6 [==============================] - 0s 5ms/step - loss: 0.5199 - accuracy: 0.6995\n",
      "6/6 [==============================] - 0s 2ms/step - loss: 0.4301 - accuracy: 0.7432\n",
      "6/6 [==============================] - 0s 2ms/step - loss: 0.4296 - accuracy: 0.8077\n",
      "6/6 [==============================] - 0s 2ms/step - loss: 0.5583 - accuracy: 0.7143\n",
      "6/6 [==============================] - 0s 2ms/step - loss: 0.5369 - accuracy: 0.7473\n",
      "6/6 [==============================] - 0s 2ms/step - loss: 0.5160 - accuracy: 0.7158\n",
      "6/6 [==============================] - 0s 2ms/step - loss: 0.4195 - accuracy: 0.7705\n",
      "6/6 [==============================] - 0s 4ms/step - loss: 0.4350 - accuracy: 0.8077\n",
      "6/6 [==============================] - 0s 2ms/step - loss: 0.5756 - accuracy: 0.6813\n",
      "6/6 [==============================] - 0s 2ms/step - loss: 0.5338 - accuracy: 0.7582\n",
      "Hyperparameters:  {'learning_rate': 0.001, 'n_lstm': 10, 'n_units': 60}\n"
     ]
    }
   ],
   "source": [
    "param_distribs = {\n",
    "    \"n_lstm\": [10,16],\n",
    "    \"n_units\": [60,100],\n",
    "    \"learning_rate\": [1e-2, 1e-3]}\n",
    "keras_reg = tf.keras.wrappers.scikit_learn.KerasRegressor(build_bidir_model)\n",
    "\n",
    "grid_search = GridSearchCV(keras_reg, param_distribs)\n",
    "grid_search.fit(X_train, Y_train, epochs=80, verbose=0)\n",
    "print('Hyperparameters: ', grid_search.best_params_)"
   ]
  },
  {
   "cell_type": "code",
   "execution_count": 13,
   "id": "defined-shower",
   "metadata": {},
   "outputs": [
    {
     "name": "stdout",
     "output_type": "stream",
     "text": [
      "Training accuracy:  0.7379385964912281\n",
      "Test accuracy:  0.6140350877192983\n"
     ]
    }
   ],
   "source": [
    "bidir_model = build_bidir_model(10, 60, 1e-3)\n",
    "bidir_model.fit(X_train, Y_train, epochs=80, batch_size=128, shuffle=True, verbose=0)\n",
    "\n",
    "bidir_model_pred = bidir_model.predict(X_train)\n",
    "print('Training accuracy: ', np.mean((bidir_model_pred>=0.5).squeeze().astype(int) == Y_train))\n",
    "bidir_model_pred = bidir_model.predict(X_test)\n",
    "print('Test accuracy: ', np.mean((bidir_model_pred>=0.5).squeeze().astype(int) == Y_test))"
   ]
  },
  {
   "cell_type": "code",
   "execution_count": 14,
   "id": "functioning-angola",
   "metadata": {},
   "outputs": [
    {
     "name": "stdout",
     "output_type": "stream",
     "text": [
      "Model: \"sequential_42\"\n",
      "_________________________________________________________________\n",
      "Layer (type)                 Output Shape              Param #   \n",
      "=================================================================\n",
      "bidirectional_42 (Bidirectio (None, 20)                1040      \n",
      "_________________________________________________________________\n",
      "dense_126 (Dense)            (None, 60)                1260      \n",
      "_________________________________________________________________\n",
      "dense_127 (Dense)            (None, 60)                3660      \n",
      "_________________________________________________________________\n",
      "dense_128 (Dense)            (None, 1)                 61        \n",
      "=================================================================\n",
      "Total params: 6,021\n",
      "Trainable params: 6,021\n",
      "Non-trainable params: 0\n",
      "_________________________________________________________________\n"
     ]
    }
   ],
   "source": [
    "bidir_model.summary()"
   ]
  },
  {
   "cell_type": "code",
   "execution_count": null,
   "id": "finite-penguin",
   "metadata": {},
   "outputs": [],
   "source": []
  }
 ],
 "metadata": {
  "environment": {
   "name": "tf2-gpu.2-3.m65",
   "type": "gcloud",
   "uri": "gcr.io/deeplearning-platform-release/tf2-gpu.2-3:m65"
  },
  "kernelspec": {
   "display_name": "Python 3 - Conda",
   "language": "python",
   "name": "python3-conda"
  },
  "language_info": {
   "codemirror_mode": {
    "name": "ipython",
    "version": 3
   },
   "file_extension": ".py",
   "mimetype": "text/x-python",
   "name": "python",
   "nbconvert_exporter": "python",
   "pygments_lexer": "ipython3",
   "version": "3.8.2"
  }
 },
 "nbformat": 4,
 "nbformat_minor": 5
}
