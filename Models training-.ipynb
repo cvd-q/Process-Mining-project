{
 "cells": [
  {
   "cell_type": "markdown",
   "id": "constitutional-monster",
   "metadata": {},
   "source": [
    "# PROCESS MINING FINAL PROJECT 2020-2021\n",
    "## Train models without timestamp information\n",
    "### AUTHOR: Ma Jiawei\n",
    "### LECTURERS: De Leoni Massimiliano, Di Francescomarino Chiara "
   ]
  },
  {
   "cell_type": "markdown",
   "id": "amended-fairy",
   "metadata": {},
   "source": [
    "### Load datasets"
   ]
  },
  {
   "cell_type": "code",
   "execution_count": 1,
   "id": "casual-circulation",
   "metadata": {},
   "outputs": [],
   "source": [
    "import numpy as np"
   ]
  },
  {
   "cell_type": "code",
   "execution_count": 2,
   "id": "express-institute",
   "metadata": {},
   "outputs": [],
   "source": [
    "X_train = np.load('X_train.npy')\n",
    "Y_train = np.load('Y_train.npy')"
   ]
  },
  {
   "cell_type": "code",
   "execution_count": 3,
   "id": "earned-consistency",
   "metadata": {},
   "outputs": [
    {
     "name": "stdout",
     "output_type": "stream",
     "text": [
      "(912, 20)\n",
      "(912,)\n"
     ]
    }
   ],
   "source": [
    "print(X_train.shape)\n",
    "print(Y_train.shape)"
   ]
  },
  {
   "cell_type": "code",
   "execution_count": 4,
   "id": "automated-catalyst",
   "metadata": {},
   "outputs": [
    {
     "name": "stdout",
     "output_type": "stream",
     "text": [
      "(228, 20)\n",
      "(228,)\n"
     ]
    }
   ],
   "source": [
    "X_test = np.load('X_test.npy')\n",
    "Y_test = np.load('Y_test.npy')\n",
    "print(X_test.shape)\n",
    "print(Y_test.shape)"
   ]
  },
  {
   "cell_type": "markdown",
   "id": "dominican-rapid",
   "metadata": {},
   "source": [
    "Verify if the training and test dataset is balanced"
   ]
  },
  {
   "cell_type": "code",
   "execution_count": 5,
   "id": "checked-retention",
   "metadata": {},
   "outputs": [
    {
     "data": {
      "image/png": "[encoded data removed]",
      "text/plain": [
       "<Figure size 432x288 with 1 Axes>"
      ]
     },
     "metadata": {
      "needs_background": "light"
     },
     "output_type": "display_data"
    }
   ],
   "source": [
    "import matplotlib.pyplot as plt\n",
    "%matplotlib inline\n",
    "\n",
    "_ = plt.hist(Y_train)"
   ]
  },
  {
   "cell_type": "code",
   "execution_count": 6,
   "id": "initial-format",
   "metadata": {},
   "outputs": [
    {
     "data": {
      "image/png": "[encoded data removed]",
      "text/plain": [
       "<Figure size 432x288 with 1 Axes>"
      ]
     },
     "metadata": {
      "needs_background": "light"
     },
     "output_type": "display_data"
    }
   ],
   "source": [
    "_ = plt.hist(Y_test)"
   ]
  },
  {
   "cell_type": "markdown",
   "id": "certified-employer",
   "metadata": {},
   "source": [
    "Unfortunately the training dataset is not so balanced."
   ]
  },
  {
   "cell_type": "markdown",
   "id": "serious-assist",
   "metadata": {},
   "source": [
    "Standardize the data because the models will have better performance:"
   ]
  },
  {
   "cell_type": "code",
   "execution_count": 7,
   "id": "exotic-fundamental",
   "metadata": {},
   "outputs": [],
   "source": [
    "import copy "
   ]
  },
  {
   "cell_type": "code",
   "execution_count": 8,
   "id": "overhead-newton",
   "metadata": {},
   "outputs": [],
   "source": [
    "from sklearn.preprocessing import StandardScaler\n",
    "scaler = StandardScaler().fit(X_train)\n",
    "X_train = scaler.transform(X_train)\n",
    "X_test = scaler.transform(X_test)"
   ]
  },
  {
   "cell_type": "markdown",
   "id": "suburban-secretary",
   "metadata": {},
   "source": [
    "### Training models"
   ]
  },
  {
   "cell_type": "markdown",
   "id": "smoking-validation",
   "metadata": {},
   "source": [
    "### Logistic regression with different regularization method"
   ]
  },
  {
   "cell_type": "code",
   "execution_count": 10,
   "id": "whole-brush",
   "metadata": {},
   "outputs": [],
   "source": [
    "from sklearn.linear_model import LogisticRegression"
   ]
  },
  {
   "cell_type": "markdown",
   "id": "grand-cleaners",
   "metadata": {},
   "source": [
    "No regularization:"
   ]
  },
  {
   "cell_type": "code",
   "execution_count": 11,
   "id": "rocky-detroit",
   "metadata": {},
   "outputs": [
    {
     "name": "stdout",
     "output_type": "stream",
     "text": [
      "Training accuracy logistic_model:  0.7774122807017544\n",
      "Test accuracy logistic_model:  0.6096491228070176\n"
     ]
    }
   ],
   "source": [
    "logistic_model = LogisticRegression(penalty='none',random_state=0).fit(X_train, Y_train)\n",
    "print('Training accuracy logistic_model: ', logistic_model.score(X_train, Y_train))\n",
    "print('Test accuracy logistic_model: ', logistic_model.score(X_test, Y_test))"
   ]
  },
  {
   "cell_type": "markdown",
   "id": "headed-birmingham",
   "metadata": {},
   "source": [
    "L2 regularization:"
   ]
  },
  {
   "cell_type": "code",
   "execution_count": 12,
   "id": "following-yeast",
   "metadata": {},
   "outputs": [
    {
     "name": "stdout",
     "output_type": "stream",
     "text": [
      "Training accuracy logistic_model_l2:  0.7785087719298246\n",
      "Test accuracy logistic_model_l2:  0.6096491228070176\n"
     ]
    }
   ],
   "source": [
    "logistic_model_l2 = LogisticRegression(penalty='l2',random_state=0).fit(X_train, Y_train)\n",
    "print('Training accuracy logistic_model_l2: ', logistic_model_l2.score(X_train, Y_train))\n",
    "print('Test accuracy logistic_model_l2: ', logistic_model_l2.score(X_test, Y_test))"
   ]
  },
  {
   "cell_type": "markdown",
   "id": "stable-bidding",
   "metadata": {},
   "source": [
    "L1 regularization:"
   ]
  },
  {
   "cell_type": "code",
   "execution_count": 13,
   "id": "included-perception",
   "metadata": {},
   "outputs": [
    {
     "name": "stdout",
     "output_type": "stream",
     "text": [
      "Training accuracy logistic_model_l1:  0.7763157894736842\n",
      "Test accuracy logistic_model_l1:  0.6096491228070176\n"
     ]
    }
   ],
   "source": [
    "logistic_model_l1 = LogisticRegression(penalty='l1',random_state=0, solver='saga').fit(X_train, Y_train)\n",
    "print('Training accuracy logistic_model_l1: ', logistic_model_l1.score(X_train, Y_train))\n",
    "print('Test accuracy logistic_model_l1: ', logistic_model_l1.score(X_test, Y_test))"
   ]
  },
  {
   "cell_type": "markdown",
   "id": "labeled-project",
   "metadata": {},
   "source": [
    "Elasticnet regularization:"
   ]
  },
  {
   "cell_type": "code",
   "execution_count": 14,
   "id": "collected-arkansas",
   "metadata": {},
   "outputs": [
    {
     "name": "stdout",
     "output_type": "stream",
     "text": [
      "Training accuracy logistic_model_elastic:  0.7763157894736842\n",
      "Test accuracy logistic_model_elastic:  0.6096491228070176\n"
     ]
    }
   ],
   "source": [
    "logistic_model_elastic = LogisticRegression(penalty='elasticnet',random_state=0, solver='saga',\n",
    "                                           l1_ratio=0.5).fit(X_train, Y_train)\n",
    "print('Training accuracy logistic_model_elastic: ', logistic_model_elastic.score(X_train, Y_train))\n",
    "print('Test accuracy logistic_model_elastic: ', logistic_model_elastic.score(X_test, Y_test))"
   ]
  },
  {
   "cell_type": "markdown",
   "id": "equivalent-cheat",
   "metadata": {},
   "source": [
    "The models are quite similar."
   ]
  },
  {
   "cell_type": "markdown",
   "id": "crazy-danish",
   "metadata": {},
   "source": [
    "### Support Vector Machines using CV"
   ]
  },
  {
   "cell_type": "code",
   "execution_count": 15,
   "id": "solved-effect",
   "metadata": {},
   "outputs": [],
   "source": [
    "from sklearn import svm\n",
    "from sklearn.model_selection import GridSearchCV"
   ]
  },
  {
   "cell_type": "code",
   "execution_count": 16,
   "id": "ignored-marina",
   "metadata": {},
   "outputs": [
    {
     "name": "stdout",
     "output_type": "stream",
     "text": [
      "0.7390079865489702 {'kernel': 'sigmoid'}\n",
      "Test accuracy svm_model:  0.5394736842105263\n"
     ]
    }
   ],
   "source": [
    "parameters = {'kernel':['linear', 'poly', 'rbf', 'sigmoid']}\n",
    "grid_model = GridSearchCV(svm.SVC(), parameters, n_jobs=4)\n",
    "grid_model.fit(X=X_train, y=Y_train)\n",
    "svm_model = grid_model.best_estimator_\n",
    "print (grid_model.best_score_, grid_model.best_params_)\n",
    "print('Test accuracy svm_model: ', svm_model.score(X_test, Y_test))"
   ]
  },
  {
   "cell_type": "markdown",
   "id": "unable-species",
   "metadata": {},
   "source": [
    "Higher test accuracy w.r.t. the logistic regression models."
   ]
  },
  {
   "cell_type": "markdown",
   "id": "satellite-teaching",
   "metadata": {},
   "source": [
    "### Decision Tree with CV"
   ]
  },
  {
   "cell_type": "code",
   "execution_count": 9,
   "id": "thirty-chapel",
   "metadata": {},
   "outputs": [],
   "source": [
    "from sklearn import tree"
   ]
  },
  {
   "cell_type": "code",
   "execution_count": 13,
   "id": "marine-playing",
   "metadata": {},
   "outputs": [
    {
     "name": "stdout",
     "output_type": "stream",
     "text": [
      "0.7752717228127064 {'max_depth': 3}\n"
     ]
    }
   ],
   "source": [
    "parameters = {'max_depth':range(1,50)}\n",
    "grid_model = GridSearchCV(tree.DecisionTreeClassifier(), parameters, n_jobs=4)\n",
    "grid_model.fit(X=X_train, y=Y_train)\n",
    "tree_model = grid_model.best_estimator_\n",
    "print (grid_model.best_score_, grid_model.best_params_)"
   ]
  },
  {
   "cell_type": "code",
   "execution_count": 14,
   "id": "reliable-consortium",
   "metadata": {},
   "outputs": [
    {
     "data": {
      "text/plain": [
       "0.5964912280701754"
      ]
     },
     "execution_count": 14,
     "metadata": {},
     "output_type": "execute_result"
    }
   ],
   "source": [
    "tree_model.score(X_test, Y_test)"
   ]
  },
  {
   "cell_type": "code",
   "execution_count": 15,
   "id": "local-cambridge",
   "metadata": {},
   "outputs": [
    {
     "data": {
      "image/svg+xml": [
       "<?xml version=\"1.0\" encoding=\"UTF-8\" standalone=\"no\"?>\n",
       "<!DOCTYPE svg PUBLIC \"-//W3C//DTD SVG 1.1//EN\"\n",
       " \"http://www.w3.org/Graphics/SVG/1.1/DTD/svg11.dtd\">\n",
       "<!-- Generated by graphviz version 2.40.1 (20161225.0304)\n",
       " -->\n",
       "<!-- Title: Tree Pages: 1 -->\n",
       "<svg width=\"957pt\" height=\"433pt\"\n",
       " viewBox=\"0.00 0.00 956.50 433.00\" xmlns=\"http://www.w3.org/2000/svg\" xmlns:xlink=\"http://www.w3.org/1999/xlink\">\n",
       "<g id=\"graph0\" class=\"graph\" transform=\"scale(1 1) rotate(0) translate(4 429)\">\n",
       "<title>Tree</title>\n",
       "<polygon fill=\"#ffffff\" stroke=\"transparent\" points=\"-4,4 -4,-429 952.5,-429 952.5,4 -4,4\"/>\n",
       "<!-- 0 -->\n",
       "<g id=\"node1\" class=\"node\">\n",
       "<title>0</title>\n",
       "<polygon fill=\"none\" stroke=\"#000000\" points=\"514,-425 394,-425 394,-342 514,-342 514,-425\"/>\n",
       "<text text-anchor=\"middle\" x=\"454\" y=\"-409.8\" font-family=\"Times,serif\" font-size=\"14.00\" fill=\"#000000\">X[19] &lt;= &#45;1.047</text>\n",
       "<text text-anchor=\"middle\" x=\"454\" y=\"-394.8\" font-family=\"Times,serif\" font-size=\"14.00\" fill=\"#000000\">gini = 0.472</text>\n",
       "<text text-anchor=\"middle\" x=\"454\" y=\"-379.8\" font-family=\"Times,serif\" font-size=\"14.00\" fill=\"#000000\">samples = 912</text>\n",
       "<text text-anchor=\"middle\" x=\"454\" y=\"-364.8\" font-family=\"Times,serif\" font-size=\"14.00\" fill=\"#000000\">value = [563, 349]</text>\n",
       "<text text-anchor=\"middle\" x=\"454\" y=\"-349.8\" font-family=\"Times,serif\" font-size=\"14.00\" fill=\"#000000\">class = 0</text>\n",
       "</g>\n",
       "<!-- 1 -->\n",
       "<g id=\"node2\" class=\"node\">\n",
       "<title>1</title>\n",
       "<polygon fill=\"none\" stroke=\"#000000\" points=\"398.5,-306 285.5,-306 285.5,-223 398.5,-223 398.5,-306\"/>\n",
       "<text text-anchor=\"middle\" x=\"342\" y=\"-290.8\" font-family=\"Times,serif\" font-size=\"14.00\" fill=\"#000000\">X[1] &lt;= 0.518</text>\n",
       "<text text-anchor=\"middle\" x=\"342\" y=\"-275.8\" font-family=\"Times,serif\" font-size=\"14.00\" fill=\"#000000\">gini = 0.095</text>\n",
       "<text text-anchor=\"middle\" x=\"342\" y=\"-260.8\" font-family=\"Times,serif\" font-size=\"14.00\" fill=\"#000000\">samples = 359</text>\n",
       "<text text-anchor=\"middle\" x=\"342\" y=\"-245.8\" font-family=\"Times,serif\" font-size=\"14.00\" fill=\"#000000\">value = [341, 18]</text>\n",
       "<text text-anchor=\"middle\" x=\"342\" y=\"-230.8\" font-family=\"Times,serif\" font-size=\"14.00\" fill=\"#000000\">class = 0</text>\n",
       "</g>\n",
       "<!-- 0&#45;&gt;1 -->\n",
       "<g id=\"edge1\" class=\"edge\">\n",
       "<title>0&#45;&gt;1</title>\n",
       "<path fill=\"none\" stroke=\"#000000\" d=\"M414.8278,-341.8796C406.2665,-332.7832 397.1268,-323.0722 388.3168,-313.7116\"/>\n",
       "<polygon fill=\"#000000\" stroke=\"#000000\" points=\"390.7417,-311.1813 381.3394,-306.2981 385.6443,-315.9789 390.7417,-311.1813\"/>\n",
       "<text text-anchor=\"middle\" x=\"380.5821\" y=\"-327.5866\" font-family=\"Times,serif\" font-size=\"14.00\" fill=\"#000000\">True</text>\n",
       "</g>\n",
       "<!-- 8 -->\n",
       "<g id=\"node9\" class=\"node\">\n",
       "<title>8</title>\n",
       "<polygon fill=\"none\" stroke=\"#000000\" points=\"639,-306 519,-306 519,-223 639,-223 639,-306\"/>\n",
       "<text text-anchor=\"middle\" x=\"579\" y=\"-290.8\" font-family=\"Times,serif\" font-size=\"14.00\" fill=\"#000000\">X[2] &lt;= 0.478</text>\n",
       "<text text-anchor=\"middle\" x=\"579\" y=\"-275.8\" font-family=\"Times,serif\" font-size=\"14.00\" fill=\"#000000\">gini = 0.481</text>\n",
       "<text text-anchor=\"middle\" x=\"579\" y=\"-260.8\" font-family=\"Times,serif\" font-size=\"14.00\" fill=\"#000000\">samples = 553</text>\n",
       "<text text-anchor=\"middle\" x=\"579\" y=\"-245.8\" font-family=\"Times,serif\" font-size=\"14.00\" fill=\"#000000\">value = [222, 331]</text>\n",
       "<text text-anchor=\"middle\" x=\"579\" y=\"-230.8\" font-family=\"Times,serif\" font-size=\"14.00\" fill=\"#000000\">class = 1</text>\n",
       "</g>\n",
       "<!-- 0&#45;&gt;8 -->\n",
       "<g id=\"edge8\" class=\"edge\">\n",
       "<title>0&#45;&gt;8</title>\n",
       "<path fill=\"none\" stroke=\"#000000\" d=\"M497.7189,-341.8796C507.3686,-332.6931 517.6766,-322.8798 527.5991,-313.4336\"/>\n",
       "<polygon fill=\"#000000\" stroke=\"#000000\" points=\"530.265,-315.7282 535.0945,-306.2981 525.4384,-310.6582 530.265,-315.7282\"/>\n",
       "<text text-anchor=\"middle\" x=\"534.4799\" y=\"-327.5905\" font-family=\"Times,serif\" font-size=\"14.00\" fill=\"#000000\">False</text>\n",
       "</g>\n",
       "<!-- 2 -->\n",
       "<g id=\"node3\" class=\"node\">\n",
       "<title>2</title>\n",
       "<polygon fill=\"none\" stroke=\"#000000\" points=\"227,-187 121,-187 121,-104 227,-104 227,-187\"/>\n",
       "<text text-anchor=\"middle\" x=\"174\" y=\"-171.8\" font-family=\"Times,serif\" font-size=\"14.00\" fill=\"#000000\">X[5] &lt;= 0.864</text>\n",
       "<text text-anchor=\"middle\" x=\"174\" y=\"-156.8\" font-family=\"Times,serif\" font-size=\"14.00\" fill=\"#000000\">gini = 0.035</text>\n",
       "<text text-anchor=\"middle\" x=\"174\" y=\"-141.8\" font-family=\"Times,serif\" font-size=\"14.00\" fill=\"#000000\">samples = 335</text>\n",
       "<text text-anchor=\"middle\" x=\"174\" y=\"-126.8\" font-family=\"Times,serif\" font-size=\"14.00\" fill=\"#000000\">value = [329, 6]</text>\n",
       "<text text-anchor=\"middle\" x=\"174\" y=\"-111.8\" font-family=\"Times,serif\" font-size=\"14.00\" fill=\"#000000\">class = 0</text>\n",
       "</g>\n",
       "<!-- 1&#45;&gt;2 -->\n",
       "<g id=\"edge2\" class=\"edge\">\n",
       "<title>1&#45;&gt;2</title>\n",
       "<path fill=\"none\" stroke=\"#000000\" d=\"M285.1229,-224.212C269.1537,-212.9006 251.7195,-200.5513 235.4947,-189.0588\"/>\n",
       "<polygon fill=\"#000000\" stroke=\"#000000\" points=\"237.318,-186.0611 227.1346,-183.137 233.2718,-191.7733 237.318,-186.0611\"/>\n",
       "</g>\n",
       "<!-- 5 -->\n",
       "<g id=\"node6\" class=\"node\">\n",
       "<title>5</title>\n",
       "<polygon fill=\"none\" stroke=\"#000000\" points=\"395,-187 289,-187 289,-104 395,-104 395,-187\"/>\n",
       "<text text-anchor=\"middle\" x=\"342\" y=\"-171.8\" font-family=\"Times,serif\" font-size=\"14.00\" fill=\"#000000\">X[6] &lt;= 0.663</text>\n",
       "<text text-anchor=\"middle\" x=\"342\" y=\"-156.8\" font-family=\"Times,serif\" font-size=\"14.00\" fill=\"#000000\">gini = 0.5</text>\n",
       "<text text-anchor=\"middle\" x=\"342\" y=\"-141.8\" font-family=\"Times,serif\" font-size=\"14.00\" fill=\"#000000\">samples = 24</text>\n",
       "<text text-anchor=\"middle\" x=\"342\" y=\"-126.8\" font-family=\"Times,serif\" font-size=\"14.00\" fill=\"#000000\">value = [12, 12]</text>\n",
       "<text text-anchor=\"middle\" x=\"342\" y=\"-111.8\" font-family=\"Times,serif\" font-size=\"14.00\" fill=\"#000000\">class = 0</text>\n",
       "</g>\n",
       "<!-- 1&#45;&gt;5 -->\n",
       "<g id=\"edge5\" class=\"edge\">\n",
       "<title>1&#45;&gt;5</title>\n",
       "<path fill=\"none\" stroke=\"#000000\" d=\"M342,-222.8796C342,-214.6838 342,-205.9891 342,-197.5013\"/>\n",
       "<polygon fill=\"#000000\" stroke=\"#000000\" points=\"345.5001,-197.298 342,-187.2981 338.5001,-197.2981 345.5001,-197.298\"/>\n",
       "</g>\n",
       "<!-- 3 -->\n",
       "<g id=\"node4\" class=\"node\">\n",
       "<title>3</title>\n",
       "<polygon fill=\"none\" stroke=\"#000000\" points=\"106,-68 0,-68 0,0 106,0 106,-68\"/>\n",
       "<text text-anchor=\"middle\" x=\"53\" y=\"-52.8\" font-family=\"Times,serif\" font-size=\"14.00\" fill=\"#000000\">gini = 0.006</text>\n",
       "<text text-anchor=\"middle\" x=\"53\" y=\"-37.8\" font-family=\"Times,serif\" font-size=\"14.00\" fill=\"#000000\">samples = 314</text>\n",
       "<text text-anchor=\"middle\" x=\"53\" y=\"-22.8\" font-family=\"Times,serif\" font-size=\"14.00\" fill=\"#000000\">value = [313, 1]</text>\n",
       "<text text-anchor=\"middle\" x=\"53\" y=\"-7.8\" font-family=\"Times,serif\" font-size=\"14.00\" fill=\"#000000\">class = 0</text>\n",
       "</g>\n",
       "<!-- 2&#45;&gt;3 -->\n",
       "<g id=\"edge3\" class=\"edge\">\n",
       "<title>2&#45;&gt;3</title>\n",
       "<path fill=\"none\" stroke=\"#000000\" d=\"M128.9441,-103.9815C118.7709,-94.607 107.9733,-84.6572 97.8102,-75.2921\"/>\n",
       "<polygon fill=\"#000000\" stroke=\"#000000\" points=\"99.9087,-72.4663 90.183,-68.2637 95.1651,-77.6141 99.9087,-72.4663\"/>\n",
       "</g>\n",
       "<!-- 4 -->\n",
       "<g id=\"node5\" class=\"node\">\n",
       "<title>4</title>\n",
       "<polygon fill=\"none\" stroke=\"#000000\" points=\"223.5,-68 124.5,-68 124.5,0 223.5,0 223.5,-68\"/>\n",
       "<text text-anchor=\"middle\" x=\"174\" y=\"-52.8\" font-family=\"Times,serif\" font-size=\"14.00\" fill=\"#000000\">gini = 0.363</text>\n",
       "<text text-anchor=\"middle\" x=\"174\" y=\"-37.8\" font-family=\"Times,serif\" font-size=\"14.00\" fill=\"#000000\">samples = 21</text>\n",
       "<text text-anchor=\"middle\" x=\"174\" y=\"-22.8\" font-family=\"Times,serif\" font-size=\"14.00\" fill=\"#000000\">value = [16, 5]</text>\n",
       "<text text-anchor=\"middle\" x=\"174\" y=\"-7.8\" font-family=\"Times,serif\" font-size=\"14.00\" fill=\"#000000\">class = 0</text>\n",
       "</g>\n",
       "<!-- 2&#45;&gt;4 -->\n",
       "<g id=\"edge4\" class=\"edge\">\n",
       "<title>2&#45;&gt;4</title>\n",
       "<path fill=\"none\" stroke=\"#000000\" d=\"M174,-103.9815C174,-95.618 174,-86.7965 174,-78.3409\"/>\n",
       "<polygon fill=\"#000000\" stroke=\"#000000\" points=\"177.5001,-78.2636 174,-68.2637 170.5001,-78.2637 177.5001,-78.2636\"/>\n",
       "</g>\n",
       "<!-- 6 -->\n",
       "<g id=\"node7\" class=\"node\">\n",
       "<title>6</title>\n",
       "<polygon fill=\"none\" stroke=\"#000000\" points=\"340.5,-68 241.5,-68 241.5,0 340.5,0 340.5,-68\"/>\n",
       "<text text-anchor=\"middle\" x=\"291\" y=\"-52.8\" font-family=\"Times,serif\" font-size=\"14.00\" fill=\"#000000\">gini = 0.43</text>\n",
       "<text text-anchor=\"middle\" x=\"291\" y=\"-37.8\" font-family=\"Times,serif\" font-size=\"14.00\" fill=\"#000000\">samples = 16</text>\n",
       "<text text-anchor=\"middle\" x=\"291\" y=\"-22.8\" font-family=\"Times,serif\" font-size=\"14.00\" fill=\"#000000\">value = [11, 5]</text>\n",
       "<text text-anchor=\"middle\" x=\"291\" y=\"-7.8\" font-family=\"Times,serif\" font-size=\"14.00\" fill=\"#000000\">class = 0</text>\n",
       "</g>\n",
       "<!-- 5&#45;&gt;6 -->\n",
       "<g id=\"edge6\" class=\"edge\">\n",
       "<title>5&#45;&gt;6</title>\n",
       "<path fill=\"none\" stroke=\"#000000\" d=\"M323.0095,-103.9815C319.0579,-95.3423 314.8828,-86.2144 310.8995,-77.5059\"/>\n",
       "<polygon fill=\"#000000\" stroke=\"#000000\" points=\"314.0146,-75.9017 306.6722,-68.2637 307.6489,-78.8134 314.0146,-75.9017\"/>\n",
       "</g>\n",
       "<!-- 7 -->\n",
       "<g id=\"node8\" class=\"node\">\n",
       "<title>7</title>\n",
       "<polygon fill=\"none\" stroke=\"#000000\" points=\"451,-68 359,-68 359,0 451,0 451,-68\"/>\n",
       "<text text-anchor=\"middle\" x=\"405\" y=\"-52.8\" font-family=\"Times,serif\" font-size=\"14.00\" fill=\"#000000\">gini = 0.219</text>\n",
       "<text text-anchor=\"middle\" x=\"405\" y=\"-37.8\" font-family=\"Times,serif\" font-size=\"14.00\" fill=\"#000000\">samples = 8</text>\n",
       "<text text-anchor=\"middle\" x=\"405\" y=\"-22.8\" font-family=\"Times,serif\" font-size=\"14.00\" fill=\"#000000\">value = [1, 7]</text>\n",
       "<text text-anchor=\"middle\" x=\"405\" y=\"-7.8\" font-family=\"Times,serif\" font-size=\"14.00\" fill=\"#000000\">class = 1</text>\n",
       "</g>\n",
       "<!-- 5&#45;&gt;7 -->\n",
       "<g id=\"edge7\" class=\"edge\">\n",
       "<title>5&#45;&gt;7</title>\n",
       "<path fill=\"none\" stroke=\"#000000\" d=\"M365.4589,-103.9815C370.3922,-95.2504 375.6074,-86.0202 380.5752,-77.2281\"/>\n",
       "<polygon fill=\"#000000\" stroke=\"#000000\" points=\"383.7681,-78.6918 385.6403,-68.2637 377.6737,-75.2483 383.7681,-78.6918\"/>\n",
       "</g>\n",
       "<!-- 9 -->\n",
       "<g id=\"node10\" class=\"node\">\n",
       "<title>9</title>\n",
       "<polygon fill=\"none\" stroke=\"#000000\" points=\"635.5,-187 522.5,-187 522.5,-104 635.5,-104 635.5,-187\"/>\n",
       "<text text-anchor=\"middle\" x=\"579\" y=\"-171.8\" font-family=\"Times,serif\" font-size=\"14.00\" fill=\"#000000\">X[2] &lt;= &#45;1.143</text>\n",
       "<text text-anchor=\"middle\" x=\"579\" y=\"-156.8\" font-family=\"Times,serif\" font-size=\"14.00\" fill=\"#000000\">gini = 0.482</text>\n",
       "<text text-anchor=\"middle\" x=\"579\" y=\"-141.8\" font-family=\"Times,serif\" font-size=\"14.00\" fill=\"#000000\">samples = 195</text>\n",
       "<text text-anchor=\"middle\" x=\"579\" y=\"-126.8\" font-family=\"Times,serif\" font-size=\"14.00\" fill=\"#000000\">value = [116, 79]</text>\n",
       "<text text-anchor=\"middle\" x=\"579\" y=\"-111.8\" font-family=\"Times,serif\" font-size=\"14.00\" fill=\"#000000\">class = 0</text>\n",
       "</g>\n",
       "<!-- 8&#45;&gt;9 -->\n",
       "<g id=\"edge9\" class=\"edge\">\n",
       "<title>8&#45;&gt;9</title>\n",
       "<path fill=\"none\" stroke=\"#000000\" d=\"M579,-222.8796C579,-214.6838 579,-205.9891 579,-197.5013\"/>\n",
       "<polygon fill=\"#000000\" stroke=\"#000000\" points=\"582.5001,-197.298 579,-187.2981 575.5001,-197.2981 582.5001,-197.298\"/>\n",
       "</g>\n",
       "<!-- 12 -->\n",
       "<g id=\"node13\" class=\"node\">\n",
       "<title>12</title>\n",
       "<polygon fill=\"none\" stroke=\"#000000\" points=\"831,-187 711,-187 711,-104 831,-104 831,-187\"/>\n",
       "<text text-anchor=\"middle\" x=\"771\" y=\"-171.8\" font-family=\"Times,serif\" font-size=\"14.00\" fill=\"#000000\">X[16] &lt;= &#45;0.551</text>\n",
       "<text text-anchor=\"middle\" x=\"771\" y=\"-156.8\" font-family=\"Times,serif\" font-size=\"14.00\" fill=\"#000000\">gini = 0.417</text>\n",
       "<text text-anchor=\"middle\" x=\"771\" y=\"-141.8\" font-family=\"Times,serif\" font-size=\"14.00\" fill=\"#000000\">samples = 358</text>\n",
       "<text text-anchor=\"middle\" x=\"771\" y=\"-126.8\" font-family=\"Times,serif\" font-size=\"14.00\" fill=\"#000000\">value = [106, 252]</text>\n",
       "<text text-anchor=\"middle\" x=\"771\" y=\"-111.8\" font-family=\"Times,serif\" font-size=\"14.00\" fill=\"#000000\">class = 1</text>\n",
       "</g>\n",
       "<!-- 8&#45;&gt;12 -->\n",
       "<g id=\"edge12\" class=\"edge\">\n",
       "<title>8&#45;&gt;12</title>\n",
       "<path fill=\"none\" stroke=\"#000000\" d=\"M639.2232,-227.1742C659.2387,-214.7687 681.6755,-200.8626 702.2831,-188.0902\"/>\n",
       "<polygon fill=\"#000000\" stroke=\"#000000\" points=\"704.3345,-190.9365 710.9905,-182.6934 700.6468,-184.9866 704.3345,-190.9365\"/>\n",
       "</g>\n",
       "<!-- 10 -->\n",
       "<g id=\"node11\" class=\"node\">\n",
       "<title>10</title>\n",
       "<polygon fill=\"none\" stroke=\"#000000\" points=\"575,-68 469,-68 469,0 575,0 575,-68\"/>\n",
       "<text text-anchor=\"middle\" x=\"522\" y=\"-52.8\" font-family=\"Times,serif\" font-size=\"14.00\" fill=\"#000000\">gini = 0.438</text>\n",
       "<text text-anchor=\"middle\" x=\"522\" y=\"-37.8\" font-family=\"Times,serif\" font-size=\"14.00\" fill=\"#000000\">samples = 37</text>\n",
       "<text text-anchor=\"middle\" x=\"522\" y=\"-22.8\" font-family=\"Times,serif\" font-size=\"14.00\" fill=\"#000000\">value = [12, 25]</text>\n",
       "<text text-anchor=\"middle\" x=\"522\" y=\"-7.8\" font-family=\"Times,serif\" font-size=\"14.00\" fill=\"#000000\">class = 1</text>\n",
       "</g>\n",
       "<!-- 9&#45;&gt;10 -->\n",
       "<g id=\"edge10\" class=\"edge\">\n",
       "<title>9&#45;&gt;10</title>\n",
       "<path fill=\"none\" stroke=\"#000000\" d=\"M557.7753,-103.9815C553.3119,-95.2504 548.5933,-86.0202 544.0987,-77.2281\"/>\n",
       "<polygon fill=\"#000000\" stroke=\"#000000\" points=\"547.1842,-75.5745 539.516,-68.2637 540.9514,-78.7608 547.1842,-75.5745\"/>\n",
       "</g>\n",
       "<!-- 11 -->\n",
       "<g id=\"node12\" class=\"node\">\n",
       "<title>11</title>\n",
       "<polygon fill=\"none\" stroke=\"#000000\" points=\"706.5,-68 593.5,-68 593.5,0 706.5,0 706.5,-68\"/>\n",
       "<text text-anchor=\"middle\" x=\"650\" y=\"-52.8\" font-family=\"Times,serif\" font-size=\"14.00\" fill=\"#000000\">gini = 0.45</text>\n",
       "<text text-anchor=\"middle\" x=\"650\" y=\"-37.8\" font-family=\"Times,serif\" font-size=\"14.00\" fill=\"#000000\">samples = 158</text>\n",
       "<text text-anchor=\"middle\" x=\"650\" y=\"-22.8\" font-family=\"Times,serif\" font-size=\"14.00\" fill=\"#000000\">value = [104, 54]</text>\n",
       "<text text-anchor=\"middle\" x=\"650\" y=\"-7.8\" font-family=\"Times,serif\" font-size=\"14.00\" fill=\"#000000\">class = 0</text>\n",
       "</g>\n",
       "<!-- 9&#45;&gt;11 -->\n",
       "<g id=\"edge11\" class=\"edge\">\n",
       "<title>9&#45;&gt;11</title>\n",
       "<path fill=\"none\" stroke=\"#000000\" d=\"M605.4378,-103.9815C611.056,-95.1585 616.9988,-85.8258 622.6503,-76.9506\"/>\n",
       "<polygon fill=\"#000000\" stroke=\"#000000\" points=\"625.7629,-78.5787 628.1819,-68.2637 619.8584,-74.8188 625.7629,-78.5787\"/>\n",
       "</g>\n",
       "<!-- 13 -->\n",
       "<g id=\"node14\" class=\"node\">\n",
       "<title>13</title>\n",
       "<polygon fill=\"none\" stroke=\"#000000\" points=\"817,-68 725,-68 725,0 817,0 817,-68\"/>\n",
       "<text text-anchor=\"middle\" x=\"771\" y=\"-52.8\" font-family=\"Times,serif\" font-size=\"14.00\" fill=\"#000000\">gini = 0.32</text>\n",
       "<text text-anchor=\"middle\" x=\"771\" y=\"-37.8\" font-family=\"Times,serif\" font-size=\"14.00\" fill=\"#000000\">samples = 10</text>\n",
       "<text text-anchor=\"middle\" x=\"771\" y=\"-22.8\" font-family=\"Times,serif\" font-size=\"14.00\" fill=\"#000000\">value = [8, 2]</text>\n",
       "<text text-anchor=\"middle\" x=\"771\" y=\"-7.8\" font-family=\"Times,serif\" font-size=\"14.00\" fill=\"#000000\">class = 0</text>\n",
       "</g>\n",
       "<!-- 12&#45;&gt;13 -->\n",
       "<g id=\"edge13\" class=\"edge\">\n",
       "<title>12&#45;&gt;13</title>\n",
       "<path fill=\"none\" stroke=\"#000000\" d=\"M771,-103.9815C771,-95.618 771,-86.7965 771,-78.3409\"/>\n",
       "<polygon fill=\"#000000\" stroke=\"#000000\" points=\"774.5001,-78.2636 771,-68.2637 767.5001,-78.2637 774.5001,-78.2636\"/>\n",
       "</g>\n",
       "<!-- 14 -->\n",
       "<g id=\"node15\" class=\"node\">\n",
       "<title>14</title>\n",
       "<polygon fill=\"none\" stroke=\"#000000\" points=\"948.5,-68 835.5,-68 835.5,0 948.5,0 948.5,-68\"/>\n",
       "<text text-anchor=\"middle\" x=\"892\" y=\"-52.8\" font-family=\"Times,serif\" font-size=\"14.00\" fill=\"#000000\">gini = 0.405</text>\n",
       "<text text-anchor=\"middle\" x=\"892\" y=\"-37.8\" font-family=\"Times,serif\" font-size=\"14.00\" fill=\"#000000\">samples = 348</text>\n",
       "<text text-anchor=\"middle\" x=\"892\" y=\"-22.8\" font-family=\"Times,serif\" font-size=\"14.00\" fill=\"#000000\">value = [98, 250]</text>\n",
       "<text text-anchor=\"middle\" x=\"892\" y=\"-7.8\" font-family=\"Times,serif\" font-size=\"14.00\" fill=\"#000000\">class = 1</text>\n",
       "</g>\n",
       "<!-- 12&#45;&gt;14 -->\n",
       "<g id=\"edge14\" class=\"edge\">\n",
       "<title>12&#45;&gt;14</title>\n",
       "<path fill=\"none\" stroke=\"#000000\" d=\"M816.0559,-103.9815C826.2291,-94.607 837.0267,-84.6572 847.1898,-75.2921\"/>\n",
       "<polygon fill=\"#000000\" stroke=\"#000000\" points=\"849.8349,-77.6141 854.817,-68.2637 845.0913,-72.4663 849.8349,-77.6141\"/>\n",
       "</g>\n",
       "</g>\n",
       "</svg>\n"
      ],
      "text/plain": [
       "<graphviz.files.Source at 0x7fa19b169ee0>"
      ]
     },
     "execution_count": 15,
     "metadata": {},
     "output_type": "execute_result"
    }
   ],
   "source": [
    "import graphviz\n",
    "dot_data = tree.export_graphviz(tree_model, class_names=['0', '1'])\n",
    "graph = graphviz.Source(dot_data)\n",
    "graph"
   ]
  },
  {
   "cell_type": "markdown",
   "id": "furnished-render",
   "metadata": {},
   "source": [
    "Extract a samples with last event represented by a number < -1.047 and then go back to non-scaled dataset:"
   ]
  },
  {
   "cell_type": "code",
   "execution_count": 16,
   "id": "looking-valve",
   "metadata": {},
   "outputs": [],
   "source": [
    "indices = []\n",
    "for i,sample in enumerate(X_train):\n",
    "    if sample[19]<=-1.047:\n",
    "        indices.append(i)"
   ]
  },
  {
   "cell_type": "code",
   "execution_count": 17,
   "id": "refined-council",
   "metadata": {},
   "outputs": [],
   "source": [
    "X_train_unscaled = scaler.inverse_transform(X_train)"
   ]
  },
  {
   "cell_type": "code",
   "execution_count": 18,
   "id": "packed-glory",
   "metadata": {},
   "outputs": [
    {
     "data": {
      "text/plain": [
       "array([0.])"
      ]
     },
     "execution_count": 18,
     "metadata": {},
     "output_type": "execute_result"
    }
   ],
   "source": [
    "np.unique(X_train_unscaled[indices][:,19])"
   ]
  },
  {
   "cell_type": "markdown",
   "id": "indie-humidity",
   "metadata": {},
   "source": [
    "It's difficult to interprete the tree diagram in this case, but we can easily observe that if a sequence has ***length shorter than PL (=20)*** then we can be almost sure that the case will be classified as 0."
   ]
  },
  {
   "cell_type": "markdown",
   "id": "nominated-northeast",
   "metadata": {},
   "source": [
    "Save it as .png:"
   ]
  },
  {
   "cell_type": "code",
   "execution_count": 19,
   "id": "immediate-impression",
   "metadata": {},
   "outputs": [],
   "source": [
    "import pydot\n",
    "(graph,) = pydot.graph_from_dot_data(dot_data)\n",
    "graph.write_png('decision_tree.png')"
   ]
  },
  {
   "cell_type": "markdown",
   "id": "surprised-examination",
   "metadata": {},
   "source": [
    "### Random Forest with CV"
   ]
  },
  {
   "cell_type": "code",
   "execution_count": 20,
   "id": "therapeutic-wichita",
   "metadata": {},
   "outputs": [],
   "source": [
    "from sklearn.ensemble import RandomForestClassifier"
   ]
  },
  {
   "cell_type": "code",
   "execution_count": 36,
   "id": "proper-captain",
   "metadata": {},
   "outputs": [
    {
     "name": "stdout",
     "output_type": "stream",
     "text": [
      "0.7686723112952621 {'max_depth': 3, 'n_estimators': 24}\n"
     ]
    }
   ],
   "source": [
    "parameters = {'max_depth':range(1,20), 'n_estimators':range(1,30)}\n",
    "grid_model = GridSearchCV(RandomForestClassifier(), parameters, n_jobs=4)\n",
    "grid_model.fit(X=X_train, y=Y_train)\n",
    "forest_model = grid_model.best_estimator_\n",
    "print (grid_model.best_score_, grid_model.best_params_)"
   ]
  },
  {
   "cell_type": "code",
   "execution_count": 37,
   "id": "ready-privacy",
   "metadata": {},
   "outputs": [
    {
     "data": {
      "text/plain": [
       "0.5921052631578947"
      ]
     },
     "execution_count": 37,
     "metadata": {},
     "output_type": "execute_result"
    }
   ],
   "source": [
    "forest_model.score(X_test, Y_test)"
   ]
  },
  {
   "cell_type": "code",
   "execution_count": 52,
   "id": "declared-complaint",
   "metadata": {},
   "outputs": [
    {
     "data": {
      "image/svg+xml": [
       "<?xml version=\"1.0\" encoding=\"UTF-8\" standalone=\"no\"?>\n",
       "<!DOCTYPE svg PUBLIC \"-//W3C//DTD SVG 1.1//EN\"\n",
       " \"http://www.w3.org/Graphics/SVG/1.1/DTD/svg11.dtd\">\n",
       "<!-- Generated by graphviz version 2.40.1 (20161225.0304)\n",
       " -->\n",
       "<!-- Title: Tree Pages: 1 -->\n",
       "<svg width=\"956pt\" height=\"433pt\"\n",
       " viewBox=\"0.00 0.00 956.00 433.00\" xmlns=\"http://www.w3.org/2000/svg\" xmlns:xlink=\"http://www.w3.org/1999/xlink\">\n",
       "<g id=\"graph0\" class=\"graph\" transform=\"scale(1 1) rotate(0) translate(4 429)\">\n",
       "<title>Tree</title>\n",
       "<polygon fill=\"#ffffff\" stroke=\"transparent\" points=\"-4,4 -4,-429 952,-429 952,4 -4,4\"/>\n",
       "<!-- 0 -->\n",
       "<g id=\"node1\" class=\"node\">\n",
       "<title>0</title>\n",
       "<polygon fill=\"none\" stroke=\"#000000\" points=\"509,-425 389,-425 389,-342 509,-342 509,-425\"/>\n",
       "<text text-anchor=\"middle\" x=\"449\" y=\"-409.8\" font-family=\"Times,serif\" font-size=\"14.00\" fill=\"#000000\">X[13] &lt;= &#45;1.041</text>\n",
       "<text text-anchor=\"middle\" x=\"449\" y=\"-394.8\" font-family=\"Times,serif\" font-size=\"14.00\" fill=\"#000000\">gini = 0.465</text>\n",
       "<text text-anchor=\"middle\" x=\"449\" y=\"-379.8\" font-family=\"Times,serif\" font-size=\"14.00\" fill=\"#000000\">samples = 581</text>\n",
       "<text text-anchor=\"middle\" x=\"449\" y=\"-364.8\" font-family=\"Times,serif\" font-size=\"14.00\" fill=\"#000000\">value = [576, 336]</text>\n",
       "<text text-anchor=\"middle\" x=\"449\" y=\"-349.8\" font-family=\"Times,serif\" font-size=\"14.00\" fill=\"#000000\">class = 0</text>\n",
       "</g>\n",
       "<!-- 1 -->\n",
       "<g id=\"node2\" class=\"node\">\n",
       "<title>1</title>\n",
       "<polygon fill=\"none\" stroke=\"#000000\" points=\"390,-306 284,-306 284,-223 390,-223 390,-306\"/>\n",
       "<text text-anchor=\"middle\" x=\"337\" y=\"-290.8\" font-family=\"Times,serif\" font-size=\"14.00\" fill=\"#000000\">X[1] &lt;= 0.518</text>\n",
       "<text text-anchor=\"middle\" x=\"337\" y=\"-275.8\" font-family=\"Times,serif\" font-size=\"14.00\" fill=\"#000000\">gini = 0.046</text>\n",
       "<text text-anchor=\"middle\" x=\"337\" y=\"-260.8\" font-family=\"Times,serif\" font-size=\"14.00\" fill=\"#000000\">samples = 216</text>\n",
       "<text text-anchor=\"middle\" x=\"337\" y=\"-245.8\" font-family=\"Times,serif\" font-size=\"14.00\" fill=\"#000000\">value = [335, 8]</text>\n",
       "<text text-anchor=\"middle\" x=\"337\" y=\"-230.8\" font-family=\"Times,serif\" font-size=\"14.00\" fill=\"#000000\">class = 0</text>\n",
       "</g>\n",
       "<!-- 0&#45;&gt;1 -->\n",
       "<g id=\"edge1\" class=\"edge\">\n",
       "<title>0&#45;&gt;1</title>\n",
       "<path fill=\"none\" stroke=\"#000000\" d=\"M409.8278,-341.8796C401.2665,-332.7832 392.1268,-323.0722 383.3168,-313.7116\"/>\n",
       "<polygon fill=\"#000000\" stroke=\"#000000\" points=\"385.7417,-311.1813 376.3394,-306.2981 380.6443,-315.9789 385.7417,-311.1813\"/>\n",
       "<text text-anchor=\"middle\" x=\"375.5821\" y=\"-327.5866\" font-family=\"Times,serif\" font-size=\"14.00\" fill=\"#000000\">True</text>\n",
       "</g>\n",
       "<!-- 8 -->\n",
       "<g id=\"node9\" class=\"node\">\n",
       "<title>8</title>\n",
       "<polygon fill=\"none\" stroke=\"#000000\" points=\"632,-306 512,-306 512,-223 632,-223 632,-306\"/>\n",
       "<text text-anchor=\"middle\" x=\"572\" y=\"-290.8\" font-family=\"Times,serif\" font-size=\"14.00\" fill=\"#000000\">X[0] &lt;= 0.776</text>\n",
       "<text text-anchor=\"middle\" x=\"572\" y=\"-275.8\" font-family=\"Times,serif\" font-size=\"14.00\" fill=\"#000000\">gini = 0.488</text>\n",
       "<text text-anchor=\"middle\" x=\"572\" y=\"-260.8\" font-family=\"Times,serif\" font-size=\"14.00\" fill=\"#000000\">samples = 365</text>\n",
       "<text text-anchor=\"middle\" x=\"572\" y=\"-245.8\" font-family=\"Times,serif\" font-size=\"14.00\" fill=\"#000000\">value = [241, 328]</text>\n",
       "<text text-anchor=\"middle\" x=\"572\" y=\"-230.8\" font-family=\"Times,serif\" font-size=\"14.00\" fill=\"#000000\">class = 1</text>\n",
       "</g>\n",
       "<!-- 0&#45;&gt;8 -->\n",
       "<g id=\"edge8\" class=\"edge\">\n",
       "<title>0&#45;&gt;8</title>\n",
       "<path fill=\"none\" stroke=\"#000000\" d=\"M492.0194,-341.8796C501.5147,-332.6931 511.6578,-322.8798 521.4215,-313.4336\"/>\n",
       "<polygon fill=\"#000000\" stroke=\"#000000\" points=\"524.0436,-315.7668 528.797,-306.2981 519.1763,-310.7359 524.0436,-315.7668\"/>\n",
       "<text text-anchor=\"middle\" x=\"528.3838\" y=\"-327.5947\" font-family=\"Times,serif\" font-size=\"14.00\" fill=\"#000000\">False</text>\n",
       "</g>\n",
       "<!-- 2 -->\n",
       "<g id=\"node3\" class=\"node\">\n",
       "<title>2</title>\n",
       "<polygon fill=\"none\" stroke=\"#000000\" points=\"223,-187 117,-187 117,-104 223,-104 223,-187\"/>\n",
       "<text text-anchor=\"middle\" x=\"170\" y=\"-171.8\" font-family=\"Times,serif\" font-size=\"14.00\" fill=\"#000000\">X[8] &lt;= 1.219</text>\n",
       "<text text-anchor=\"middle\" x=\"170\" y=\"-156.8\" font-family=\"Times,serif\" font-size=\"14.00\" fill=\"#000000\">gini = 0.024</text>\n",
       "<text text-anchor=\"middle\" x=\"170\" y=\"-141.8\" font-family=\"Times,serif\" font-size=\"14.00\" fill=\"#000000\">samples = 207</text>\n",
       "<text text-anchor=\"middle\" x=\"170\" y=\"-126.8\" font-family=\"Times,serif\" font-size=\"14.00\" fill=\"#000000\">value = [323, 4]</text>\n",
       "<text text-anchor=\"middle\" x=\"170\" y=\"-111.8\" font-family=\"Times,serif\" font-size=\"14.00\" fill=\"#000000\">class = 0</text>\n",
       "</g>\n",
       "<!-- 1&#45;&gt;2 -->\n",
       "<g id=\"edge2\" class=\"edge\">\n",
       "<title>1&#45;&gt;2</title>\n",
       "<path fill=\"none\" stroke=\"#000000\" d=\"M283.701,-226.5205C267.0483,-214.6542 248.5435,-201.4681 231.382,-189.2393\"/>\n",
       "<polygon fill=\"#000000\" stroke=\"#000000\" points=\"233.2542,-186.2757 223.0792,-183.3229 229.192,-191.9765 233.2542,-186.2757\"/>\n",
       "</g>\n",
       "<!-- 5 -->\n",
       "<g id=\"node6\" class=\"node\">\n",
       "<title>5</title>\n",
       "<polygon fill=\"none\" stroke=\"#000000\" points=\"386.5,-187 287.5,-187 287.5,-104 386.5,-104 386.5,-187\"/>\n",
       "<text text-anchor=\"middle\" x=\"337\" y=\"-171.8\" font-family=\"Times,serif\" font-size=\"14.00\" fill=\"#000000\">X[0] &lt;= 0.949</text>\n",
       "<text text-anchor=\"middle\" x=\"337\" y=\"-156.8\" font-family=\"Times,serif\" font-size=\"14.00\" fill=\"#000000\">gini = 0.375</text>\n",
       "<text text-anchor=\"middle\" x=\"337\" y=\"-141.8\" font-family=\"Times,serif\" font-size=\"14.00\" fill=\"#000000\">samples = 9</text>\n",
       "<text text-anchor=\"middle\" x=\"337\" y=\"-126.8\" font-family=\"Times,serif\" font-size=\"14.00\" fill=\"#000000\">value = [12, 4]</text>\n",
       "<text text-anchor=\"middle\" x=\"337\" y=\"-111.8\" font-family=\"Times,serif\" font-size=\"14.00\" fill=\"#000000\">class = 0</text>\n",
       "</g>\n",
       "<!-- 1&#45;&gt;5 -->\n",
       "<g id=\"edge5\" class=\"edge\">\n",
       "<title>1&#45;&gt;5</title>\n",
       "<path fill=\"none\" stroke=\"#000000\" d=\"M337,-222.8796C337,-214.6838 337,-205.9891 337,-197.5013\"/>\n",
       "<polygon fill=\"#000000\" stroke=\"#000000\" points=\"340.5001,-197.298 337,-187.2981 333.5001,-197.2981 340.5001,-197.298\"/>\n",
       "</g>\n",
       "<!-- 3 -->\n",
       "<g id=\"node4\" class=\"node\">\n",
       "<title>3</title>\n",
       "<polygon fill=\"none\" stroke=\"#000000\" points=\"106,-68 0,-68 0,0 106,0 106,-68\"/>\n",
       "<text text-anchor=\"middle\" x=\"53\" y=\"-52.8\" font-family=\"Times,serif\" font-size=\"14.00\" fill=\"#000000\">gini = 0.012</text>\n",
       "<text text-anchor=\"middle\" x=\"53\" y=\"-37.8\" font-family=\"Times,serif\" font-size=\"14.00\" fill=\"#000000\">samples = 202</text>\n",
       "<text text-anchor=\"middle\" x=\"53\" y=\"-22.8\" font-family=\"Times,serif\" font-size=\"14.00\" fill=\"#000000\">value = [318, 2]</text>\n",
       "<text text-anchor=\"middle\" x=\"53\" y=\"-7.8\" font-family=\"Times,serif\" font-size=\"14.00\" fill=\"#000000\">class = 0</text>\n",
       "</g>\n",
       "<!-- 2&#45;&gt;3 -->\n",
       "<g id=\"edge3\" class=\"edge\">\n",
       "<title>2&#45;&gt;3</title>\n",
       "<path fill=\"none\" stroke=\"#000000\" d=\"M126.4335,-103.9815C116.5966,-94.607 106.156,-84.6572 96.3289,-75.2921\"/>\n",
       "<polygon fill=\"#000000\" stroke=\"#000000\" points=\"98.6076,-72.6289 88.9538,-68.2637 93.7784,-77.6963 98.6076,-72.6289\"/>\n",
       "</g>\n",
       "<!-- 4 -->\n",
       "<g id=\"node5\" class=\"node\">\n",
       "<title>4</title>\n",
       "<polygon fill=\"none\" stroke=\"#000000\" points=\"216,-68 124,-68 124,0 216,0 216,-68\"/>\n",
       "<text text-anchor=\"middle\" x=\"170\" y=\"-52.8\" font-family=\"Times,serif\" font-size=\"14.00\" fill=\"#000000\">gini = 0.408</text>\n",
       "<text text-anchor=\"middle\" x=\"170\" y=\"-37.8\" font-family=\"Times,serif\" font-size=\"14.00\" fill=\"#000000\">samples = 5</text>\n",
       "<text text-anchor=\"middle\" x=\"170\" y=\"-22.8\" font-family=\"Times,serif\" font-size=\"14.00\" fill=\"#000000\">value = [5, 2]</text>\n",
       "<text text-anchor=\"middle\" x=\"170\" y=\"-7.8\" font-family=\"Times,serif\" font-size=\"14.00\" fill=\"#000000\">class = 0</text>\n",
       "</g>\n",
       "<!-- 2&#45;&gt;4 -->\n",
       "<g id=\"edge4\" class=\"edge\">\n",
       "<title>2&#45;&gt;4</title>\n",
       "<path fill=\"none\" stroke=\"#000000\" d=\"M170,-103.9815C170,-95.618 170,-86.7965 170,-78.3409\"/>\n",
       "<polygon fill=\"#000000\" stroke=\"#000000\" points=\"173.5001,-78.2636 170,-68.2637 166.5001,-78.2637 173.5001,-78.2636\"/>\n",
       "</g>\n",
       "<!-- 6 -->\n",
       "<g id=\"node7\" class=\"node\">\n",
       "<title>6</title>\n",
       "<polygon fill=\"none\" stroke=\"#000000\" points=\"333.5,-68 234.5,-68 234.5,0 333.5,0 333.5,-68\"/>\n",
       "<text text-anchor=\"middle\" x=\"284\" y=\"-52.8\" font-family=\"Times,serif\" font-size=\"14.00\" fill=\"#000000\">gini = 0.245</text>\n",
       "<text text-anchor=\"middle\" x=\"284\" y=\"-37.8\" font-family=\"Times,serif\" font-size=\"14.00\" fill=\"#000000\">samples = 7</text>\n",
       "<text text-anchor=\"middle\" x=\"284\" y=\"-22.8\" font-family=\"Times,serif\" font-size=\"14.00\" fill=\"#000000\">value = [12, 2]</text>\n",
       "<text text-anchor=\"middle\" x=\"284\" y=\"-7.8\" font-family=\"Times,serif\" font-size=\"14.00\" fill=\"#000000\">class = 0</text>\n",
       "</g>\n",
       "<!-- 5&#45;&gt;6 -->\n",
       "<g id=\"edge6\" class=\"edge\">\n",
       "<title>5&#45;&gt;6</title>\n",
       "<path fill=\"none\" stroke=\"#000000\" d=\"M317.2648,-103.9815C313.1582,-95.3423 308.8194,-86.2144 304.6799,-77.5059\"/>\n",
       "<polygon fill=\"#000000\" stroke=\"#000000\" points=\"307.7409,-75.7927 300.2868,-68.2637 301.4188,-78.7979 307.7409,-75.7927\"/>\n",
       "</g>\n",
       "<!-- 7 -->\n",
       "<g id=\"node8\" class=\"node\">\n",
       "<title>7</title>\n",
       "<polygon fill=\"none\" stroke=\"#000000\" points=\"444,-68 352,-68 352,0 444,0 444,-68\"/>\n",
       "<text text-anchor=\"middle\" x=\"398\" y=\"-52.8\" font-family=\"Times,serif\" font-size=\"14.00\" fill=\"#000000\">gini = 0.0</text>\n",
       "<text text-anchor=\"middle\" x=\"398\" y=\"-37.8\" font-family=\"Times,serif\" font-size=\"14.00\" fill=\"#000000\">samples = 2</text>\n",
       "<text text-anchor=\"middle\" x=\"398\" y=\"-22.8\" font-family=\"Times,serif\" font-size=\"14.00\" fill=\"#000000\">value = [0, 2]</text>\n",
       "<text text-anchor=\"middle\" x=\"398\" y=\"-7.8\" font-family=\"Times,serif\" font-size=\"14.00\" fill=\"#000000\">class = 1</text>\n",
       "</g>\n",
       "<!-- 5&#45;&gt;7 -->\n",
       "<g id=\"edge7\" class=\"edge\">\n",
       "<title>5&#45;&gt;7</title>\n",
       "<path fill=\"none\" stroke=\"#000000\" d=\"M359.7141,-103.9815C364.4908,-95.2504 369.5405,-86.0202 374.3506,-77.2281\"/>\n",
       "<polygon fill=\"#000000\" stroke=\"#000000\" points=\"377.5258,-78.7165 379.2549,-68.2637 371.3847,-75.3568 377.5258,-78.7165\"/>\n",
       "</g>\n",
       "<!-- 9 -->\n",
       "<g id=\"node10\" class=\"node\">\n",
       "<title>9</title>\n",
       "<polygon fill=\"none\" stroke=\"#000000\" points=\"632,-187 512,-187 512,-104 632,-104 632,-187\"/>\n",
       "<text text-anchor=\"middle\" x=\"572\" y=\"-171.8\" font-family=\"Times,serif\" font-size=\"14.00\" fill=\"#000000\">X[2] &lt;= 0.478</text>\n",
       "<text text-anchor=\"middle\" x=\"572\" y=\"-156.8\" font-family=\"Times,serif\" font-size=\"14.00\" fill=\"#000000\">gini = 0.497</text>\n",
       "<text text-anchor=\"middle\" x=\"572\" y=\"-141.8\" font-family=\"Times,serif\" font-size=\"14.00\" fill=\"#000000\">samples = 150</text>\n",
       "<text text-anchor=\"middle\" x=\"572\" y=\"-126.8\" font-family=\"Times,serif\" font-size=\"14.00\" fill=\"#000000\">value = [129, 110]</text>\n",
       "<text text-anchor=\"middle\" x=\"572\" y=\"-111.8\" font-family=\"Times,serif\" font-size=\"14.00\" fill=\"#000000\">class = 0</text>\n",
       "</g>\n",
       "<!-- 8&#45;&gt;9 -->\n",
       "<g id=\"edge9\" class=\"edge\">\n",
       "<title>8&#45;&gt;9</title>\n",
       "<path fill=\"none\" stroke=\"#000000\" d=\"M572,-222.8796C572,-214.6838 572,-205.9891 572,-197.5013\"/>\n",
       "<polygon fill=\"#000000\" stroke=\"#000000\" points=\"575.5001,-197.298 572,-187.2981 568.5001,-197.2981 575.5001,-197.298\"/>\n",
       "</g>\n",
       "<!-- 12 -->\n",
       "<g id=\"node13\" class=\"node\">\n",
       "<title>12</title>\n",
       "<polygon fill=\"none\" stroke=\"#000000\" points=\"827,-187 707,-187 707,-104 827,-104 827,-187\"/>\n",
       "<text text-anchor=\"middle\" x=\"767\" y=\"-171.8\" font-family=\"Times,serif\" font-size=\"14.00\" fill=\"#000000\">X[18] &lt;= 1.112</text>\n",
       "<text text-anchor=\"middle\" x=\"767\" y=\"-156.8\" font-family=\"Times,serif\" font-size=\"14.00\" fill=\"#000000\">gini = 0.448</text>\n",
       "<text text-anchor=\"middle\" x=\"767\" y=\"-141.8\" font-family=\"Times,serif\" font-size=\"14.00\" fill=\"#000000\">samples = 215</text>\n",
       "<text text-anchor=\"middle\" x=\"767\" y=\"-126.8\" font-family=\"Times,serif\" font-size=\"14.00\" fill=\"#000000\">value = [112, 218]</text>\n",
       "<text text-anchor=\"middle\" x=\"767\" y=\"-111.8\" font-family=\"Times,serif\" font-size=\"14.00\" fill=\"#000000\">class = 1</text>\n",
       "</g>\n",
       "<!-- 8&#45;&gt;12 -->\n",
       "<g id=\"edge12\" class=\"edge\">\n",
       "<title>8&#45;&gt;12</title>\n",
       "<path fill=\"none\" stroke=\"#000000\" d=\"M632.0976,-227.8251C652.9487,-215.1005 676.4899,-200.7344 698.0016,-187.6067\"/>\n",
       "<polygon fill=\"#000000\" stroke=\"#000000\" points=\"700.0524,-190.4555 706.7652,-182.2587 696.4059,-184.4803 700.0524,-190.4555\"/>\n",
       "</g>\n",
       "<!-- 10 -->\n",
       "<g id=\"node11\" class=\"node\">\n",
       "<title>10</title>\n",
       "<polygon fill=\"none\" stroke=\"#000000\" points=\"568,-68 462,-68 462,0 568,0 568,-68\"/>\n",
       "<text text-anchor=\"middle\" x=\"515\" y=\"-52.8\" font-family=\"Times,serif\" font-size=\"14.00\" fill=\"#000000\">gini = 0.443</text>\n",
       "<text text-anchor=\"middle\" x=\"515\" y=\"-37.8\" font-family=\"Times,serif\" font-size=\"14.00\" fill=\"#000000\">samples = 88</text>\n",
       "<text text-anchor=\"middle\" x=\"515\" y=\"-22.8\" font-family=\"Times,serif\" font-size=\"14.00\" fill=\"#000000\">value = [93, 46]</text>\n",
       "<text text-anchor=\"middle\" x=\"515\" y=\"-7.8\" font-family=\"Times,serif\" font-size=\"14.00\" fill=\"#000000\">class = 0</text>\n",
       "</g>\n",
       "<!-- 9&#45;&gt;10 -->\n",
       "<g id=\"edge10\" class=\"edge\">\n",
       "<title>9&#45;&gt;10</title>\n",
       "<path fill=\"none\" stroke=\"#000000\" d=\"M550.7753,-103.9815C546.3119,-95.2504 541.5933,-86.0202 537.0987,-77.2281\"/>\n",
       "<polygon fill=\"#000000\" stroke=\"#000000\" points=\"540.1842,-75.5745 532.516,-68.2637 533.9514,-78.7608 540.1842,-75.5745\"/>\n",
       "</g>\n",
       "<!-- 11 -->\n",
       "<g id=\"node12\" class=\"node\">\n",
       "<title>11</title>\n",
       "<polygon fill=\"none\" stroke=\"#000000\" points=\"692,-68 586,-68 586,0 692,0 692,-68\"/>\n",
       "<text text-anchor=\"middle\" x=\"639\" y=\"-52.8\" font-family=\"Times,serif\" font-size=\"14.00\" fill=\"#000000\">gini = 0.461</text>\n",
       "<text text-anchor=\"middle\" x=\"639\" y=\"-37.8\" font-family=\"Times,serif\" font-size=\"14.00\" fill=\"#000000\">samples = 62</text>\n",
       "<text text-anchor=\"middle\" x=\"639\" y=\"-22.8\" font-family=\"Times,serif\" font-size=\"14.00\" fill=\"#000000\">value = [36, 64]</text>\n",
       "<text text-anchor=\"middle\" x=\"639\" y=\"-7.8\" font-family=\"Times,serif\" font-size=\"14.00\" fill=\"#000000\">class = 1</text>\n",
       "</g>\n",
       "<!-- 9&#45;&gt;11 -->\n",
       "<g id=\"edge11\" class=\"edge\">\n",
       "<title>9&#45;&gt;11</title>\n",
       "<path fill=\"none\" stroke=\"#000000\" d=\"M596.9483,-103.9815C602.2501,-95.1585 607.8581,-85.8258 613.1911,-76.9506\"/>\n",
       "<polygon fill=\"#000000\" stroke=\"#000000\" points=\"616.2605,-78.638 618.4111,-68.2637 610.2604,-75.0325 616.2605,-78.638\"/>\n",
       "</g>\n",
       "<!-- 13 -->\n",
       "<g id=\"node14\" class=\"node\">\n",
       "<title>13</title>\n",
       "<polygon fill=\"none\" stroke=\"#000000\" points=\"823.5,-68 710.5,-68 710.5,0 823.5,0 823.5,-68\"/>\n",
       "<text text-anchor=\"middle\" x=\"767\" y=\"-52.8\" font-family=\"Times,serif\" font-size=\"14.00\" fill=\"#000000\">gini = 0.487</text>\n",
       "<text text-anchor=\"middle\" x=\"767\" y=\"-37.8\" font-family=\"Times,serif\" font-size=\"14.00\" fill=\"#000000\">samples = 133</text>\n",
       "<text text-anchor=\"middle\" x=\"767\" y=\"-22.8\" font-family=\"Times,serif\" font-size=\"14.00\" fill=\"#000000\">value = [86, 119]</text>\n",
       "<text text-anchor=\"middle\" x=\"767\" y=\"-7.8\" font-family=\"Times,serif\" font-size=\"14.00\" fill=\"#000000\">class = 1</text>\n",
       "</g>\n",
       "<!-- 12&#45;&gt;13 -->\n",
       "<g id=\"edge13\" class=\"edge\">\n",
       "<title>12&#45;&gt;13</title>\n",
       "<path fill=\"none\" stroke=\"#000000\" d=\"M767,-103.9815C767,-95.618 767,-86.7965 767,-78.3409\"/>\n",
       "<polygon fill=\"#000000\" stroke=\"#000000\" points=\"770.5001,-78.2636 767,-68.2637 763.5001,-78.2637 770.5001,-78.2636\"/>\n",
       "</g>\n",
       "<!-- 14 -->\n",
       "<g id=\"node15\" class=\"node\">\n",
       "<title>14</title>\n",
       "<polygon fill=\"none\" stroke=\"#000000\" points=\"948,-68 842,-68 842,0 948,0 948,-68\"/>\n",
       "<text text-anchor=\"middle\" x=\"895\" y=\"-52.8\" font-family=\"Times,serif\" font-size=\"14.00\" fill=\"#000000\">gini = 0.329</text>\n",
       "<text text-anchor=\"middle\" x=\"895\" y=\"-37.8\" font-family=\"Times,serif\" font-size=\"14.00\" fill=\"#000000\">samples = 82</text>\n",
       "<text text-anchor=\"middle\" x=\"895\" y=\"-22.8\" font-family=\"Times,serif\" font-size=\"14.00\" fill=\"#000000\">value = [26, 99]</text>\n",
       "<text text-anchor=\"middle\" x=\"895\" y=\"-7.8\" font-family=\"Times,serif\" font-size=\"14.00\" fill=\"#000000\">class = 1</text>\n",
       "</g>\n",
       "<!-- 12&#45;&gt;14 -->\n",
       "<g id=\"edge14\" class=\"edge\">\n",
       "<title>12&#45;&gt;14</title>\n",
       "<path fill=\"none\" stroke=\"#000000\" d=\"M814.6625,-103.9815C825.5297,-94.5151 837.0705,-84.462 847.9135,-75.0168\"/>\n",
       "<polygon fill=\"#000000\" stroke=\"#000000\" points=\"850.4245,-77.4712 855.6659,-68.2637 845.8266,-72.1929 850.4245,-77.4712\"/>\n",
       "</g>\n",
       "</g>\n",
       "</svg>\n"
      ],
      "text/plain": [
       "<graphviz.files.Source at 0x7fa19e4915b0>"
      ]
     },
     "execution_count": 52,
     "metadata": {},
     "output_type": "execute_result"
    }
   ],
   "source": [
    "estimator = forest_model.estimators_[6]\n",
    "dot_data = tree.export_graphviz(estimator, class_names=['0', '1'])\n",
    "graph = graphviz.Source(dot_data)\n",
    "graph"
   ]
  },
  {
   "cell_type": "markdown",
   "id": "durable-stone",
   "metadata": {},
   "source": [
    "Save it as .png:"
   ]
  },
  {
   "cell_type": "code",
   "execution_count": 53,
   "id": "removed-brazilian",
   "metadata": {},
   "outputs": [],
   "source": [
    "(graph,) = pydot.graph_from_dot_data(dot_data)\n",
    "graph.write_png('random_forest_6.png')"
   ]
  },
  {
   "cell_type": "markdown",
   "id": "polyphonic-baking",
   "metadata": {},
   "source": [
    "We are going to do same thing as in the decision tree model case:"
   ]
  },
  {
   "cell_type": "code",
   "execution_count": 54,
   "id": "suffering-melissa",
   "metadata": {},
   "outputs": [],
   "source": [
    "indices = []\n",
    "for i,sample in enumerate(X_train):\n",
    "    if sample[13]<=-1.041:\n",
    "        indices.append(i)"
   ]
  },
  {
   "cell_type": "code",
   "execution_count": 55,
   "id": "conventional-eclipse",
   "metadata": {},
   "outputs": [
    {
     "data": {
      "text/plain": [
       "array([ 0,  4, 17, 21])"
      ]
     },
     "execution_count": 55,
     "metadata": {},
     "output_type": "execute_result"
    }
   ],
   "source": [
    "np.unique(X_train_unscaled[indices][:,13]).astype(np.int)"
   ]
  },
  {
   "cell_type": "code",
   "execution_count": 56,
   "id": "ignored-photography",
   "metadata": {},
   "outputs": [
    {
     "data": {
      "text/plain": [
       "(array([322.,   0.,   0.,   1.,   0.,   1.,   0.,  10.,   1.,   1.]),\n",
       " array([2.84217094e-14, 5.40000000e+01, 1.08000000e+02, 1.62000000e+02,\n",
       "        2.16000000e+02, 2.70000000e+02, 3.24000000e+02, 3.78000000e+02,\n",
       "        4.32000000e+02, 4.86000000e+02, 5.40000000e+02]),\n",
       " <BarContainer object of 10 artists>)"
      ]
     },
     "execution_count": 56,
     "metadata": {},
     "output_type": "execute_result"
    },
    {
     "data": {
      "image/png": "[encoded data removed]",
      "text/plain": [
       "<Figure size 432x288 with 1 Axes>"
      ]
     },
     "metadata": {
      "needs_background": "light"
     },
     "output_type": "display_data"
    }
   ],
   "source": [
    "plt.hist(X_train_unscaled[indices][:,16])"
   ]
  },
  {
   "cell_type": "markdown",
   "id": "excessive-somerset",
   "metadata": {},
   "source": [
    "***Same conclusion as before***."
   ]
  },
  {
   "cell_type": "markdown",
   "id": "silver-session",
   "metadata": {},
   "source": [
    "Plot importances:"
   ]
  },
  {
   "cell_type": "code",
   "execution_count": 57,
   "id": "operating-architect",
   "metadata": {},
   "outputs": [
    {
     "name": "stdout",
     "output_type": "stream",
     "text": [
      "Feature ranking:\n",
      "1. feature 13 (0.198540)\n",
      "2. feature 18 (0.166434)\n",
      "3. feature 15 (0.105961)\n",
      "4. feature 12 (0.076987)\n",
      "5. feature 2 (0.074171)\n",
      "6. feature 16 (0.067090)\n",
      "7. feature 14 (0.064034)\n",
      "8. feature 10 (0.062724)\n",
      "9. feature 19 (0.042338)\n",
      "10. feature 1 (0.036464)\n",
      "11. feature 9 (0.029675)\n",
      "12. feature 0 (0.016533)\n",
      "13. feature 6 (0.015698)\n",
      "14. feature 7 (0.009186)\n",
      "15. feature 3 (0.008500)\n",
      "16. feature 5 (0.008092)\n",
      "17. feature 4 (0.007841)\n",
      "18. feature 8 (0.007072)\n",
      "19. feature 11 (0.002662)\n",
      "20. feature 17 (0.000000)\n"
     ]
    },
    {
     "data": {
      "image/png": "[encoded data removed]",
      "text/plain": [
       "<Figure size 432x288 with 1 Axes>"
      ]
     },
     "metadata": {
      "needs_background": "light"
     },
     "output_type": "display_data"
    }
   ],
   "source": [
    "importances = forest_model.feature_importances_\n",
    "indices = np.argsort(importances)[::-1]\n",
    "\n",
    "# Print the feature ranking\n",
    "print(\"Feature ranking:\")\n",
    "\n",
    "for f in range(X_train.shape[1]):\n",
    "    print(\"%d. feature %d (%f)\" % (f + 1, indices[f], importances[indices[f]]))\n",
    "\n",
    "# Plot the impurity-based feature importances of the forest\n",
    "plt.figure()\n",
    "plt.title(\"Random Forest: feature importances\")\n",
    "plt.bar(range(X_train.shape[1]), importances[indices],\n",
    "        color=\"blue\", align=\"center\")\n",
    "plt.xticks(range(X_train.shape[1]), indices)\n",
    "plt.xlim([-1, X_train.shape[1]])\n",
    "plt.savefig('random_forest_importance.png')\n",
    "plt.show()"
   ]
  },
  {
   "cell_type": "markdown",
   "id": "optimum-checkout",
   "metadata": {},
   "source": [
    "### Gradient Boost Model with CV"
   ]
  },
  {
   "cell_type": "code",
   "execution_count": 58,
   "id": "hindu-review",
   "metadata": {},
   "outputs": [],
   "source": [
    "from sklearn.ensemble import GradientBoostingClassifier"
   ]
  },
  {
   "cell_type": "code",
   "execution_count": 59,
   "id": "hidden-renewal",
   "metadata": {},
   "outputs": [
    {
     "name": "stdout",
     "output_type": "stream",
     "text": [
      "0.7741548069416921 {'learning_rate': 0.1, 'max_depth': 3}\n"
     ]
    }
   ],
   "source": [
    "parameters = {'max_depth':range(1,20), 'learning_rate':[1,0.1,0.01]}\n",
    "grid_model = GridSearchCV(GradientBoostingClassifier(), parameters, n_jobs=4)\n",
    "grid_model.fit(X=X_train, y=Y_train)\n",
    "GB_model = grid_model.best_estimator_\n",
    "print (grid_model.best_score_, grid_model.best_params_)"
   ]
  },
  {
   "cell_type": "code",
   "execution_count": 60,
   "id": "molecular-diana",
   "metadata": {},
   "outputs": [
    {
     "data": {
      "text/plain": [
       "0.6140350877192983"
      ]
     },
     "execution_count": 60,
     "metadata": {},
     "output_type": "execute_result"
    }
   ],
   "source": [
    "GB_model.score(X_test, Y_test)"
   ]
  },
  {
   "cell_type": "code",
   "execution_count": 61,
   "id": "bored-glory",
   "metadata": {},
   "outputs": [
    {
     "name": "stdout",
     "output_type": "stream",
     "text": [
      "N trees:  100\n"
     ]
    }
   ],
   "source": [
    "print('N trees: ', GB_model.n_estimators_)"
   ]
  },
  {
   "cell_type": "code",
   "execution_count": 62,
   "id": "geographic-circuit",
   "metadata": {},
   "outputs": [
    {
     "data": {
      "image/svg+xml": [
       "<?xml version=\"1.0\" encoding=\"UTF-8\" standalone=\"no\"?>\n",
       "<!DOCTYPE svg PUBLIC \"-//W3C//DTD SVG 1.1//EN\"\n",
       " \"http://www.w3.org/Graphics/SVG/1.1/DTD/svg11.dtd\">\n",
       "<!-- Generated by graphviz version 2.40.1 (20161225.0304)\n",
       " -->\n",
       "<!-- Title: Tree Pages: 1 -->\n",
       "<svg width=\"1272pt\" height=\"373pt\"\n",
       " viewBox=\"0.00 0.00 1272.00 373.00\" xmlns=\"http://www.w3.org/2000/svg\" xmlns:xlink=\"http://www.w3.org/1999/xlink\">\n",
       "<g id=\"graph0\" class=\"graph\" transform=\"scale(1 1) rotate(0) translate(4 369)\">\n",
       "<title>Tree</title>\n",
       "<polygon fill=\"#ffffff\" stroke=\"transparent\" points=\"-4,4 -4,-369 1268,-369 1268,4 -4,4\"/>\n",
       "<!-- 0 -->\n",
       "<g id=\"node1\" class=\"node\">\n",
       "<title>0</title>\n",
       "<polygon fill=\"none\" stroke=\"#000000\" points=\"706,-365 563,-365 563,-297 706,-297 706,-365\"/>\n",
       "<text text-anchor=\"middle\" x=\"634.5\" y=\"-349.8\" font-family=\"Times,serif\" font-size=\"14.00\" fill=\"#000000\">X[19] &lt;= &#45;1.047</text>\n",
       "<text text-anchor=\"middle\" x=\"634.5\" y=\"-334.8\" font-family=\"Times,serif\" font-size=\"14.00\" fill=\"#000000\">friedman_mse = 0.236</text>\n",
       "<text text-anchor=\"middle\" x=\"634.5\" y=\"-319.8\" font-family=\"Times,serif\" font-size=\"14.00\" fill=\"#000000\">samples = 912</text>\n",
       "<text text-anchor=\"middle\" x=\"634.5\" y=\"-304.8\" font-family=\"Times,serif\" font-size=\"14.00\" fill=\"#000000\">value = 0.0</text>\n",
       "</g>\n",
       "<!-- 1 -->\n",
       "<g id=\"node2\" class=\"node\">\n",
       "<title>1</title>\n",
       "<polygon fill=\"none\" stroke=\"#000000\" points=\"545,-261 402,-261 402,-193 545,-193 545,-261\"/>\n",
       "<text text-anchor=\"middle\" x=\"473.5\" y=\"-245.8\" font-family=\"Times,serif\" font-size=\"14.00\" fill=\"#000000\">X[1] &lt;= 0.518</text>\n",
       "<text text-anchor=\"middle\" x=\"473.5\" y=\"-230.8\" font-family=\"Times,serif\" font-size=\"14.00\" fill=\"#000000\">friedman_mse = 0.048</text>\n",
       "<text text-anchor=\"middle\" x=\"473.5\" y=\"-215.8\" font-family=\"Times,serif\" font-size=\"14.00\" fill=\"#000000\">samples = 359</text>\n",
       "<text text-anchor=\"middle\" x=\"473.5\" y=\"-200.8\" font-family=\"Times,serif\" font-size=\"14.00\" fill=\"#000000\">value = &#45;0.333</text>\n",
       "</g>\n",
       "<!-- 0&#45;&gt;1 -->\n",
       "<g id=\"edge1\" class=\"edge\">\n",
       "<title>0&#45;&gt;1</title>\n",
       "<path fill=\"none\" stroke=\"#000000\" d=\"M581.7826,-296.9465C566.7712,-287.2497 550.2906,-276.6039 534.8146,-266.6069\"/>\n",
       "<polygon fill=\"#000000\" stroke=\"#000000\" points=\"536.6349,-263.6161 526.3359,-261.13 532.8367,-269.496 536.6349,-263.6161\"/>\n",
       "<text text-anchor=\"middle\" x=\"531.593\" y=\"-281.871\" font-family=\"Times,serif\" font-size=\"14.00\" fill=\"#000000\">True</text>\n",
       "</g>\n",
       "<!-- 8 -->\n",
       "<g id=\"node9\" class=\"node\">\n",
       "<title>8</title>\n",
       "<polygon fill=\"none\" stroke=\"#000000\" points=\"862.5,-261 726.5,-261 726.5,-193 862.5,-193 862.5,-261\"/>\n",
       "<text text-anchor=\"middle\" x=\"794.5\" y=\"-245.8\" font-family=\"Times,serif\" font-size=\"14.00\" fill=\"#000000\">X[2] &lt;= 0.478</text>\n",
       "<text text-anchor=\"middle\" x=\"794.5\" y=\"-230.8\" font-family=\"Times,serif\" font-size=\"14.00\" fill=\"#000000\">friedman_mse = 0.24</text>\n",
       "<text text-anchor=\"middle\" x=\"794.5\" y=\"-215.8\" font-family=\"Times,serif\" font-size=\"14.00\" fill=\"#000000\">samples = 553</text>\n",
       "<text text-anchor=\"middle\" x=\"794.5\" y=\"-200.8\" font-family=\"Times,serif\" font-size=\"14.00\" fill=\"#000000\">value = 0.216</text>\n",
       "</g>\n",
       "<!-- 0&#45;&gt;8 -->\n",
       "<g id=\"edge8\" class=\"edge\">\n",
       "<title>0&#45;&gt;8</title>\n",
       "<path fill=\"none\" stroke=\"#000000\" d=\"M686.89,-296.9465C701.8082,-287.2497 718.1864,-276.6039 733.5662,-266.6069\"/>\n",
       "<polygon fill=\"#000000\" stroke=\"#000000\" points=\"735.5153,-269.5145 741.9923,-261.13 731.7004,-263.6454 735.5153,-269.5145\"/>\n",
       "<text text-anchor=\"middle\" x=\"736.8047\" y=\"-281.8858\" font-family=\"Times,serif\" font-size=\"14.00\" fill=\"#000000\">False</text>\n",
       "</g>\n",
       "<!-- 2 -->\n",
       "<g id=\"node3\" class=\"node\">\n",
       "<title>2</title>\n",
       "<polygon fill=\"none\" stroke=\"#000000\" points=\"304,-157 161,-157 161,-89 304,-89 304,-157\"/>\n",
       "<text text-anchor=\"middle\" x=\"232.5\" y=\"-141.8\" font-family=\"Times,serif\" font-size=\"14.00\" fill=\"#000000\">X[5] &lt;= 0.864</text>\n",
       "<text text-anchor=\"middle\" x=\"232.5\" y=\"-126.8\" font-family=\"Times,serif\" font-size=\"14.00\" fill=\"#000000\">friedman_mse = 0.018</text>\n",
       "<text text-anchor=\"middle\" x=\"232.5\" y=\"-111.8\" font-family=\"Times,serif\" font-size=\"14.00\" fill=\"#000000\">samples = 335</text>\n",
       "<text text-anchor=\"middle\" x=\"232.5\" y=\"-96.8\" font-family=\"Times,serif\" font-size=\"14.00\" fill=\"#000000\">value = &#45;0.365</text>\n",
       "</g>\n",
       "<!-- 1&#45;&gt;2 -->\n",
       "<g id=\"edge2\" class=\"edge\">\n",
       "<title>1&#45;&gt;2</title>\n",
       "<path fill=\"none\" stroke=\"#000000\" d=\"M401.8446,-196.0782C374.1703,-184.1358 342.3587,-170.4079 313.8328,-158.098\"/>\n",
       "<polygon fill=\"#000000\" stroke=\"#000000\" points=\"314.8639,-154.731 304.2955,-153.9823 312.0903,-161.1581 314.8639,-154.731\"/>\n",
       "</g>\n",
       "<!-- 5 -->\n",
       "<g id=\"node6\" class=\"node\">\n",
       "<title>5</title>\n",
       "<polygon fill=\"none\" stroke=\"#000000\" points=\"541.5,-157 405.5,-157 405.5,-89 541.5,-89 541.5,-157\"/>\n",
       "<text text-anchor=\"middle\" x=\"473.5\" y=\"-141.8\" font-family=\"Times,serif\" font-size=\"14.00\" fill=\"#000000\">X[6] &lt;= 0.663</text>\n",
       "<text text-anchor=\"middle\" x=\"473.5\" y=\"-126.8\" font-family=\"Times,serif\" font-size=\"14.00\" fill=\"#000000\">friedman_mse = 0.25</text>\n",
       "<text text-anchor=\"middle\" x=\"473.5\" y=\"-111.8\" font-family=\"Times,serif\" font-size=\"14.00\" fill=\"#000000\">samples = 24</text>\n",
       "<text text-anchor=\"middle\" x=\"473.5\" y=\"-96.8\" font-family=\"Times,serif\" font-size=\"14.00\" fill=\"#000000\">value = 0.117</text>\n",
       "</g>\n",
       "<!-- 1&#45;&gt;5 -->\n",
       "<g id=\"edge5\" class=\"edge\">\n",
       "<title>1&#45;&gt;5</title>\n",
       "<path fill=\"none\" stroke=\"#000000\" d=\"M473.5,-192.9465C473.5,-184.776 473.5,-175.9318 473.5,-167.3697\"/>\n",
       "<polygon fill=\"#000000\" stroke=\"#000000\" points=\"477.0001,-167.13 473.5,-157.13 470.0001,-167.13 477.0001,-167.13\"/>\n",
       "</g>\n",
       "<!-- 3 -->\n",
       "<g id=\"node4\" class=\"node\">\n",
       "<title>3</title>\n",
       "<polygon fill=\"none\" stroke=\"#000000\" points=\"143,-53 0,-53 0,0 143,0 143,-53\"/>\n",
       "<text text-anchor=\"middle\" x=\"71.5\" y=\"-37.8\" font-family=\"Times,serif\" font-size=\"14.00\" fill=\"#000000\">friedman_mse = 0.003</text>\n",
       "<text text-anchor=\"middle\" x=\"71.5\" y=\"-22.8\" font-family=\"Times,serif\" font-size=\"14.00\" fill=\"#000000\">samples = 314</text>\n",
       "<text text-anchor=\"middle\" x=\"71.5\" y=\"-7.8\" font-family=\"Times,serif\" font-size=\"14.00\" fill=\"#000000\">value = &#45;1.606</text>\n",
       "</g>\n",
       "<!-- 2&#45;&gt;3 -->\n",
       "<g id=\"edge3\" class=\"edge\">\n",
       "<title>2&#45;&gt;3</title>\n",
       "<path fill=\"none\" stroke=\"#000000\" d=\"M175.7374,-88.9777C159.1614,-79.0424 141.1107,-68.2232 124.7598,-58.4228\"/>\n",
       "<polygon fill=\"#000000\" stroke=\"#000000\" points=\"126.2477,-55.2341 115.871,-53.095 122.6489,-61.2382 126.2477,-55.2341\"/>\n",
       "</g>\n",
       "<!-- 4 -->\n",
       "<g id=\"node5\" class=\"node\">\n",
       "<title>4</title>\n",
       "<polygon fill=\"none\" stroke=\"#000000\" points=\"304,-53 161,-53 161,0 304,0 304,-53\"/>\n",
       "<text text-anchor=\"middle\" x=\"232.5\" y=\"-37.8\" font-family=\"Times,serif\" font-size=\"14.00\" fill=\"#000000\">friedman_mse = 0.181</text>\n",
       "<text text-anchor=\"middle\" x=\"232.5\" y=\"-22.8\" font-family=\"Times,serif\" font-size=\"14.00\" fill=\"#000000\">samples = 21</text>\n",
       "<text text-anchor=\"middle\" x=\"232.5\" y=\"-7.8\" font-family=\"Times,serif\" font-size=\"14.00\" fill=\"#000000\">value = &#45;0.612</text>\n",
       "</g>\n",
       "<!-- 2&#45;&gt;4 -->\n",
       "<g id=\"edge4\" class=\"edge\">\n",
       "<title>2&#45;&gt;4</title>\n",
       "<path fill=\"none\" stroke=\"#000000\" d=\"M232.5,-88.9777C232.5,-80.7364 232.5,-71.887 232.5,-63.5153\"/>\n",
       "<polygon fill=\"#000000\" stroke=\"#000000\" points=\"236.0001,-63.2484 232.5,-53.2485 229.0001,-63.2485 236.0001,-63.2484\"/>\n",
       "</g>\n",
       "<!-- 6 -->\n",
       "<g id=\"node7\" class=\"node\">\n",
       "<title>6</title>\n",
       "<polygon fill=\"none\" stroke=\"#000000\" points=\"465,-53 322,-53 322,0 465,0 465,-53\"/>\n",
       "<text text-anchor=\"middle\" x=\"393.5\" y=\"-37.8\" font-family=\"Times,serif\" font-size=\"14.00\" fill=\"#000000\">friedman_mse = 0.215</text>\n",
       "<text text-anchor=\"middle\" x=\"393.5\" y=\"-22.8\" font-family=\"Times,serif\" font-size=\"14.00\" fill=\"#000000\">samples = 16</text>\n",
       "<text text-anchor=\"middle\" x=\"393.5\" y=\"-7.8\" font-family=\"Times,serif\" font-size=\"14.00\" fill=\"#000000\">value = &#45;0.297</text>\n",
       "</g>\n",
       "<!-- 5&#45;&gt;6 -->\n",
       "<g id=\"edge6\" class=\"edge\">\n",
       "<title>5&#45;&gt;6</title>\n",
       "<path fill=\"none\" stroke=\"#000000\" d=\"M445.295,-88.9777C437.7796,-79.9123 429.6542,-70.111 422.117,-61.0192\"/>\n",
       "<polygon fill=\"#000000\" stroke=\"#000000\" points=\"424.7516,-58.7133 415.6749,-53.2485 419.3626,-63.1808 424.7516,-58.7133\"/>\n",
       "</g>\n",
       "<!-- 7 -->\n",
       "<g id=\"node8\" class=\"node\">\n",
       "<title>7</title>\n",
       "<polygon fill=\"none\" stroke=\"#000000\" points=\"626,-53 483,-53 483,0 626,0 626,-53\"/>\n",
       "<text text-anchor=\"middle\" x=\"554.5\" y=\"-37.8\" font-family=\"Times,serif\" font-size=\"14.00\" fill=\"#000000\">friedman_mse = 0.109</text>\n",
       "<text text-anchor=\"middle\" x=\"554.5\" y=\"-22.8\" font-family=\"Times,serif\" font-size=\"14.00\" fill=\"#000000\">samples = 8</text>\n",
       "<text text-anchor=\"middle\" x=\"554.5\" y=\"-7.8\" font-family=\"Times,serif\" font-size=\"14.00\" fill=\"#000000\">value = 2.084</text>\n",
       "</g>\n",
       "<!-- 5&#45;&gt;7 -->\n",
       "<g id=\"edge7\" class=\"edge\">\n",
       "<title>5&#45;&gt;7</title>\n",
       "<path fill=\"none\" stroke=\"#000000\" d=\"M502.0576,-88.9777C509.6669,-79.9123 517.8939,-70.111 525.5253,-61.0192\"/>\n",
       "<polygon fill=\"#000000\" stroke=\"#000000\" points=\"528.2995,-63.1581 532.0479,-53.2485 522.938,-58.6577 528.2995,-63.1581\"/>\n",
       "</g>\n",
       "<!-- 9 -->\n",
       "<g id=\"node10\" class=\"node\">\n",
       "<title>9</title>\n",
       "<polygon fill=\"none\" stroke=\"#000000\" points=\"866,-157 723,-157 723,-89 866,-89 866,-157\"/>\n",
       "<text text-anchor=\"middle\" x=\"794.5\" y=\"-141.8\" font-family=\"Times,serif\" font-size=\"14.00\" fill=\"#000000\">X[2] &lt;= &#45;1.143</text>\n",
       "<text text-anchor=\"middle\" x=\"794.5\" y=\"-126.8\" font-family=\"Times,serif\" font-size=\"14.00\" fill=\"#000000\">friedman_mse = 0.241</text>\n",
       "<text text-anchor=\"middle\" x=\"794.5\" y=\"-111.8\" font-family=\"Times,serif\" font-size=\"14.00\" fill=\"#000000\">samples = 195</text>\n",
       "<text text-anchor=\"middle\" x=\"794.5\" y=\"-96.8\" font-family=\"Times,serif\" font-size=\"14.00\" fill=\"#000000\">value = 0.022</text>\n",
       "</g>\n",
       "<!-- 8&#45;&gt;9 -->\n",
       "<g id=\"edge9\" class=\"edge\">\n",
       "<title>8&#45;&gt;9</title>\n",
       "<path fill=\"none\" stroke=\"#000000\" d=\"M794.5,-192.9465C794.5,-184.776 794.5,-175.9318 794.5,-167.3697\"/>\n",
       "<polygon fill=\"#000000\" stroke=\"#000000\" points=\"798.0001,-167.13 794.5,-157.13 791.0001,-167.13 798.0001,-167.13\"/>\n",
       "</g>\n",
       "<!-- 12 -->\n",
       "<g id=\"node13\" class=\"node\">\n",
       "<title>12</title>\n",
       "<polygon fill=\"none\" stroke=\"#000000\" points=\"1106,-157 963,-157 963,-89 1106,-89 1106,-157\"/>\n",
       "<text text-anchor=\"middle\" x=\"1034.5\" y=\"-141.8\" font-family=\"Times,serif\" font-size=\"14.00\" fill=\"#000000\">X[16] &lt;= &#45;0.551</text>\n",
       "<text text-anchor=\"middle\" x=\"1034.5\" y=\"-126.8\" font-family=\"Times,serif\" font-size=\"14.00\" fill=\"#000000\">friedman_mse = 0.208</text>\n",
       "<text text-anchor=\"middle\" x=\"1034.5\" y=\"-111.8\" font-family=\"Times,serif\" font-size=\"14.00\" fill=\"#000000\">samples = 358</text>\n",
       "<text text-anchor=\"middle\" x=\"1034.5\" y=\"-96.8\" font-family=\"Times,serif\" font-size=\"14.00\" fill=\"#000000\">value = 0.321</text>\n",
       "</g>\n",
       "<!-- 8&#45;&gt;12 -->\n",
       "<g id=\"edge12\" class=\"edge\">\n",
       "<title>8&#45;&gt;12</title>\n",
       "<path fill=\"none\" stroke=\"#000000\" d=\"M862.6324,-197.476C890.8936,-185.2294 923.9075,-170.9234 953.4047,-158.1413\"/>\n",
       "<polygon fill=\"#000000\" stroke=\"#000000\" points=\"955.0637,-161.2369 962.8476,-154.0494 952.2804,-154.814 955.0637,-161.2369\"/>\n",
       "</g>\n",
       "<!-- 10 -->\n",
       "<g id=\"node11\" class=\"node\">\n",
       "<title>10</title>\n",
       "<polygon fill=\"none\" stroke=\"#000000\" points=\"787,-53 644,-53 644,0 787,0 787,-53\"/>\n",
       "<text text-anchor=\"middle\" x=\"715.5\" y=\"-37.8\" font-family=\"Times,serif\" font-size=\"14.00\" fill=\"#000000\">friedman_mse = 0.219</text>\n",
       "<text text-anchor=\"middle\" x=\"715.5\" y=\"-22.8\" font-family=\"Times,serif\" font-size=\"14.00\" fill=\"#000000\">samples = 37</text>\n",
       "<text text-anchor=\"middle\" x=\"715.5\" y=\"-7.8\" font-family=\"Times,serif\" font-size=\"14.00\" fill=\"#000000\">value = 1.24</text>\n",
       "</g>\n",
       "<!-- 9&#45;&gt;10 -->\n",
       "<g id=\"edge10\" class=\"edge\">\n",
       "<title>9&#45;&gt;10</title>\n",
       "<path fill=\"none\" stroke=\"#000000\" d=\"M766.6476,-88.9777C759.2261,-79.9123 751.2023,-70.111 743.7593,-61.0192\"/>\n",
       "<polygon fill=\"#000000\" stroke=\"#000000\" points=\"746.4405,-58.7692 737.3977,-53.2485 741.0241,-63.2034 746.4405,-58.7692\"/>\n",
       "</g>\n",
       "<!-- 11 -->\n",
       "<g id=\"node12\" class=\"node\">\n",
       "<title>11</title>\n",
       "<polygon fill=\"none\" stroke=\"#000000\" points=\"948,-53 805,-53 805,0 948,0 948,-53\"/>\n",
       "<text text-anchor=\"middle\" x=\"876.5\" y=\"-37.8\" font-family=\"Times,serif\" font-size=\"14.00\" fill=\"#000000\">friedman_mse = 0.225</text>\n",
       "<text text-anchor=\"middle\" x=\"876.5\" y=\"-22.8\" font-family=\"Times,serif\" font-size=\"14.00\" fill=\"#000000\">samples = 158</text>\n",
       "<text text-anchor=\"middle\" x=\"876.5\" y=\"-7.8\" font-family=\"Times,serif\" font-size=\"14.00\" fill=\"#000000\">value = &#45;0.173</text>\n",
       "</g>\n",
       "<!-- 9&#45;&gt;11 -->\n",
       "<g id=\"edge11\" class=\"edge\">\n",
       "<title>9&#45;&gt;11</title>\n",
       "<path fill=\"none\" stroke=\"#000000\" d=\"M823.4101,-88.9777C831.1134,-79.9123 839.4419,-70.111 847.1676,-61.0192\"/>\n",
       "<polygon fill=\"#000000\" stroke=\"#000000\" points=\"849.9625,-63.1352 853.7707,-53.2485 844.6282,-58.6025 849.9625,-63.1352\"/>\n",
       "</g>\n",
       "<!-- 13 -->\n",
       "<g id=\"node14\" class=\"node\">\n",
       "<title>13</title>\n",
       "<polygon fill=\"none\" stroke=\"#000000\" points=\"1102.5,-53 966.5,-53 966.5,0 1102.5,0 1102.5,-53\"/>\n",
       "<text text-anchor=\"middle\" x=\"1034.5\" y=\"-37.8\" font-family=\"Times,serif\" font-size=\"14.00\" fill=\"#000000\">friedman_mse = 0.16</text>\n",
       "<text text-anchor=\"middle\" x=\"1034.5\" y=\"-22.8\" font-family=\"Times,serif\" font-size=\"14.00\" fill=\"#000000\">samples = 10</text>\n",
       "<text text-anchor=\"middle\" x=\"1034.5\" y=\"-7.8\" font-family=\"Times,serif\" font-size=\"14.00\" fill=\"#000000\">value = &#45;0.773</text>\n",
       "</g>\n",
       "<!-- 12&#45;&gt;13 -->\n",
       "<g id=\"edge13\" class=\"edge\">\n",
       "<title>12&#45;&gt;13</title>\n",
       "<path fill=\"none\" stroke=\"#000000\" d=\"M1034.5,-88.9777C1034.5,-80.7364 1034.5,-71.887 1034.5,-63.5153\"/>\n",
       "<polygon fill=\"#000000\" stroke=\"#000000\" points=\"1038.0001,-63.2484 1034.5,-53.2485 1031.0001,-63.2485 1038.0001,-63.2484\"/>\n",
       "</g>\n",
       "<!-- 14 -->\n",
       "<g id=\"node15\" class=\"node\">\n",
       "<title>14</title>\n",
       "<polygon fill=\"none\" stroke=\"#000000\" points=\"1264,-53 1121,-53 1121,0 1264,0 1264,-53\"/>\n",
       "<text text-anchor=\"middle\" x=\"1192.5\" y=\"-37.8\" font-family=\"Times,serif\" font-size=\"14.00\" fill=\"#000000\">friedman_mse = 0.202</text>\n",
       "<text text-anchor=\"middle\" x=\"1192.5\" y=\"-22.8\" font-family=\"Times,serif\" font-size=\"14.00\" fill=\"#000000\">samples = 348</text>\n",
       "<text text-anchor=\"middle\" x=\"1192.5\" y=\"-7.8\" font-family=\"Times,serif\" font-size=\"14.00\" fill=\"#000000\">value = 1.421</text>\n",
       "</g>\n",
       "<!-- 12&#45;&gt;14 -->\n",
       "<g id=\"edge14\" class=\"edge\">\n",
       "<title>12&#45;&gt;14</title>\n",
       "<path fill=\"none\" stroke=\"#000000\" d=\"M1090.2049,-88.9777C1106.472,-79.0424 1124.1864,-68.2232 1140.2326,-58.4228\"/>\n",
       "<polygon fill=\"#000000\" stroke=\"#000000\" points=\"1142.246,-61.2943 1148.9558,-53.095 1138.5973,-55.3204 1142.246,-61.2943\"/>\n",
       "</g>\n",
       "</g>\n",
       "</svg>\n"
      ],
      "text/plain": [
       "<graphviz.files.Source at 0x7fa19ca58070>"
      ]
     },
     "execution_count": 62,
     "metadata": {},
     "output_type": "execute_result"
    }
   ],
   "source": [
    "estimator = GB_model.estimators_[0,0]\n",
    "dot_data = tree.export_graphviz(estimator, class_names=['0', '1'])\n",
    "graph = graphviz.Source(dot_data)\n",
    "graph"
   ]
  },
  {
   "cell_type": "markdown",
   "id": "sensitive-neighborhood",
   "metadata": {},
   "source": [
    "Save it as .png:"
   ]
  },
  {
   "cell_type": "code",
   "execution_count": 63,
   "id": "attempted-gnome",
   "metadata": {},
   "outputs": [],
   "source": [
    "(graph,) = pydot.graph_from_dot_data(dot_data)\n",
    "graph.write_png('GB_0.png')"
   ]
  },
  {
   "cell_type": "markdown",
   "id": "solar-lexington",
   "metadata": {},
   "source": [
    "***Very similar to the decision model result .***"
   ]
  },
  {
   "cell_type": "markdown",
   "id": "pressing-silence",
   "metadata": {},
   "source": [
    "Plot importances:"
   ]
  },
  {
   "cell_type": "code",
   "execution_count": 64,
   "id": "advisory-wisdom",
   "metadata": {},
   "outputs": [
    {
     "name": "stdout",
     "output_type": "stream",
     "text": [
      "Feature ranking:\n",
      "1. feature 19 (0.199462)\n",
      "2. feature 18 (0.198037)\n",
      "3. feature 2 (0.112950)\n",
      "4. feature 16 (0.092130)\n",
      "5. feature 1 (0.080347)\n",
      "6. feature 15 (0.069197)\n",
      "7. feature 12 (0.030034)\n",
      "8. feature 0 (0.026571)\n",
      "9. feature 4 (0.026195)\n",
      "10. feature 6 (0.023896)\n",
      "11. feature 3 (0.020071)\n",
      "12. feature 13 (0.017084)\n",
      "13. feature 10 (0.016586)\n",
      "14. feature 8 (0.015590)\n",
      "15. feature 14 (0.015477)\n",
      "16. feature 7 (0.015235)\n",
      "17. feature 17 (0.014693)\n",
      "18. feature 5 (0.014580)\n",
      "19. feature 9 (0.007793)\n",
      "20. feature 11 (0.004072)\n"
     ]
    },
    {
     "data": {
      "image/png": "[encoded data removed]",
      "text/plain": [
       "<Figure size 432x288 with 1 Axes>"
      ]
     },
     "metadata": {
      "needs_background": "light"
     },
     "output_type": "display_data"
    }
   ],
   "source": [
    "importances = GB_model.feature_importances_\n",
    "indices = np.argsort(importances)[::-1]\n",
    "\n",
    "# Print the feature ranking\n",
    "print(\"Feature ranking:\")\n",
    "\n",
    "for f in range(X_train.shape[1]):\n",
    "    print(\"%d. feature %d (%f)\" % (f + 1, indices[f], importances[indices[f]]))\n",
    "\n",
    "# Plot the impurity-based feature importances of the forest\n",
    "plt.figure()\n",
    "plt.title(\"Gradient Boosting: feature importances\")\n",
    "plt.bar(range(X_train.shape[1]), importances[indices],\n",
    "        color=\"blue\", align=\"center\")\n",
    "plt.xticks(range(X_train.shape[1]), indices)\n",
    "plt.xlim([-1, X_train.shape[1]])\n",
    "plt.savefig('GB_importance.png')\n",
    "plt.show()"
   ]
  },
  {
   "cell_type": "markdown",
   "id": "conditional-ghana",
   "metadata": {},
   "source": [
    "### DL models: MLP and RNNs with GRID search"
   ]
  },
  {
   "cell_type": "code",
   "execution_count": 146,
   "id": "aboriginal-choice",
   "metadata": {},
   "outputs": [],
   "source": [
    "import tensorflow as tf"
   ]
  },
  {
   "cell_type": "markdown",
   "id": "united-entry",
   "metadata": {
    "tags": []
   },
   "source": [
    "### MLP"
   ]
  },
  {
   "cell_type": "code",
   "execution_count": 193,
   "id": "viral-northwest",
   "metadata": {
    "id": "oGSKWTTtqxZ4"
   },
   "outputs": [],
   "source": [
    "def build_fc_model(n_units=30, learning_rate=1e-3, regularizer='l2'):\n",
    "    model = tf.keras.models.Sequential([\n",
    "                                    tf.keras.layers.Dense(n_units, activation=\"relu\", kernel_regularizer=regularizer),\n",
    "                                    tf.keras.layers.Dense(n_units, activation=\"relu\", kernel_regularizer=regularizer),\n",
    "                                    tf.keras.layers.Dense(1, activation=\"sigmoid\", kernel_regularizer=regularizer)\n",
    "                                     ]) \n",
    "    model.compile(loss=\"binary_crossentropy\",\n",
    "              optimizer=tf.keras.optimizers.Adam(learning_rate=learning_rate),\n",
    "              metrics=[\"accuracy\"])\n",
    "    return model\n",
    "\n",
    "keras_reg = tf.keras.wrappers.scikit_learn.KerasRegressor(build_fc_model)"
   ]
  },
  {
   "cell_type": "code",
   "execution_count": 194,
   "id": "inappropriate-moldova",
   "metadata": {
    "id": "y-uldCW3ru24"
   },
   "outputs": [],
   "source": [
    "param_distribs = {\n",
    "    \"n_units\": [50, 80, 100],\n",
    "    \"learning_rate\": [1e-3, 1e-4],\n",
    "    \"regularizer\": ['l1','l2']}"
   ]
  },
  {
   "cell_type": "code",
   "execution_count": 195,
   "id": "comparative-match",
   "metadata": {
    "id": "iobF2Bvdr9ER"
   },
   "outputs": [],
   "source": [
    "grid_search = GridSearchCV(keras_reg, param_distribs)"
   ]
  },
  {
   "cell_type": "code",
   "execution_count": 196,
   "id": "received-bulgaria",
   "metadata": {
    "collapsed": true,
    "id": "-BA3vgTjr-hw",
    "jupyter": {
     "outputs_hidden": true
    },
    "tags": []
   },
   "outputs": [
    {
     "name": "stdout",
     "output_type": "stream",
     "text": [
      "6/6 [==============================] - 0s 1ms/step - loss: 0.5619 - accuracy: 0.7377\n",
      "6/6 [==============================] - 0s 1ms/step - loss: 0.5074 - accuracy: 0.7377\n",
      "6/6 [==============================] - 0s 1ms/step - loss: 0.4960 - accuracy: 0.7802\n",
      "6/6 [==============================] - 0s 1ms/step - loss: 0.5693 - accuracy: 0.7033\n",
      "6/6 [==============================] - 0s 1ms/step - loss: 0.5541 - accuracy: 0.7582\n",
      "6/6 [==============================] - 0s 1ms/step - loss: 0.5764 - accuracy: 0.6995\n",
      "6/6 [==============================] - 0s 1ms/step - loss: 0.5145 - accuracy: 0.7377\n",
      "6/6 [==============================] - 0s 2ms/step - loss: 0.4521 - accuracy: 0.7802\n",
      "6/6 [==============================] - 0s 2ms/step - loss: 0.5732 - accuracy: 0.7033\n",
      "6/6 [==============================] - 0s 1ms/step - loss: 0.5422 - accuracy: 0.7857\n",
      "6/6 [==============================] - 0s 2ms/step - loss: 0.5496 - accuracy: 0.7541\n",
      "6/6 [==============================] - 0s 2ms/step - loss: 0.5273 - accuracy: 0.7268\n",
      "6/6 [==============================] - 0s 1ms/step - loss: 0.5087 - accuracy: 0.7637\n",
      "6/6 [==============================] - 0s 1ms/step - loss: 0.5620 - accuracy: 0.7088\n",
      "6/6 [==============================] - 0s 1ms/step - loss: 0.5801 - accuracy: 0.7637\n",
      "6/6 [==============================] - 0s 2ms/step - loss: 0.5734 - accuracy: 0.7104\n",
      "6/6 [==============================] - 0s 2ms/step - loss: 0.5199 - accuracy: 0.7268\n",
      "6/6 [==============================] - 0s 1ms/step - loss: 0.4569 - accuracy: 0.7802\n",
      "6/6 [==============================] - 0s 1ms/step - loss: 0.5923 - accuracy: 0.7143\n",
      "6/6 [==============================] - 0s 2ms/step - loss: 0.5401 - accuracy: 0.7747\n",
      "6/6 [==============================] - 0s 2ms/step - loss: 0.5788 - accuracy: 0.7541\n",
      "6/6 [==============================] - 0s 2ms/step - loss: 0.5316 - accuracy: 0.7486\n",
      "6/6 [==============================] - 0s 2ms/step - loss: 0.5100 - accuracy: 0.7802\n",
      "6/6 [==============================] - 0s 2ms/step - loss: 0.5621 - accuracy: 0.7198\n",
      "6/6 [==============================] - 0s 2ms/step - loss: 0.5783 - accuracy: 0.7637\n",
      "6/6 [==============================] - 0s 1ms/step - loss: 0.5749 - accuracy: 0.7104\n",
      "6/6 [==============================] - 0s 1ms/step - loss: 0.5215 - accuracy: 0.7322\n",
      "6/6 [==============================] - 0s 2ms/step - loss: 0.4646 - accuracy: 0.7912\n",
      "6/6 [==============================] - 0s 2ms/step - loss: 0.5821 - accuracy: 0.6978\n",
      "6/6 [==============================] - 0s 1ms/step - loss: 0.5518 - accuracy: 0.7802\n",
      "6/6 [==============================] - 0s 2ms/step - loss: 0.8820 - accuracy: 0.7104\n",
      "6/6 [==============================] - 0s 2ms/step - loss: 0.8381 - accuracy: 0.7322\n",
      "6/6 [==============================] - 0s 1ms/step - loss: 0.8298 - accuracy: 0.7692\n",
      "6/6 [==============================] - 0s 1ms/step - loss: 0.9105 - accuracy: 0.7143\n",
      "6/6 [==============================] - 0s 2ms/step - loss: 0.9444 - accuracy: 0.7692\n",
      "6/6 [==============================] - 0s 1ms/step - loss: 0.6949 - accuracy: 0.7158\n",
      "6/6 [==============================] - 0s 1ms/step - loss: 0.6251 - accuracy: 0.7541\n",
      "6/6 [==============================] - 0s 2ms/step - loss: 0.5844 - accuracy: 0.7967\n",
      "6/6 [==============================] - 0s 1ms/step - loss: 0.6954 - accuracy: 0.7033\n",
      "6/6 [==============================] - 0s 2ms/step - loss: 0.7069 - accuracy: 0.7747\n",
      "6/6 [==============================] - 0s 2ms/step - loss: 0.7477 - accuracy: 0.7486\n",
      "6/6 [==============================] - 0s 1ms/step - loss: 0.6726 - accuracy: 0.7432\n",
      "6/6 [==============================] - 0s 1ms/step - loss: 0.6698 - accuracy: 0.7747\n",
      "6/6 [==============================] - 0s 1ms/step - loss: 0.7277 - accuracy: 0.7033\n",
      "6/6 [==============================] - 0s 1ms/step - loss: 0.7324 - accuracy: 0.4615\n",
      "6/6 [==============================] - 0s 2ms/step - loss: 0.6621 - accuracy: 0.7049\n",
      "6/6 [==============================] - 0s 2ms/step - loss: 0.6730 - accuracy: 0.7432\n",
      "6/6 [==============================] - 0s 1ms/step - loss: 0.5795 - accuracy: 0.8022\n",
      "6/6 [==============================] - 0s 1ms/step - loss: 0.6562 - accuracy: 0.6868\n",
      "6/6 [==============================] - 0s 1ms/step - loss: 0.6474 - accuracy: 0.7912\n",
      "6/6 [==============================] - 0s 1ms/step - loss: 0.7055 - accuracy: 0.7650\n",
      "6/6 [==============================] - 0s 1ms/step - loss: 0.6074 - accuracy: 0.7650\n",
      "6/6 [==============================] - 0s 1ms/step - loss: 0.6465 - accuracy: 0.7747\n",
      "6/6 [==============================] - 0s 1ms/step - loss: 0.6932 - accuracy: 0.7033\n",
      "6/6 [==============================] - 0s 1ms/step - loss: 0.7334 - accuracy: 0.4615\n",
      "6/6 [==============================] - 0s 1ms/step - loss: 0.6385 - accuracy: 0.7213\n",
      "6/6 [==============================] - 0s 1ms/step - loss: 0.6044 - accuracy: 0.7432\n",
      "6/6 [==============================] - 0s 2ms/step - loss: 0.5611 - accuracy: 0.8077\n",
      "6/6 [==============================] - 0s 1ms/step - loss: 0.6313 - accuracy: 0.7033\n",
      "6/6 [==============================] - 0s 1ms/step - loss: 0.6411 - accuracy: 0.7967\n"
     ]
    },
    {
     "data": {
      "text/plain": [
       "GridSearchCV(estimator=<tensorflow.python.keras.wrappers.scikit_learn.KerasRegressor object at 0x7fb406eee790>,\n",
       "             param_grid={'learning_rate': [0.001, 0.0001],\n",
       "                         'n_units': [50, 80, 100],\n",
       "                         'regularizer': ['l1', 'l2']})"
      ]
     },
     "execution_count": 196,
     "metadata": {},
     "output_type": "execute_result"
    }
   ],
   "source": [
    "grid_search.fit(X_train, Y_train, epochs=100, shuffle=True, batch_size=128, verbose=0)"
   ]
  },
  {
   "cell_type": "code",
   "execution_count": 197,
   "id": "variable-demonstration",
   "metadata": {},
   "outputs": [
    {
     "name": "stdout",
     "output_type": "stream",
     "text": [
      "Hyperparameters:  {'learning_rate': 0.001, 'n_units': 50, 'regularizer': 'l2'}\n",
      "Training accuracy:  0.7905701754385965\n",
      "Test accuracy:  0.6008771929824561\n"
     ]
    }
   ],
   "source": [
    "fc_model_pred = fc_model.predict(X_train)\n",
    "print('Training accuracy: ', np.mean((fc_model_pred>=0.5).squeeze().astype(int) == Y_train))\n",
    "fc_model_pred = fc_model.predict(X_test)\n",
    "print('Test accuracy: ', np.mean((fc_model_pred>=0.5).squeeze().astype(int) == Y_test))"
   ]
  },
  {
   "cell_type": "code",
   "execution_count": 157,
   "id": "little-eight",
   "metadata": {},
   "outputs": [
    {
     "name": "stdout",
     "output_type": "stream",
     "text": [
      "Model: \"sequential_121\"\n",
      "_________________________________________________________________\n",
      "Layer (type)                 Output Shape              Param #   \n",
      "=================================================================\n",
      "dense_363 (Dense)            (None, 50)                1050      \n",
      "_________________________________________________________________\n",
      "dense_364 (Dense)            (None, 50)                2550      \n",
      "_________________________________________________________________\n",
      "dense_365 (Dense)            (None, 1)                 51        \n",
      "=================================================================\n",
      "Total params: 3,651\n",
      "Trainable params: 3,651\n",
      "Non-trainable params: 0\n",
      "_________________________________________________________________\n"
     ]
    }
   ],
   "source": [
    "fc_model.summary()"
   ]
  },
  {
   "cell_type": "code",
   "execution_count": 210,
   "id": "synthetic-likelihood",
   "metadata": {},
   "outputs": [
    {
     "name": "stdout",
     "output_type": "stream",
     "text": [
      "Training accuracy:  0.7927631578947368\n",
      "Test accuracy:  0.6052631578947368\n"
     ]
    }
   ],
   "source": [
    "fc_model = build_fc_model(50, 1e-3, 'l2')\n",
    "fc_model.fit(X_train, Y_train, epochs=100, shuffle=True, batch_size=128, verbose=0)\n",
    "\n",
    "fc_model_pred = fc_model.predict(X_train)\n",
    "print('Training accuracy: ', np.mean((fc_model_pred>=0.5).squeeze().astype(int) == Y_train))\n",
    "fc_model_pred = fc_model.predict(X_test)\n",
    "print('Test accuracy: ', np.mean((fc_model_pred>=0.5).squeeze().astype(int) == Y_test))"
   ]
  },
  {
   "cell_type": "markdown",
   "id": "affecting-testing",
   "metadata": {},
   "source": [
    "### RNN with LSTM"
   ]
  },
  {
   "cell_type": "code",
   "execution_count": 212,
   "id": "dimensional-catalyst",
   "metadata": {},
   "outputs": [],
   "source": [
    "def build_lstm_model(n_lstm=4 ,n_units=50, learning_rate=1e-3):\n",
    "    lstm_model = tf.keras.models.Sequential()\n",
    "    lstm_model.add(tf.keras.layers.LSTM(n_lstm, return_sequences=True))\n",
    "    lstm_model.add(tf.keras.layers.LSTM(n_lstm))\n",
    "    lstm_model.add(tf.keras.layers.Dense(n_units, activation='relu', kernel_regularizer='l2'))\n",
    "    lstm_model.add(tf.keras.layers.Dense(1, activation='sigmoid', kernel_regularizer='l2'))\n",
    "    \n",
    "    lstm_model.compile(loss=\"binary_crossentropy\",\n",
    "              optimizer=tf.keras.optimizers.Adam(learning_rate=learning_rate),\n",
    "              metrics=[\"accuracy\"])\n",
    "    return lstm_model"
   ]
  },
  {
   "cell_type": "code",
   "execution_count": 213,
   "id": "crude-index",
   "metadata": {},
   "outputs": [],
   "source": [
    "param_distribs = {\n",
    "    \"n_lstm\": [4, 10],\n",
    "    \"n_units\": [30, 60],\n",
    "    \"learning_rate\": [1e-2, 1e-3]}\n",
    "keras_reg = tf.keras.wrappers.scikit_learn.KerasRegressor(build_lstm_model)\n",
    "grid_search = GridSearchCV(keras_reg, param_distribs)"
   ]
  },
  {
   "cell_type": "code",
   "execution_count": 214,
   "id": "dried-pastor",
   "metadata": {
    "collapsed": true,
    "jupyter": {
     "outputs_hidden": true
    },
    "tags": []
   },
   "outputs": [
    {
     "name": "stdout",
     "output_type": "stream",
     "text": [
      "6/6 [==============================] - 0s 2ms/step - loss: 0.5419 - accuracy: 0.7104\n",
      "6/6 [==============================] - 0s 2ms/step - loss: 0.4647 - accuracy: 0.7541\n",
      "6/6 [==============================] - 0s 3ms/step - loss: 0.4371 - accuracy: 0.7912\n",
      "6/6 [==============================] - 0s 3ms/step - loss: 0.5316 - accuracy: 0.7253\n",
      "6/6 [==============================] - 0s 2ms/step - loss: 0.5163 - accuracy: 0.7637\n",
      "6/6 [==============================] - 0s 2ms/step - loss: 0.5064 - accuracy: 0.7322\n",
      "6/6 [==============================] - 0s 2ms/step - loss: 0.4667 - accuracy: 0.7596\n",
      "6/6 [==============================] - 0s 2ms/step - loss: 0.4230 - accuracy: 0.7747\n",
      "6/6 [==============================] - 0s 2ms/step - loss: 0.5286 - accuracy: 0.7198\n",
      "6/6 [==============================] - 0s 2ms/step - loss: 0.5153 - accuracy: 0.7802\n",
      "6/6 [==============================] - 0s 2ms/step - loss: 0.5353 - accuracy: 0.7322\n",
      "6/6 [==============================] - 0s 2ms/step - loss: 0.4498 - accuracy: 0.7596\n",
      "6/6 [==============================] - 0s 3ms/step - loss: 0.4722 - accuracy: 0.7747\n",
      "6/6 [==============================] - 0s 2ms/step - loss: 0.5879 - accuracy: 0.6923\n",
      "6/6 [==============================] - 0s 2ms/step - loss: 0.5394 - accuracy: 0.7308\n",
      "6/6 [==============================] - 0s 2ms/step - loss: 0.5557 - accuracy: 0.7322\n",
      "6/6 [==============================] - 0s 3ms/step - loss: 0.4053 - accuracy: 0.7814\n",
      "6/6 [==============================] - 0s 3ms/step - loss: 0.4206 - accuracy: 0.7692\n",
      "6/6 [==============================] - 0s 2ms/step - loss: 0.5110 - accuracy: 0.7088\n",
      "6/6 [==============================] - 0s 2ms/step - loss: 0.5455 - accuracy: 0.7198\n",
      "6/6 [==============================] - 0s 2ms/step - loss: 0.5389 - accuracy: 0.7213\n",
      "6/6 [==============================] - 0s 3ms/step - loss: 0.4634 - accuracy: 0.7432\n",
      "6/6 [==============================] - 0s 2ms/step - loss: 0.4502 - accuracy: 0.7857\n",
      "6/6 [==============================] - 0s 2ms/step - loss: 0.5445 - accuracy: 0.7473\n",
      "6/6 [==============================] - 0s 2ms/step - loss: 0.5334 - accuracy: 0.7692\n",
      "6/6 [==============================] - 0s 2ms/step - loss: 0.5331 - accuracy: 0.7432\n",
      "6/6 [==============================] - 0s 3ms/step - loss: 0.4824 - accuracy: 0.7377\n",
      "6/6 [==============================] - 0s 2ms/step - loss: 0.4511 - accuracy: 0.7802\n",
      "6/6 [==============================] - 0s 3ms/step - loss: 0.5444 - accuracy: 0.7033\n",
      "6/6 [==============================] - 0s 2ms/step - loss: 0.5420 - accuracy: 0.7637\n",
      "6/6 [==============================] - 0s 3ms/step - loss: 0.5177 - accuracy: 0.7213\n",
      "6/6 [==============================] - 0s 2ms/step - loss: 0.4701 - accuracy: 0.7432\n",
      "6/6 [==============================] - 0s 2ms/step - loss: 0.4363 - accuracy: 0.7802\n",
      "6/6 [==============================] - 0s 2ms/step - loss: 0.5292 - accuracy: 0.7198\n",
      "6/6 [==============================] - 0s 2ms/step - loss: 0.5461 - accuracy: 0.7637\n",
      "6/6 [==============================] - 0s 2ms/step - loss: 0.5098 - accuracy: 0.7158\n",
      "6/6 [==============================] - 0s 2ms/step - loss: 0.4573 - accuracy: 0.7377\n",
      "6/6 [==============================] - 0s 3ms/step - loss: 0.4360 - accuracy: 0.8077\n",
      "6/6 [==============================] - 0s 2ms/step - loss: 0.5061 - accuracy: 0.7253\n",
      "6/6 [==============================] - 0s 2ms/step - loss: 0.5280 - accuracy: 0.7692\n",
      "Hyperparameters:  {'learning_rate': 0.001, 'n_lstm': 10, 'n_units': 60}\n"
     ]
    }
   ],
   "source": [
    "grid_search = GridSearchCV(keras_reg, param_distribs)\n",
    "grid_search.fit(np.expand_dims(X_train, axis=-1), Y_train, epochs=80, batch_size=128, shuffle=True, verbose=0)\n",
    "print('Hyperparameters: ', grid_search.best_params_)"
   ]
  },
  {
   "cell_type": "code",
   "execution_count": 215,
   "id": "steady-fetish",
   "metadata": {},
   "outputs": [
    {
     "name": "stdout",
     "output_type": "stream",
     "text": [
      "Training accuracy:  0.7609649122807017\n",
      "Test accuracy:  0.5964912280701754\n"
     ]
    }
   ],
   "source": [
    "lstm_model = build_lstm_model(10, 60, 1e-3)\n",
    "lstm_model.fit(np.expand_dims(X_train, axis=-1), Y_train, epochs=80, batch_size=128, shuffle=True, verbose=0)\n",
    "\n",
    "lstm_model_pred = lstm_model.predict(np.expand_dims(X_train, axis=-1))\n",
    "print('Training accuracy: ', np.mean((lstm_model_pred>=0.5).squeeze().astype(int) == Y_train))\n",
    "lstm_model_pred = lstm_model.predict(np.expand_dims(X_test, axis=-1))\n",
    "print('Test accuracy: ', np.mean((lstm_model_pred>=0.5).squeeze().astype(int) == Y_test))"
   ]
  },
  {
   "cell_type": "code",
   "execution_count": 216,
   "id": "incident-volume",
   "metadata": {},
   "outputs": [
    {
     "name": "stdout",
     "output_type": "stream",
     "text": [
      "Model: \"sequential_525\"\n",
      "_________________________________________________________________\n",
      "Layer (type)                 Output Shape              Param #   \n",
      "=================================================================\n",
      "lstm_453 (LSTM)              (None, 20, 10)            480       \n",
      "_________________________________________________________________\n",
      "lstm_454 (LSTM)              (None, 10)                840       \n",
      "_________________________________________________________________\n",
      "dense_1409 (Dense)           (None, 60)                660       \n",
      "_________________________________________________________________\n",
      "dense_1410 (Dense)           (None, 1)                 61        \n",
      "=================================================================\n",
      "Total params: 2,041\n",
      "Trainable params: 2,041\n",
      "Non-trainable params: 0\n",
      "_________________________________________________________________\n"
     ]
    }
   ],
   "source": [
    "lstm_model.summary()"
   ]
  },
  {
   "cell_type": "markdown",
   "id": "armed-assistant",
   "metadata": {},
   "source": [
    "### RNN with GRU with GRID search"
   ]
  },
  {
   "cell_type": "code",
   "execution_count": 220,
   "id": "mathematical-juice",
   "metadata": {},
   "outputs": [],
   "source": [
    "def build_gru_model(n_gru=4 ,n_units=50, learning_rate=1e-3):\n",
    "    gru_model = tf.keras.models.Sequential()\n",
    "    gru_model.add(tf.keras.layers.GRU(n_gru, return_sequences=True))\n",
    "    gru_model.add(tf.keras.layers.GRU(n_gru))\n",
    "    gru_model.add(tf.keras.layers.Dense(n_units, activation='relu', kernel_regularizer='l2'))\n",
    "    gru_model.add(tf.keras.layers.Dense(1, activation='sigmoid', kernel_regularizer='l2'))\n",
    "    \n",
    "    gru_model.compile(loss=\"binary_crossentropy\",\n",
    "              optimizer=tf.keras.optimizers.Adam(learning_rate=learning_rate),\n",
    "              metrics=[\"accuracy\"])\n",
    "    return gru_model"
   ]
  },
  {
   "cell_type": "code",
   "execution_count": 221,
   "id": "silver-hollywood",
   "metadata": {},
   "outputs": [],
   "source": [
    "param_distribs = {\n",
    "    \"n_gru\": [4, 10],\n",
    "    \"n_units\": [30, 60],\n",
    "    \"learning_rate\": [1e-2, 1e-3]}\n",
    "keras_reg = tf.keras.wrappers.scikit_learn.KerasRegressor(build_gru_model)"
   ]
  },
  {
   "cell_type": "code",
   "execution_count": 222,
   "id": "continuous-resistance",
   "metadata": {
    "collapsed": true,
    "jupyter": {
     "outputs_hidden": true
    },
    "tags": []
   },
   "outputs": [
    {
     "name": "stdout",
     "output_type": "stream",
     "text": [
      "6/6 [==============================] - 0s 6ms/step - loss: 0.5223 - accuracy: 0.7322\n",
      "6/6 [==============================] - 0s 6ms/step - loss: 0.4253 - accuracy: 0.7596\n",
      "6/6 [==============================] - 0s 6ms/step - loss: 0.4499 - accuracy: 0.7857\n",
      "6/6 [==============================] - 0s 6ms/step - loss: 0.5026 - accuracy: 0.7308\n",
      "6/6 [==============================] - 0s 6ms/step - loss: 0.4980 - accuracy: 0.7802\n",
      "6/6 [==============================] - 0s 6ms/step - loss: 0.5032 - accuracy: 0.7432\n",
      "6/6 [==============================] - 0s 6ms/step - loss: 0.4291 - accuracy: 0.7596\n",
      "6/6 [==============================] - 0s 6ms/step - loss: 0.4464 - accuracy: 0.7747\n",
      "6/6 [==============================] - 0s 5ms/step - loss: 0.5168 - accuracy: 0.7308\n",
      "6/6 [==============================] - 0s 6ms/step - loss: 0.5054 - accuracy: 0.7802\n",
      "6/6 [==============================] - 0s 6ms/step - loss: 0.4962 - accuracy: 0.7322\n",
      "6/6 [==============================] - 0s 6ms/step - loss: 0.4265 - accuracy: 0.7760\n",
      "6/6 [==============================] - 0s 6ms/step - loss: 0.5964 - accuracy: 0.7418\n",
      "6/6 [==============================] - 0s 6ms/step - loss: 0.5233 - accuracy: 0.7033\n",
      "6/6 [==============================] - 0s 6ms/step - loss: 0.5153 - accuracy: 0.7418\n",
      "6/6 [==============================] - 0s 5ms/step - loss: 0.5703 - accuracy: 0.7158\n",
      "6/6 [==============================] - 0s 6ms/step - loss: 0.4132 - accuracy: 0.7869\n",
      "6/6 [==============================] - 0s 6ms/step - loss: 0.4742 - accuracy: 0.7363\n",
      "6/6 [==============================] - 0s 6ms/step - loss: 0.5344 - accuracy: 0.7253\n",
      "6/6 [==============================] - 0s 6ms/step - loss: 0.5073 - accuracy: 0.7692\n",
      "6/6 [==============================] - 0s 6ms/step - loss: 0.5241 - accuracy: 0.7432\n",
      "6/6 [==============================] - 0s 6ms/step - loss: 0.4736 - accuracy: 0.7432\n",
      "6/6 [==============================] - 0s 6ms/step - loss: 0.4551 - accuracy: 0.7912\n",
      "6/6 [==============================] - 0s 6ms/step - loss: 0.5462 - accuracy: 0.6978\n",
      "6/6 [==============================] - 0s 6ms/step - loss: 0.5335 - accuracy: 0.7637\n",
      "6/6 [==============================] - 0s 6ms/step - loss: 0.5195 - accuracy: 0.7541\n",
      "6/6 [==============================] - 0s 5ms/step - loss: 0.4693 - accuracy: 0.7541\n",
      "6/6 [==============================] - 0s 5ms/step - loss: 0.4467 - accuracy: 0.7802\n",
      "6/6 [==============================] - 0s 5ms/step - loss: 0.5452 - accuracy: 0.7033\n",
      "6/6 [==============================] - 0s 5ms/step - loss: 0.5228 - accuracy: 0.7692\n",
      "6/6 [==============================] - 0s 6ms/step - loss: 0.5179 - accuracy: 0.7650\n",
      "6/6 [==============================] - 0s 6ms/step - loss: 0.4645 - accuracy: 0.7377\n",
      "6/6 [==============================] - 0s 6ms/step - loss: 0.4468 - accuracy: 0.7857\n",
      "6/6 [==============================] - 0s 6ms/step - loss: 0.5373 - accuracy: 0.6978\n",
      "6/6 [==============================] - 0s 6ms/step - loss: 0.5256 - accuracy: 0.7802\n",
      "6/6 [==============================] - 0s 6ms/step - loss: 0.5173 - accuracy: 0.7650\n",
      "6/6 [==============================] - 0s 6ms/step - loss: 0.4673 - accuracy: 0.7322\n",
      "6/6 [==============================] - 0s 6ms/step - loss: 0.4402 - accuracy: 0.7857\n",
      "6/6 [==============================] - 0s 6ms/step - loss: 0.5426 - accuracy: 0.7033\n",
      "6/6 [==============================] - 0s 6ms/step - loss: 0.5223 - accuracy: 0.7692\n",
      "Hyperparameters:  {'learning_rate': 0.01, 'n_gru': 4, 'n_units': 30}\n"
     ]
    }
   ],
   "source": [
    "grid_search = GridSearchCV(keras_reg, param_distribs)\n",
    "grid_search.fit(np.expand_dims(X_train, axis=-1), Y_train, batch_size=128, epochs=80, verbose=0)\n",
    "print('Hyperparameters: ', grid_search.best_params_)"
   ]
  },
  {
   "cell_type": "code",
   "execution_count": 223,
   "id": "derived-cholesterol",
   "metadata": {},
   "outputs": [
    {
     "name": "stdout",
     "output_type": "stream",
     "text": [
      "Training accuracy:  0.7653508771929824\n",
      "Test accuracy:  0.5964912280701754\n"
     ]
    }
   ],
   "source": [
    "gru_model = build_lstm_model(4, 30, 1e-2)\n",
    "gru_model.fit(np.expand_dims(X_train, axis=-1), Y_train, epochs=80, batch_size=128, shuffle=True, verbose=0)\n",
    "\n",
    "gru_model_pred = gru_model.predict(np.expand_dims(X_train, axis=-1))\n",
    "print('Training accuracy: ', np.mean((gru_model_pred>=0.5).squeeze().astype(int) == Y_train))\n",
    "gru_model_pred = gru_model.predict(np.expand_dims(X_test, axis=-1))\n",
    "print('Test accuracy: ', np.mean((gru_model_pred>=0.5).squeeze().astype(int) == Y_test))"
   ]
  },
  {
   "cell_type": "code",
   "execution_count": 225,
   "id": "advanced-crossing",
   "metadata": {},
   "outputs": [
    {
     "name": "stdout",
     "output_type": "stream",
     "text": [
      "Model: \"sequential_571\"\n",
      "_________________________________________________________________\n",
      "Layer (type)                 Output Shape              Param #   \n",
      "=================================================================\n",
      "lstm_455 (LSTM)              (None, 20, 4)             96        \n",
      "_________________________________________________________________\n",
      "lstm_456 (LSTM)              (None, 4)                 144       \n",
      "_________________________________________________________________\n",
      "dense_1501 (Dense)           (None, 30)                150       \n",
      "_________________________________________________________________\n",
      "dense_1502 (Dense)           (None, 1)                 31        \n",
      "=================================================================\n",
      "Total params: 421\n",
      "Trainable params: 421\n",
      "Non-trainable params: 0\n",
      "_________________________________________________________________\n"
     ]
    }
   ],
   "source": [
    "gru_model.summary()"
   ]
  },
  {
   "cell_type": "markdown",
   "id": "corresponding-gabriel",
   "metadata": {},
   "source": [
    "### Bidirectional RNN with LSTMs with GRID search"
   ]
  },
  {
   "cell_type": "code",
   "execution_count": 226,
   "id": "other-depth",
   "metadata": {},
   "outputs": [],
   "source": [
    "def build_bidir_model(n_lstm=4 ,n_units=30, learning_rate=1e-3):\n",
    "    bidir_model = tf.keras.models.Sequential()\n",
    "    bidir_model.add(tf.keras.layers.Bidirectional(tf.keras.layers.LSTM(n_lstm)))\n",
    "    bidir_model.add(tf.keras.layers.Dense(n_units, activation='relu',kernel_regularizer='l2'))\n",
    "    bidir_model.add(tf.keras.layers.Dense(n_units, activation='relu',kernel_regularizer='l2'))\n",
    "    bidir_model.add(tf.keras.layers.Dense(1, activation='sigmoid',kernel_regularizer='l2'))\n",
    "    \n",
    "    bidir_model.compile(loss=\"binary_crossentropy\",\n",
    "              optimizer=tf.keras.optimizers.Adam(learning_rate=learning_rate),\n",
    "              metrics=[\"accuracy\"])\n",
    "    return bidir_model"
   ]
  },
  {
   "cell_type": "code",
   "execution_count": 227,
   "id": "tough-resistance",
   "metadata": {
    "collapsed": true,
    "jupyter": {
     "outputs_hidden": true
    },
    "tags": []
   },
   "outputs": [
    {
     "name": "stdout",
     "output_type": "stream",
     "text": [
      "6/6 [==============================] - 0s 3ms/step - loss: 0.5600 - accuracy: 0.7432\n",
      "6/6 [==============================] - 0s 2ms/step - loss: 0.4609 - accuracy: 0.7814\n",
      "6/6 [==============================] - 0s 3ms/step - loss: 0.4373 - accuracy: 0.8077\n",
      "6/6 [==============================] - 0s 2ms/step - loss: 0.5651 - accuracy: 0.7143\n",
      "6/6 [==============================] - 0s 2ms/step - loss: 0.5364 - accuracy: 0.7637\n",
      "6/6 [==============================] - 0s 2ms/step - loss: 0.5021 - accuracy: 0.7596\n",
      "6/6 [==============================] - 0s 3ms/step - loss: 0.4513 - accuracy: 0.7432\n",
      "6/6 [==============================] - 0s 2ms/step - loss: 0.4592 - accuracy: 0.7692\n",
      "6/6 [==============================] - 0s 2ms/step - loss: 0.5539 - accuracy: 0.7143\n",
      "6/6 [==============================] - 0s 2ms/step - loss: 0.5209 - accuracy: 0.7747\n",
      "6/6 [==============================] - 0s 3ms/step - loss: 0.5334 - accuracy: 0.7541\n",
      "6/6 [==============================] - 0s 3ms/step - loss: 0.4840 - accuracy: 0.7650\n",
      "6/6 [==============================] - 0s 3ms/step - loss: 0.5910 - accuracy: 0.7692\n",
      "6/6 [==============================] - 0s 2ms/step - loss: 0.5712 - accuracy: 0.7363\n",
      "6/6 [==============================] - 0s 2ms/step - loss: 0.5414 - accuracy: 0.8187\n",
      "6/6 [==============================] - 0s 2ms/step - loss: 0.5806 - accuracy: 0.7377\n",
      "6/6 [==============================] - 0s 2ms/step - loss: 0.5149 - accuracy: 0.7377\n",
      "6/6 [==============================] - 0s 2ms/step - loss: 0.4595 - accuracy: 0.8132\n",
      "6/6 [==============================] - 0s 2ms/step - loss: 0.7115 - accuracy: 0.7143\n",
      "6/6 [==============================] - 0s 2ms/step - loss: 0.5376 - accuracy: 0.7912\n",
      "6/6 [==============================] - 0s 2ms/step - loss: 0.5084 - accuracy: 0.7377\n",
      "6/6 [==============================] - 0s 2ms/step - loss: 0.4496 - accuracy: 0.7486\n",
      "6/6 [==============================] - 0s 3ms/step - loss: 0.4413 - accuracy: 0.7912\n",
      "6/6 [==============================] - 0s 2ms/step - loss: 0.5375 - accuracy: 0.7143\n",
      "6/6 [==============================] - 0s 2ms/step - loss: 0.5242 - accuracy: 0.7692\n",
      "6/6 [==============================] - 0s 3ms/step - loss: 0.5127 - accuracy: 0.7432\n",
      "6/6 [==============================] - 0s 2ms/step - loss: 0.4437 - accuracy: 0.7650\n",
      "6/6 [==============================] - 0s 2ms/step - loss: 0.4333 - accuracy: 0.7747\n",
      "6/6 [==============================] - 0s 2ms/step - loss: 0.5428 - accuracy: 0.7253\n",
      "6/6 [==============================] - 0s 2ms/step - loss: 0.5220 - accuracy: 0.7692\n",
      "6/6 [==============================] - 0s 2ms/step - loss: 0.5044 - accuracy: 0.7322\n",
      "6/6 [==============================] - 0s 2ms/step - loss: 0.4331 - accuracy: 0.7705\n",
      "6/6 [==============================] - 0s 2ms/step - loss: 0.4325 - accuracy: 0.8022\n",
      "6/6 [==============================] - 0s 2ms/step - loss: 0.5629 - accuracy: 0.7033\n",
      "6/6 [==============================] - 0s 2ms/step - loss: 0.5189 - accuracy: 0.7582\n",
      "6/6 [==============================] - 0s 2ms/step - loss: 0.5284 - accuracy: 0.6831\n",
      "6/6 [==============================] - 0s 2ms/step - loss: 0.4294 - accuracy: 0.7760\n",
      "6/6 [==============================] - 0s 2ms/step - loss: 0.4266 - accuracy: 0.7802\n",
      "6/6 [==============================] - 0s 2ms/step - loss: 0.5548 - accuracy: 0.6923\n",
      "6/6 [==============================] - 0s 2ms/step - loss: 0.5068 - accuracy: 0.7802\n",
      "Hyperparameters:  {'learning_rate': 0.001, 'n_lstm': 10, 'n_units': 60}\n"
     ]
    }
   ],
   "source": [
    "param_distribs = {\n",
    "    \"n_lstm\": [4, 10],\n",
    "    \"n_units\": [30, 60],\n",
    "    \"learning_rate\": [1e-2, 1e-3]}\n",
    "keras_reg = tf.keras.wrappers.scikit_learn.KerasRegressor(build_bidir_model)\n",
    "\n",
    "grid_search = GridSearchCV(keras_reg, param_distribs)\n",
    "grid_search.fit(np.expand_dims(X_train, axis=-1), Y_train, epochs=100, verbose=0)\n",
    "print('Hyperparameters: ', grid_search.best_params_)"
   ]
  },
  {
   "cell_type": "code",
   "execution_count": 228,
   "id": "mighty-colombia",
   "metadata": {},
   "outputs": [
    {
     "name": "stdout",
     "output_type": "stream",
     "text": [
      "Training accuracy:  0.7653508771929824\n",
      "Test accuracy:  0.618421052631579\n"
     ]
    }
   ],
   "source": [
    "bidir_model = build_bidir_model(10, 60, 1e-3)\n",
    "bidir_model.fit(np.expand_dims(X_train, axis=-1), Y_train, epochs=80, batch_size=128, shuffle=True, verbose=0)\n",
    "\n",
    "bidir_model_pred = bidir_model.predict(np.expand_dims(X_train, axis=-1))\n",
    "print('Training accuracy: ', np.mean((bidir_model_pred>=0.5).squeeze().astype(int) == Y_train))\n",
    "bidir_model_pred = bidir_model.predict(np.expand_dims(X_test, axis=-1))\n",
    "print('Test accuracy: ', np.mean((bidir_model_pred>=0.5).squeeze().astype(int) == Y_test))"
   ]
  },
  {
   "cell_type": "code",
   "execution_count": 229,
   "id": "excellent-bridges",
   "metadata": {},
   "outputs": [
    {
     "name": "stdout",
     "output_type": "stream",
     "text": [
      "Model: \"sequential_613\"\n",
      "_________________________________________________________________\n",
      "Layer (type)                 Output Shape              Param #   \n",
      "=================================================================\n",
      "bidirectional_82 (Bidirectio (None, 20)                960       \n",
      "_________________________________________________________________\n",
      "dense_1626 (Dense)           (None, 60)                1260      \n",
      "_________________________________________________________________\n",
      "dense_1627 (Dense)           (None, 60)                3660      \n",
      "_________________________________________________________________\n",
      "dense_1628 (Dense)           (None, 1)                 61        \n",
      "=================================================================\n",
      "Total params: 5,941\n",
      "Trainable params: 5,941\n",
      "Non-trainable params: 0\n",
      "_________________________________________________________________\n"
     ]
    }
   ],
   "source": [
    "bidir_model.summary()"
   ]
  },
  {
   "cell_type": "code",
   "execution_count": null,
   "id": "corporate-trace",
   "metadata": {},
   "outputs": [],
   "source": []
  }
 ],
 "metadata": {
  "environment": {
   "name": "tf2-gpu.2-3.m65",
   "type": "gcloud",
   "uri": "gcr.io/deeplearning-platform-release/tf2-gpu.2-3:m65"
  },
  "kernelspec": {
   "display_name": "Python 3 - Conda",
   "language": "python",
   "name": "python3-conda"
  },
  "language_info": {
   "codemirror_mode": {
    "name": "ipython",
    "version": 3
   },
   "file_extension": ".py",
   "mimetype": "text/x-python",
   "name": "python",
   "nbconvert_exporter": "python",
   "pygments_lexer": "ipython3",
   "version": "3.8.2"
  }
 },
 "nbformat": 4,
 "nbformat_minor": 5
}
