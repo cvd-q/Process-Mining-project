{
 "cells": [
  {
   "cell_type": "markdown",
   "id": "surprising-candidate",
   "metadata": {},
   "source": [
    "# PROCESS MINING FINAL PROJECT 2020-2021\n",
    "## DATA PREPROCESSING\n",
    "### AUTHOR: Ma Jiawei\n",
    "### LECTURERS: De Leoni Massimiliano, Di Francescomarino Chiara "
   ]
  },
  {
   "cell_type": "markdown",
   "id": "economic-engineer",
   "metadata": {},
   "source": [
    "### Load training data"
   ]
  },
  {
   "cell_type": "code",
   "execution_count": 2,
   "id": "static-adolescent",
   "metadata": {},
   "outputs": [],
   "source": [
    "from pm4py.objects.log.importer.xes import importer as xes_importer"
   ]
  },
  {
   "cell_type": "code",
   "execution_count": 3,
   "id": "adult-fortune",
   "metadata": {},
   "outputs": [
    {
     "data": {
      "application/vnd.jupyter.widget-view+json": {
       "model_id": "b92e1d32b8b24848857c9575035b6059",
       "version_major": 2,
       "version_minor": 0
      },
      "text/plain": [
       "parsing log, completed traces ::   0%|          | 0/912 [00:00<?, ?it/s]"
      ]
     },
     "metadata": {},
     "output_type": "display_data"
    }
   ],
   "source": [
    "log = xes_importer.apply('./BPIChallenge2011_training_0-80.xes')"
   ]
  },
  {
   "cell_type": "markdown",
   "id": "grave-catering",
   "metadata": {},
   "source": [
    "Visualize the first 5 events of the first trace:"
   ]
  },
  {
   "cell_type": "code",
   "execution_count": 4,
   "id": "elementary-skill",
   "metadata": {
    "tags": []
   },
   "outputs": [
    {
     "name": "stdout",
     "output_type": "stream",
     "text": [
      "{'Activity code': 'AC410100', 'concept:name': 'First outpatient consultation', 'Specialism code': 'SC61', 'Producer code': 'SRTH', 'lifecycle:transition': 'complete', 'Section': 'Section 5', 'Number of executions': 1, 'time:timestamp': datetime.datetime(2005, 1, 3, 0, 0, tzinfo=datetime.timezone(datetime.timedelta(seconds=3600))), 'group': 'Radiotherapy'}\n",
      "---------\n",
      "{'Activity code': 'AC419100', 'concept:name': 'administrative fee - the first pol', 'Specialism code': 'SC61', 'Producer code': 'SRTH', 'lifecycle:transition': 'complete', 'Section': 'Section 5', 'Number of executions': 1, 'time:timestamp': datetime.datetime(2005, 1, 3, 0, 0, tzinfo=datetime.timezone(datetime.timedelta(seconds=3600))), 'group': 'Radiotherapy'}\n",
      "---------\n",
      "{'Activity code': 'AC10107', 'concept:name': 'verlosk.-gynaec. short-out card cost', 'Specialism code': 'SC7', 'Producer code': 'SGEH', 'lifecycle:transition': 'complete', 'Section': 'Section 2', 'Number of executions': 1, 'time:timestamp': datetime.datetime(2005, 1, 5, 0, 0, tzinfo=datetime.timezone(datetime.timedelta(seconds=3600))), 'group': 'Nursing ward'}\n",
      "---------\n",
      "{'Activity code': '339486E', 'concept:name': 'ultrasound - internal genitals', 'Specialism code': 'SC7', 'Producer code': 'SGEC', 'lifecycle:transition': 'complete', 'Section': 'Section 2', 'Number of executions': 1, 'time:timestamp': datetime.datetime(2005, 1, 5, 0, 0, tzinfo=datetime.timezone(datetime.timedelta(seconds=3600))), 'group': 'Obstetrics & Gynaecology clinic'}\n",
      "---------\n",
      "{'Activity code': 'AC410100', 'concept:name': 'First outpatient consultation', 'Specialism code': 'SC7', 'Producer code': 'SGEH', 'lifecycle:transition': 'complete', 'Section': 'Section 2', 'Number of executions': 1, 'time:timestamp': datetime.datetime(2005, 1, 5, 0, 0, tzinfo=datetime.timezone(datetime.timedelta(seconds=3600))), 'group': 'Nursing ward'}\n"
     ]
    }
   ],
   "source": [
    "print(log[0][0])\n",
    "print('---------')\n",
    "print(log[0][1])\n",
    "print('---------')\n",
    "print(log[0][2])\n",
    "print('---------')\n",
    "print(log[0][3])\n",
    "print('---------')\n",
    "print(log[0][4])"
   ]
  },
  {
   "cell_type": "markdown",
   "id": "international-billion",
   "metadata": {},
   "source": [
    "### Encode event names as integers and check length of the traces"
   ]
  },
  {
   "cell_type": "code",
   "execution_count": 5,
   "id": "typical-navigator",
   "metadata": {},
   "outputs": [],
   "source": [
    "import matplotlib.pyplot as plt\n",
    "import numpy as np\n",
    "%matplotlib inline"
   ]
  },
  {
   "cell_type": "code",
   "execution_count": 6,
   "id": "solar-questionnaire",
   "metadata": {},
   "outputs": [],
   "source": [
    "events_name = []\n",
    "lengths = []\n",
    "for trace in log:\n",
    "    lengths += [len(trace)]\n",
    "    for event in trace:\n",
    "        events_name += [event['concept:name']]"
   ]
  },
  {
   "cell_type": "code",
   "execution_count": 7,
   "id": "signal-telephone",
   "metadata": {
    "tags": []
   },
   "outputs": [
    {
     "data": {
      "image/png": "[encoded data removed]",
      "text/plain": [
       "<Figure size 432x288 with 1 Axes>"
      ]
     },
     "metadata": {
      "needs_background": "light"
     },
     "output_type": "display_data"
    }
   ],
   "source": [
    "bins = int((max(lengths)-min(lengths))/20)\n",
    "_ = plt.hist(lengths, bins=bins)"
   ]
  },
  {
   "cell_type": "code",
   "execution_count": 8,
   "id": "entire-atlas",
   "metadata": {},
   "outputs": [
    {
     "name": "stdout",
     "output_type": "stream",
     "text": [
      "total number of traces:  912\n",
      "number of traces with length greater or equal to 20:  553\n",
      "number of traces with length less than 20:  359\n"
     ]
    }
   ],
   "source": [
    "lengths = np.array(lengths)\n",
    "print('total number of traces: ', len(lengths))\n",
    "print('number of traces with length greater or equal to 20: ', np.sum(lengths>=20))\n",
    "print('number of traces with length less than 20: ', np.sum(lengths<20))"
   ]
  },
  {
   "cell_type": "code",
   "execution_count": 9,
   "id": "gorgeous-survival",
   "metadata": {},
   "outputs": [],
   "source": [
    "events_names_dict = {}\n",
    "for event_name in events_name:\n",
    "    if event_name not in events_names_dict:\n",
    "        events_names_dict[event_name]=None"
   ]
  },
  {
   "cell_type": "code",
   "execution_count": 10,
   "id": "equivalent-content",
   "metadata": {},
   "outputs": [
    {
     "name": "stdout",
     "output_type": "stream",
     "text": [
      "number of diffent events:  582\n"
     ]
    }
   ],
   "source": [
    "number_names = len(events_names_dict.keys())\n",
    "print('number of diffent events: ', number_names)"
   ]
  },
  {
   "cell_type": "markdown",
   "id": "executive-machine",
   "metadata": {},
   "source": [
    "Randomly assign integers for the events and print some examples:"
   ]
  },
  {
   "cell_type": "code",
   "execution_count": 11,
   "id": "studied-macintosh",
   "metadata": {},
   "outputs": [
    {
     "name": "stdout",
     "output_type": "stream",
     "text": [
      "[338, 365, 382, 147, 565, 88, 374, 417, 409, 557, 17, 415, 405, 458, 490, 321, 451, 285, 424, 388, 507, 318, 68, 262, 540, 464, 133, 208, 440, 272]\n"
     ]
    }
   ],
   "source": [
    "import random\n",
    "random.seed(666)\n",
    "indices = list(range(1,number_names+1)) # Indices start from 1, 0 is used for padding\n",
    "random.shuffle(indices)\n",
    "print(indices[:30])"
   ]
  },
  {
   "cell_type": "markdown",
   "id": "photographic-avatar",
   "metadata": {},
   "source": [
    "Create a dictionary useful for encoding event names"
   ]
  },
  {
   "cell_type": "code",
   "execution_count": 12,
   "id": "owned-auditor",
   "metadata": {},
   "outputs": [
    {
     "name": "stdout",
     "output_type": "stream",
     "text": [
      "('First outpatient consultation', 338)\n",
      "('administrative fee - the first pol', 365)\n",
      "('verlosk.-gynaec. short-out card cost', 382)\n",
      "('ultrasound - internal genitals', 147)\n",
      "('simulator - use before megavol', 565)\n",
      "('treatment time - Unit t3 - megavolt', 88)\n",
      "('teletherapy - megavolt photons bestrali', 374)\n",
      "('assumption laboratory', 417)\n",
      "('urea', 409)\n",
      "('hemoglobin photoelectric', 557)\n",
      "('creatinine', 17)\n"
     ]
    }
   ],
   "source": [
    "for i,key in enumerate(events_names_dict.keys()):\n",
    "    events_names_dict[key] = indices[i]\n",
    "n = 0\n",
    "for item in events_names_dict.items():\n",
    "    print(item)\n",
    "    n += 1\n",
    "    if n>10:\n",
    "        break"
   ]
  },
  {
   "cell_type": "markdown",
   "id": "instructional-satin",
   "metadata": {},
   "source": [
    "### First function"
   ]
  },
  {
   "cell_type": "code",
   "execution_count": 16,
   "id": "suffering-driving",
   "metadata": {},
   "outputs": [],
   "source": [
    "PL = 20\n",
    "def encode_trace_simple_index(trace, dictionary):  \n",
    "    '''\n",
    "    Input: A trace of the log and a dictionary containing (event name, integer) pairs, with diffenret int for each event.\n",
    "           The function also deals with short trace of length < PL using padding. \n",
    "           \n",
    "    Output: A numpy array of integers of length PL according to the dictionary. If a trace has length < PL then it's zero-padded.\n",
    "    '''\n",
    "    output = np.zeros(PL)\n",
    "    for i, event in enumerate(trace):\n",
    "        output[i] = dictionary[event['concept:name']]\n",
    "        if i==PL-1:\n",
    "            break\n",
    "    return output"
   ]
  },
  {
   "cell_type": "markdown",
   "id": "contained-authentication",
   "metadata": {},
   "source": [
    "Visualize some examples:"
   ]
  },
  {
   "cell_type": "code",
   "execution_count": 17,
   "id": "associate-tribune",
   "metadata": {},
   "outputs": [
    {
     "name": "stdout",
     "output_type": "stream",
     "text": [
      "length of sample_trace_encoded:  20\n",
      "sample_trace_encoded:  [503. 417. 318. 321. 176. 365. 176. 176. 160. 176. 176. 176. 297. 176.\n",
      " 176. 176. 365. 105. 176. 176.]\n"
     ]
    }
   ],
   "source": [
    "sample_trace = log[3]\n",
    "sample_trace_encoded = encode_trace_simple_index(sample_trace, events_names_dict)\n",
    "print('length of sample_trace_encoded: ', len(sample_trace_encoded))\n",
    "print('sample_trace_encoded: ', sample_trace_encoded)"
   ]
  },
  {
   "cell_type": "markdown",
   "id": "electrical-logistics",
   "metadata": {},
   "source": [
    "### Second function"
   ]
  },
  {
   "cell_type": "code",
   "execution_count": 18,
   "id": "vocal-surgery",
   "metadata": {},
   "outputs": [],
   "source": [
    "import datetime\n",
    "def encode_timestamp(timestamp: datetime.datetime):\n",
    "    '''\n",
    "    Input: datetime.datetime object contained in an event object.\n",
    "    Output: [timestamp since epoch, readable format, day of the year, day of the week, month of the year,\n",
    "    hour of the day in local time, minutes of the hour in local time, concatenation of hour and minutes of the day in local time]\n",
    "    '''\n",
    "    output = []\n",
    "    \n",
    "    output += [timestamp.timestamp()]\n",
    "    \n",
    "    output += [timestamp.isoformat()]\n",
    "    \n",
    "    output += [timestamp.day]\n",
    "    \n",
    "    output += [timestamp.weekday()]\n",
    "    \n",
    "    output += [timestamp.month]\n",
    "    \n",
    "    output += [timestamp.hour]\n",
    "    \n",
    "    output += [timestamp.minute]\n",
    "    \n",
    "    output += [str(timestamp.hour) + ':' + str(timestamp.minute)]\n",
    "    \n",
    "    return output"
   ]
  },
  {
   "cell_type": "markdown",
   "id": "actual-idaho",
   "metadata": {},
   "source": [
    "Print some examples:"
   ]
  },
  {
   "cell_type": "code",
   "execution_count": 19,
   "id": "opening-monday",
   "metadata": {},
   "outputs": [
    {
     "name": "stdout",
     "output_type": "stream",
     "text": [
      "event_time:\n",
      "2005-03-29 01:00:00+02:00\n",
      "encoded event_time:\n",
      "[1112050800.0, '2005-03-29T01:00:00+02:00', 29, 1, 3, 1, 0, '1:0']\n"
     ]
    }
   ],
   "source": [
    "event_time = log[3][10]['time:timestamp']\n",
    "print('event_time:')\n",
    "print(event_time)\n",
    "print('encoded event_time:')\n",
    "print(encode_timestamp(event_time))"
   ]
  },
  {
   "cell_type": "markdown",
   "id": "hazardous-crazy",
   "metadata": {},
   "source": [
    "### Third function"
   ]
  },
  {
   "cell_type": "code",
   "execution_count": 20,
   "id": "recent-syndrome",
   "metadata": {},
   "outputs": [],
   "source": [
    "def encode_event_simple_index_with_timestamp(event, dictionary):\n",
    "    '''\n",
    "    Input: event object from the log and a dictionary for the event name\n",
    "    \n",
    "    Output: [encoded event name, [encoded timestamp]]\n",
    "    '''\n",
    "    \n",
    "    output = [dictionary[event['concept:name']]]\n",
    "    output += [encode_timestamp(event['time:timestamp'])]\n",
    "    \n",
    "    return output"
   ]
  },
  {
   "cell_type": "markdown",
   "id": "moral-eugene",
   "metadata": {},
   "source": [
    "Print an example:"
   ]
  },
  {
   "cell_type": "code",
   "execution_count": 21,
   "id": "accessory-magic",
   "metadata": {},
   "outputs": [
    {
     "name": "stdout",
     "output_type": "stream",
     "text": [
      "event:\n",
      "{'Activity code': 'AC411100', 'concept:name': 'outpatient follow-up consultation', 'Specialism code': 'SC13', 'Producer code': 'SIOG', 'lifecycle:transition': 'complete', 'Section': 'Section 1', 'Number of executions': 1, 'time:timestamp': datetime.datetime(2005, 3, 29, 1, 0, tzinfo=datetime.timezone(datetime.timedelta(seconds=7200))), 'group': 'Internal Specialisms clinic'}\n",
      "encoded event with timestamp:\n",
      "[176, [1112050800.0, '2005-03-29T01:00:00+02:00', 29, 1, 3, 1, 0, '1:0']]\n"
     ]
    }
   ],
   "source": [
    "event= log[3][10]\n",
    "print('event:')\n",
    "print(event)\n",
    "print('encoded event with timestamp:')\n",
    "print(encode_event_simple_index_with_timestamp(event,dictionary=events_names_dict))"
   ]
  },
  {
   "cell_type": "markdown",
   "id": "fantastic-criterion",
   "metadata": {},
   "source": [
    "### Fourth function"
   ]
  },
  {
   "cell_type": "code",
   "execution_count": 22,
   "id": "therapeutic-count",
   "metadata": {},
   "outputs": [],
   "source": [
    "def encode_trace_simple_index_with_timestamp(trace, dictionary):\n",
    "    '''\n",
    "    Input: trace object from the log and a dictionary for the event name\n",
    "    \n",
    "    Output: a list of length PL each element is returned by encode_event_simple_index_with_timestamp function, zero-padding is used.\n",
    "    '''\n",
    "    \n",
    "    output = [[0,[0]]]*PL\n",
    "    \n",
    "    for i, event in enumerate(trace):\n",
    "        output[i] = encode_event_simple_index_with_timestamp(event,dictionary)\n",
    "        if i==PL-1:\n",
    "            break\n",
    "            \n",
    "    return output"
   ]
  },
  {
   "cell_type": "markdown",
   "id": "norwegian-encyclopedia",
   "metadata": {},
   "source": [
    "Print an example trace with length < PL:"
   ]
  },
  {
   "cell_type": "code",
   "execution_count": 23,
   "id": "dangerous-practice",
   "metadata": {},
   "outputs": [
    {
     "name": "stdout",
     "output_type": "stream",
     "text": [
      "trace:\n",
      "{'Activity code': 'AC411100', 'concept:name': 'outpatient follow-up consultation', 'Specialism code': 'SC13', 'Producer code': 'SIOG', 'lifecycle:transition': 'complete', 'Section': 'Section 1', 'Number of executions': 1, 'time:timestamp': datetime.datetime(2005, 3, 29, 1, 0, tzinfo=datetime.timezone(datetime.timedelta(seconds=7200))), 'group': 'Internal Specialisms clinic'}\n",
      "encoded trace with timestamp:\n",
      "[[31, [1106866800.0, '2005-01-28T00:00:00+01:00', 28, 4, 1, 0, 0, '0:0']], [417, [1117407600.0, '2005-05-30T01:00:00+02:00', 30, 0, 5, 1, 0, '1:0']], [383, [1117407600.0, '2005-05-30T01:00:00+02:00', 30, 0, 5, 1, 0, '1:0']], [321, [1117407600.0, '2005-05-30T01:00:00+02:00', 30, 0, 5, 1, 0, '1:0']], [176, [1117407600.0, '2005-05-30T01:00:00+02:00', 30, 0, 5, 1, 0, '1:0']], [105, [1121900400.0, '2005-07-21T01:00:00+02:00', 21, 3, 7, 1, 0, '1:0']], [202, [1123542000.0, '2005-08-09T01:00:00+02:00', 9, 1, 8, 1, 0, '1:0']], [559, [1123542000.0, '2005-08-09T01:00:00+02:00', 9, 1, 8, 1, 0, '1:0']], [105, [1125442800.0, '2005-08-31T01:00:00+02:00', 31, 2, 8, 1, 0, '1:0']], [176, [1141167600.0, '2006-03-01T00:00:00+01:00', 1, 2, 3, 0, 0, '0:0']], [365, [1141167600.0, '2006-03-01T00:00:00+01:00', 1, 2, 3, 0, 0, '0:0']], [176, [1157497200.0, '2006-09-06T01:00:00+02:00', 6, 2, 9, 1, 0, '1:0']], [329, [1157583600.0, '2006-09-07T01:00:00+02:00', 7, 3, 9, 1, 0, '1:0']], [547, [1157583600.0, '2006-09-07T01:00:00+02:00', 7, 3, 9, 1, 0, '1:0']], [105, [1158706800.0, '2006-09-20T01:00:00+02:00', 20, 2, 9, 1, 0, '1:0']], [176, [1175641200.0, '2007-04-04T01:00:00+02:00', 4, 2, 4, 1, 0, '1:0']], [365, [1175641200.0, '2007-04-04T01:00:00+02:00', 4, 2, 4, 1, 0, '1:0']], [0, [0]], [0, [0]], [0, [0]]]\n"
     ]
    }
   ],
   "source": [
    "trace= log[33]\n",
    "print('trace:')\n",
    "print(event)\n",
    "print('encoded trace with timestamp:')\n",
    "print(encode_trace_simple_index_with_timestamp(trace,dictionary=events_names_dict))"
   ]
  },
  {
   "cell_type": "markdown",
   "id": "inappropriate-tyler",
   "metadata": {},
   "source": [
    "### Create training and test dataset using simple encoding"
   ]
  },
  {
   "cell_type": "code",
   "execution_count": 24,
   "id": "small-grave",
   "metadata": {},
   "outputs": [],
   "source": [
    "n = len(lengths)\n",
    "X_train = np.empty(shape=(n,PL))\n",
    "Y_train = np.empty(shape=n)\n",
    "for i, trace in enumerate(log):\n",
    "    encoded_trace = encode_trace_simple_index(trace, events_names_dict)\n",
    "    if trace.attributes['label']=='false':\n",
    "        label = 0\n",
    "    else:\n",
    "        label = 1\n",
    "    X_train[i] = encoded_trace\n",
    "    Y_train[i] = label"
   ]
  },
  {
   "cell_type": "markdown",
   "id": "composed-concord",
   "metadata": {},
   "source": [
    "Visualize some samples form the training set:"
   ]
  },
  {
   "cell_type": "code",
   "execution_count": 25,
   "id": "isolated-preliminary",
   "metadata": {},
   "outputs": [
    {
     "name": "stdout",
     "output_type": "stream",
     "text": [
      "sample:\n",
      "[338. 365. 382. 147. 338. 365. 565.  88. 374. 417. 417. 409. 557.  17.\n",
      " 415. 405. 458. 490. 321. 451.]\n",
      "label:  0.0     label(from log):  false\n",
      "---------------------------------------\n",
      "sample:\n",
      "[503. 338. 365. 382. 176. 365. 176. 451. 417. 417. 417.   4. 205. 419.\n",
      "  77. 323. 243. 312. 495. 208.]\n",
      "label:  0.0     label(from log):  false\n",
      "---------------------------------------\n",
      "sample:\n",
      "[503. 176. 176. 365. 176. 176. 176. 176. 160. 176. 176. 176. 365. 417.\n",
      "  35. 383. 321. 176. 559. 105.]\n",
      "label:  1.0     label(from log):  true\n",
      "---------------------------------------\n",
      "sample:\n",
      "[503. 417. 318. 321. 176. 365. 176. 176. 160. 176. 176. 176. 297. 176.\n",
      " 176. 176. 365. 105. 176. 176.]\n",
      "label:  0.0     label(from log):  false\n",
      "---------------------------------------\n",
      "sample:\n",
      "[382. 116. 417. 417. 417. 524.  87.  86. 409. 557.  17. 517. 415. 405.\n",
      " 540. 464. 133. 312. 495. 458.]\n",
      "label:  1.0     label(from log):  true\n",
      "---------------------------------------\n",
      "sample:\n",
      "[176. 176. 176. 176. 365. 176. 451.  67. 347. 262. 451. 262. 451. 262.\n",
      " 451. 262. 451. 262. 451. 262.]\n",
      "label:  0.0     label(from log):  false\n",
      "---------------------------------------\n",
      "sample:\n",
      "[382. 392. 417. 417. 417. 524.  87.  86. 409. 557.  17. 517. 415. 405.\n",
      " 540. 464. 133. 312. 495. 458.]\n",
      "label:  1.0     label(from log):  true\n",
      "---------------------------------------\n",
      "sample:\n",
      "[382. 283. 417. 417. 417. 524.  87.  86. 409. 557.  17. 517. 415. 405.\n",
      " 540. 464. 133. 312. 495. 458.]\n",
      "label:  1.0     label(from log):  true\n",
      "---------------------------------------\n",
      "sample:\n",
      "[382. 392. 113. 338. 365. 451. 316. 417. 417. 417. 417. 417. 417. 285.\n",
      " 524.  87.  86. 409. 557.  17.]\n",
      "label:  0.0     label(from log):  false\n",
      "---------------------------------------\n",
      "sample:\n",
      "[ 31. 176. 365. 417. 551. 383. 321. 176.   0.   0.   0.   0.   0.   0.\n",
      "   0.   0.   0.   0.   0.   0.]\n",
      "label:  1.0     label(from log):  true\n",
      "---------------------------------------\n",
      "sample:\n",
      "[382. 147. 582. 392. 500. 288. 417. 417. 417. 524.  87.  86. 409. 557.\n",
      "  17. 517. 415. 405. 540. 464.]\n",
      "label:  1.0     label(from log):  true\n",
      "---------------------------------------\n"
     ]
    }
   ],
   "source": [
    "for i,sample in enumerate(X_train):\n",
    "    print('sample:')\n",
    "    print(sample)\n",
    "    print('label: ', Y_train[i], '   ', 'label(from log): ', log[i].attributes['label'])\n",
    "    print('---------------------------------------')\n",
    "    if i==10:\n",
    "        break"
   ]
  },
  {
   "cell_type": "markdown",
   "id": "surgical-millennium",
   "metadata": {},
   "source": [
    "Save the data:"
   ]
  },
  {
   "cell_type": "code",
   "execution_count": 32,
   "id": "precious-officer",
   "metadata": {},
   "outputs": [],
   "source": [
    "np.save('X_train',X_train)\n",
    "np.save('Y_train',Y_train)"
   ]
  },
  {
   "cell_type": "markdown",
   "id": "desirable-mayor",
   "metadata": {},
   "source": [
    "Same thing for the test dataset:"
   ]
  },
  {
   "cell_type": "code",
   "execution_count": 27,
   "id": "fleet-punishment",
   "metadata": {},
   "outputs": [
    {
     "data": {
      "application/vnd.jupyter.widget-view+json": {
       "model_id": "03aa8ec6501f4a64b687b4a81f1aa67d",
       "version_major": 2,
       "version_minor": 0
      },
      "text/plain": [
       "parsing log, completed traces ::   0%|          | 0/228 [00:00<?, ?it/s]"
      ]
     },
     "metadata": {},
     "output_type": "display_data"
    }
   ],
   "source": [
    "log_test = xes_importer.apply('./BPIChallenge2011_testing_80-100.xes')"
   ]
  },
  {
   "cell_type": "markdown",
   "id": "owned-calcium",
   "metadata": {},
   "source": [
    "Some event names are not occurred in the training dataset, so I add them at the existing dictionary:"
   ]
  },
  {
   "cell_type": "code",
   "execution_count": 28,
   "id": "daily-stick",
   "metadata": {},
   "outputs": [
    {
     "name": "stdout",
     "output_type": "stream",
     "text": [
      "A name not in training dict:  ro gel. as ass. to puncture - biopsy l\n",
      "A name not in training dict:  lymf.syst. - Regional lymfeklierdissec\n",
      "A name not in training dict:  339849d-toegangschir c.v.d. catheter v.\n",
      "A name not in training dict:  abnormal hemoglobin including hba2\n",
      "A name not in training dict:  IgG index\n",
      "A name not in training dict:  albumin ratio\n",
      "A name not in training dict:  CSF concentrations after immunoelectrophoresis\n",
      "A name not in training dict:  Skin - Remove retention cyst\n",
      "A name not in training dict:  ro gel. as ass. by inserting endoproth\n",
      "A name not in training dict:  liver - resection or tumor metastasis\n",
      "A name not in training dict:  lymph. syst. - Sentinel node procedure li\n",
      "A name not in training dict:  plaster room ok - use\n",
      "A name not in training dict:  standard material n.n.o.\n",
      "A name not in training dict:  zwachtelverband sling - construction\n",
      "A name not in training dict:  partial dental status\n",
      "A name not in training dict:  interc.consult outpatient\n",
      "A name not in training dict:  vrw.gesl.org-second look-oper.ovariumca\n",
      "A name not in training dict:  oesofago chromatography - oral\n",
      "A name not in training dict:  perif.vaten - port-a-cath insertion syst\n",
      "A name not in training dict:  periphery. containers - remove port-a-cath\n",
      "A name not in training dict:  X-ray incomplete\n",
      "A name not in training dict:  mri Art. and ven.abdomen\n",
      "A name not in training dict:  vagina - vagina with extirpation of\n",
      "A name not in training dict:  neuro-specific enolase\n",
      "A name not in training dict:  ct knee\n",
      "A name not in training dict:  tuba-uterine reanastomose after sterilisat\n",
      "A name not in training dict:  autopsy\n",
      "A name not in training dict:  anesthesia - epidural blood patch\n",
      "A name not in training dict:  colon - sigmoid resection with excellent\n",
      "A name not in training dict:  colon - acute appendectomy on me\n",
      "A name not in training dict:  total T3 - triiodothyronine using radiois\n",
      "A name not in training dict:  t3-uptake latent bindingscap. geb. tbg\n",
      "A name not in training dict:  pelvic ultrasound anatomy content except code 83 to\n",
      "A name not in training dict:  uterus - up. Laparoscopic dip HySt\n",
      "A name not in training dict:  Placing filter v.cava\n",
      "A name not in training dict:  first aid - not seh Department - elsewhere\n",
      "A name not in training dict:  belly - second look-oper.ovariumca\n",
      "A name not in training dict:  itraconazole using HPLC\n",
      "A name not in training dict:  provision hepatitis be antigen\n",
      "A name not in training dict:  antist provision. hepatitis be antigen\n"
     ]
    }
   ],
   "source": [
    "index = max(events_names_dict.values())\n",
    "for trace in log_test:\n",
    "    for event in trace:\n",
    "        name = event['concept:name']\n",
    "        if name not in events_names_dict:\n",
    "            print('A name not in training dict: ', name)\n",
    "            index += 1\n",
    "            events_names_dict[name] = index"
   ]
  },
  {
   "cell_type": "code",
   "execution_count": 29,
   "id": "complimentary-azerbaijan",
   "metadata": {},
   "outputs": [],
   "source": [
    "n = len(log_test)\n",
    "X_test = np.empty(shape=(n,PL))\n",
    "Y_test = np.empty(shape=n)\n",
    "for i, trace in enumerate(log_test):\n",
    "    encoded_trace = encode_trace_simple_index(trace, events_names_dict)\n",
    "    if trace.attributes['label']=='false':\n",
    "        label = 0\n",
    "    else:\n",
    "        label = 1\n",
    "    X_test[i] = encoded_trace\n",
    "    Y_test[i] = label"
   ]
  },
  {
   "cell_type": "code",
   "execution_count": 30,
   "id": "knowing-correction",
   "metadata": {},
   "outputs": [
    {
     "name": "stdout",
     "output_type": "stream",
     "text": [
      "(228, 20)\n",
      "(228,)\n"
     ]
    }
   ],
   "source": [
    "print(X_test.shape)\n",
    "print(Y_test.shape)"
   ]
  },
  {
   "cell_type": "code",
   "execution_count": 33,
   "id": "terminal-albuquerque",
   "metadata": {},
   "outputs": [],
   "source": [
    "np.save('X_test',X_test)\n",
    "np.save('Y_test',Y_test)"
   ]
  },
  {
   "cell_type": "markdown",
   "id": "residential-boston",
   "metadata": {},
   "source": [
    "Save dictionary in a csv file:"
   ]
  },
  {
   "cell_type": "code",
   "execution_count": 34,
   "id": "convenient-beverage",
   "metadata": {},
   "outputs": [],
   "source": [
    "import csv\n",
    "with open('events_names.csv', 'w') as csv_file:  \n",
    "    writer = csv.writer(csv_file)\n",
    "    for key, value in events_names_dict.items():\n",
    "        writer.writerow([key, value])"
   ]
  },
  {
   "cell_type": "code",
   "execution_count": null,
   "id": "phantom-technique",
   "metadata": {},
   "outputs": [],
   "source": []
  },
  {
   "cell_type": "markdown",
   "id": "bronze-scene",
   "metadata": {},
   "source": [
    "### Create training and test dataset using simple encoding with timestamp"
   ]
  },
  {
   "cell_type": "code",
   "execution_count": 35,
   "id": "sustainable-uzbekistan",
   "metadata": {},
   "outputs": [],
   "source": [
    "n = len(log)\n",
    "X_timestamp_train = np.empty(shape=(n,PL,2))\n",
    "Y_timestamp_train = np.empty(shape=n)\n",
    "for i, trace in enumerate(log):\n",
    "    encoded_trace = encode_trace_simple_index_with_timestamp(trace, events_names_dict)\n",
    "    for j, event_with_timestamp in enumerate(encoded_trace):\n",
    "        X_timestamp_train[i,j] = [event_with_timestamp[0], event_with_timestamp[1][0]]#only first time representation is considered\n",
    "\n",
    "    if trace.attributes['label']=='false':\n",
    "        label = 0\n",
    "    else:\n",
    "        label = 1\n",
    "    Y_timestamp_train[i] = label"
   ]
  },
  {
   "cell_type": "code",
   "execution_count": 36,
   "id": "crucial-romantic",
   "metadata": {},
   "outputs": [
    {
     "name": "stdout",
     "output_type": "stream",
     "text": [
      "sample:\n",
      "[[3.3800000e+02 1.1047068e+09]\n",
      " [3.6500000e+02 1.1047068e+09]\n",
      " [3.8200000e+02 1.1048796e+09]\n",
      " [1.4700000e+02 1.1048796e+09]\n",
      " [3.3800000e+02 1.1048796e+09]\n",
      " [3.6500000e+02 1.1048796e+09]\n",
      " [5.6500000e+02 1.1065212e+09]\n",
      " [8.8000000e+01 1.1071260e+09]\n",
      " [3.7400000e+02 1.1071260e+09]\n",
      " [4.1700000e+02 1.1084220e+09]\n",
      " [4.1700000e+02 1.1084220e+09]\n",
      " [4.0900000e+02 1.1084220e+09]\n",
      " [5.5700000e+02 1.1084220e+09]\n",
      " [1.7000000e+01 1.1084220e+09]\n",
      " [4.1500000e+02 1.1084220e+09]\n",
      " [4.0500000e+02 1.1084220e+09]\n",
      " [4.5800000e+02 1.1084220e+09]\n",
      " [4.9000000e+02 1.1084220e+09]\n",
      " [3.2100000e+02 1.1084220e+09]\n",
      " [4.5100000e+02 1.1085948e+09]]\n",
      "label:  0.0     label(from log):  false\n",
      "---------------------------------------\n",
      "sample:\n",
      "[[5.0300000e+02 1.1047068e+09]\n",
      " [3.3800000e+02 1.1047068e+09]\n",
      " [3.6500000e+02 1.1047068e+09]\n",
      " [3.8200000e+02 1.1049660e+09]\n",
      " [1.7600000e+02 1.1049660e+09]\n",
      " [3.6500000e+02 1.1049660e+09]\n",
      " [1.7600000e+02 1.1053116e+09]\n",
      " [4.5100000e+02 1.1060892e+09]\n",
      " [4.1700000e+02 1.1060892e+09]\n",
      " [4.1700000e+02 1.1060892e+09]\n",
      " [4.1700000e+02 1.1060892e+09]\n",
      " [4.0000000e+00 1.1060892e+09]\n",
      " [2.0500000e+02 1.1060892e+09]\n",
      " [4.1900000e+02 1.1060892e+09]\n",
      " [7.7000000e+01 1.1060892e+09]\n",
      " [3.2300000e+02 1.1060892e+09]\n",
      " [2.4300000e+02 1.1060892e+09]\n",
      " [3.1200000e+02 1.1060892e+09]\n",
      " [4.9500000e+02 1.1060892e+09]\n",
      " [2.0800000e+02 1.1060892e+09]]\n",
      "label:  0.0     label(from log):  false\n",
      "---------------------------------------\n",
      "sample:\n",
      "[[5.0300000e+02 1.1047068e+09]\n",
      " [1.7600000e+02 1.1047068e+09]\n",
      " [1.7600000e+02 1.1065212e+09]\n",
      " [3.6500000e+02 1.1065212e+09]\n",
      " [1.7600000e+02 1.1071260e+09]\n",
      " [1.7600000e+02 1.1077308e+09]\n",
      " [1.7600000e+02 1.1083356e+09]\n",
      " [1.7600000e+02 1.1089404e+09]\n",
      " [1.6000000e+02 1.1098044e+09]\n",
      " [1.7600000e+02 1.1101500e+09]\n",
      " [1.7600000e+02 1.1113596e+09]\n",
      " [1.7600000e+02 1.1370204e+09]\n",
      " [3.6500000e+02 1.1370204e+09]\n",
      " [4.1700000e+02 1.1466972e+09]\n",
      " [3.5000000e+01 1.1466972e+09]\n",
      " [3.8300000e+02 1.1466972e+09]\n",
      " [3.2100000e+02 1.1466972e+09]\n",
      " [1.7600000e+02 1.1466972e+09]\n",
      " [5.5900000e+02 1.1473884e+09]\n",
      " [1.0500000e+02 1.1479068e+09]]\n",
      "label:  1.0     label(from log):  true\n",
      "---------------------------------------\n",
      "sample:\n",
      "[[5.0300000e+02 1.1047068e+09]\n",
      " [4.1700000e+02 1.1047068e+09]\n",
      " [3.1800000e+02 1.1047068e+09]\n",
      " [3.2100000e+02 1.1047068e+09]\n",
      " [1.7600000e+02 1.1047068e+09]\n",
      " [3.6500000e+02 1.1047068e+09]\n",
      " [1.7600000e+02 1.1065212e+09]\n",
      " [1.7600000e+02 1.1083356e+09]\n",
      " [1.6000000e+02 1.1098044e+09]\n",
      " [1.7600000e+02 1.1101500e+09]\n",
      " [1.7600000e+02 1.1120508e+09]\n",
      " [1.7600000e+02 1.1137788e+09]\n",
      " [2.9700000e+02 1.1138652e+09]\n",
      " [1.7600000e+02 1.1200860e+09]\n",
      " [1.7600000e+02 1.1288988e+09]\n",
      " [1.7600000e+02 1.1373660e+09]\n",
      " [3.6500000e+02 1.1373660e+09]\n",
      " [1.0500000e+02 1.1381436e+09]\n",
      " [1.7600000e+02 1.1556828e+09]\n",
      " [1.7600000e+02 1.1720124e+09]]\n",
      "label:  0.0     label(from log):  false\n",
      "---------------------------------------\n",
      "sample:\n",
      "[[3.8200000e+02 1.1047068e+09]\n",
      " [1.1600000e+02 1.1047068e+09]\n",
      " [4.1700000e+02 1.1047068e+09]\n",
      " [4.1700000e+02 1.1047068e+09]\n",
      " [4.1700000e+02 1.1047068e+09]\n",
      " [5.2400000e+02 1.1047068e+09]\n",
      " [8.7000000e+01 1.1047068e+09]\n",
      " [8.6000000e+01 1.1047068e+09]\n",
      " [4.0900000e+02 1.1047068e+09]\n",
      " [5.5700000e+02 1.1047068e+09]\n",
      " [1.7000000e+01 1.1047068e+09]\n",
      " [5.1700000e+02 1.1047068e+09]\n",
      " [4.1500000e+02 1.1047068e+09]\n",
      " [4.0500000e+02 1.1047068e+09]\n",
      " [5.4000000e+02 1.1047068e+09]\n",
      " [4.6400000e+02 1.1047068e+09]\n",
      " [1.3300000e+02 1.1047068e+09]\n",
      " [3.1200000e+02 1.1047068e+09]\n",
      " [4.9500000e+02 1.1047068e+09]\n",
      " [4.5800000e+02 1.1047068e+09]]\n",
      "label:  1.0     label(from log):  true\n",
      "---------------------------------------\n",
      "sample:\n",
      "[[1.7600000e+02 1.1049660e+09]\n",
      " [1.7600000e+02 1.1091132e+09]\n",
      " [1.7600000e+02 1.1544732e+09]\n",
      " [1.7600000e+02 1.1556828e+09]\n",
      " [3.6500000e+02 1.1556828e+09]\n",
      " [1.7600000e+02 1.1574972e+09]\n",
      " [4.5100000e+02 1.1587932e+09]\n",
      " [6.7000000e+01 1.1587932e+09]\n",
      " [3.4700000e+02 1.1587932e+09]\n",
      " [2.6200000e+02 1.1587932e+09]\n",
      " [4.5100000e+02 1.1588796e+09]\n",
      " [2.6200000e+02 1.1588796e+09]\n",
      " [4.5100000e+02 1.1589660e+09]\n",
      " [2.6200000e+02 1.1589660e+09]\n",
      " [4.5100000e+02 1.1590524e+09]\n",
      " [2.6200000e+02 1.1590524e+09]\n",
      " [4.5100000e+02 1.1591388e+09]\n",
      " [2.6200000e+02 1.1591388e+09]\n",
      " [4.5100000e+02 1.1592252e+09]\n",
      " [2.6200000e+02 1.1592252e+09]]\n",
      "label:  0.0     label(from log):  false\n",
      "---------------------------------------\n",
      "sample:\n",
      "[[3.820000e+02 1.104966e+09]\n",
      " [3.920000e+02 1.104966e+09]\n",
      " [4.170000e+02 1.104966e+09]\n",
      " [4.170000e+02 1.104966e+09]\n",
      " [4.170000e+02 1.104966e+09]\n",
      " [5.240000e+02 1.104966e+09]\n",
      " [8.700000e+01 1.104966e+09]\n",
      " [8.600000e+01 1.104966e+09]\n",
      " [4.090000e+02 1.104966e+09]\n",
      " [5.570000e+02 1.104966e+09]\n",
      " [1.700000e+01 1.104966e+09]\n",
      " [5.170000e+02 1.104966e+09]\n",
      " [4.150000e+02 1.104966e+09]\n",
      " [4.050000e+02 1.104966e+09]\n",
      " [5.400000e+02 1.104966e+09]\n",
      " [4.640000e+02 1.104966e+09]\n",
      " [1.330000e+02 1.104966e+09]\n",
      " [3.120000e+02 1.104966e+09]\n",
      " [4.950000e+02 1.104966e+09]\n",
      " [4.580000e+02 1.104966e+09]]\n",
      "label:  1.0     label(from log):  true\n",
      "---------------------------------------\n",
      "sample:\n",
      "[[3.820000e+02 1.104966e+09]\n",
      " [2.830000e+02 1.104966e+09]\n",
      " [4.170000e+02 1.104966e+09]\n",
      " [4.170000e+02 1.104966e+09]\n",
      " [4.170000e+02 1.104966e+09]\n",
      " [5.240000e+02 1.104966e+09]\n",
      " [8.700000e+01 1.104966e+09]\n",
      " [8.600000e+01 1.104966e+09]\n",
      " [4.090000e+02 1.104966e+09]\n",
      " [5.570000e+02 1.104966e+09]\n",
      " [1.700000e+01 1.104966e+09]\n",
      " [5.170000e+02 1.104966e+09]\n",
      " [4.150000e+02 1.104966e+09]\n",
      " [4.050000e+02 1.104966e+09]\n",
      " [5.400000e+02 1.104966e+09]\n",
      " [4.640000e+02 1.104966e+09]\n",
      " [1.330000e+02 1.104966e+09]\n",
      " [3.120000e+02 1.104966e+09]\n",
      " [4.950000e+02 1.104966e+09]\n",
      " [4.580000e+02 1.104966e+09]]\n",
      "label:  1.0     label(from log):  true\n",
      "---------------------------------------\n",
      "sample:\n",
      "[[3.8200000e+02 1.1050524e+09]\n",
      " [3.9200000e+02 1.1050524e+09]\n",
      " [1.1300000e+02 1.1050524e+09]\n",
      " [3.3800000e+02 1.1050524e+09]\n",
      " [3.6500000e+02 1.1050524e+09]\n",
      " [4.5100000e+02 1.1054844e+09]\n",
      " [3.1600000e+02 1.1054844e+09]\n",
      " [4.1700000e+02 1.1054844e+09]\n",
      " [4.1700000e+02 1.1054844e+09]\n",
      " [4.1700000e+02 1.1054844e+09]\n",
      " [4.1700000e+02 1.1054844e+09]\n",
      " [4.1700000e+02 1.1054844e+09]\n",
      " [4.1700000e+02 1.1054844e+09]\n",
      " [2.8500000e+02 1.1054844e+09]\n",
      " [5.2400000e+02 1.1054844e+09]\n",
      " [8.7000000e+01 1.1054844e+09]\n",
      " [8.6000000e+01 1.1054844e+09]\n",
      " [4.0900000e+02 1.1054844e+09]\n",
      " [5.5700000e+02 1.1054844e+09]\n",
      " [1.7000000e+01 1.1054844e+09]]\n",
      "label:  0.0     label(from log):  false\n",
      "---------------------------------------\n",
      "sample:\n",
      "[[3.1000000e+01 1.1051388e+09]\n",
      " [1.7600000e+02 1.1055708e+09]\n",
      " [3.6500000e+02 1.1055708e+09]\n",
      " [4.1700000e+02 1.1125692e+09]\n",
      " [5.5100000e+02 1.1125692e+09]\n",
      " [3.8300000e+02 1.1125692e+09]\n",
      " [3.2100000e+02 1.1125692e+09]\n",
      " [1.7600000e+02 1.1137788e+09]\n",
      " [0.0000000e+00 0.0000000e+00]\n",
      " [0.0000000e+00 0.0000000e+00]\n",
      " [0.0000000e+00 0.0000000e+00]\n",
      " [0.0000000e+00 0.0000000e+00]\n",
      " [0.0000000e+00 0.0000000e+00]\n",
      " [0.0000000e+00 0.0000000e+00]\n",
      " [0.0000000e+00 0.0000000e+00]\n",
      " [0.0000000e+00 0.0000000e+00]\n",
      " [0.0000000e+00 0.0000000e+00]\n",
      " [0.0000000e+00 0.0000000e+00]\n",
      " [0.0000000e+00 0.0000000e+00]\n",
      " [0.0000000e+00 0.0000000e+00]]\n",
      "label:  1.0     label(from log):  true\n",
      "---------------------------------------\n",
      "sample:\n",
      "[[3.8200000e+02 1.1053116e+09]\n",
      " [1.4700000e+02 1.1053116e+09]\n",
      " [5.8200000e+02 1.1053116e+09]\n",
      " [3.9200000e+02 1.1053116e+09]\n",
      " [5.0000000e+02 1.1053116e+09]\n",
      " [2.8800000e+02 1.1053116e+09]\n",
      " [4.1700000e+02 1.1053116e+09]\n",
      " [4.1700000e+02 1.1053116e+09]\n",
      " [4.1700000e+02 1.1053116e+09]\n",
      " [5.2400000e+02 1.1053116e+09]\n",
      " [8.7000000e+01 1.1053116e+09]\n",
      " [8.6000000e+01 1.1053116e+09]\n",
      " [4.0900000e+02 1.1053116e+09]\n",
      " [5.5700000e+02 1.1053116e+09]\n",
      " [1.7000000e+01 1.1053116e+09]\n",
      " [5.1700000e+02 1.1053116e+09]\n",
      " [4.1500000e+02 1.1053116e+09]\n",
      " [4.0500000e+02 1.1053116e+09]\n",
      " [5.4000000e+02 1.1053116e+09]\n",
      " [4.6400000e+02 1.1053116e+09]]\n",
      "label:  1.0     label(from log):  true\n",
      "---------------------------------------\n"
     ]
    }
   ],
   "source": [
    "for i,sample in enumerate(X_timestamp_train):\n",
    "    print('sample:')\n",
    "    print(sample)\n",
    "    print('label: ', Y_timestamp_train[i], '   ', 'label(from log): ', log[i].attributes['label'])\n",
    "    print('---------------------------------------')\n",
    "    if i==10:\n",
    "        break"
   ]
  },
  {
   "cell_type": "code",
   "execution_count": 37,
   "id": "crucial-attendance",
   "metadata": {},
   "outputs": [],
   "source": [
    "n = len(log_test)\n",
    "X_timestamp_test = np.empty(shape=(n,PL,2))\n",
    "Y_timestamp_test = np.empty(shape=n)\n",
    "for i, trace in enumerate(log_test):\n",
    "    encoded_trace = encode_trace_simple_index_with_timestamp(trace, events_names_dict)\n",
    "    for j, event_with_timestamp in enumerate(encoded_trace):\n",
    "        X_timestamp_test[i,j] = [event_with_timestamp[0], event_with_timestamp[1][0]]#only first time representation is considered\n",
    "\n",
    "    if trace.attributes['label']=='false':\n",
    "        label = 0\n",
    "    else:\n",
    "        label = 1\n",
    "    Y_timestamp_test[i] = label"
   ]
  },
  {
   "cell_type": "code",
   "execution_count": 38,
   "id": "rural-mistress",
   "metadata": {},
   "outputs": [],
   "source": [
    "np.save('X_timestamp_train', X_timestamp_train)\n",
    "np.save('Y_timestamp_train', Y_timestamp_train)\n",
    "np.save('X_timestamp_test', X_timestamp_test)\n",
    "np.save('Y_timestamp_test', Y_timestamp_test)"
   ]
  },
  {
   "cell_type": "code",
   "execution_count": null,
   "id": "tracked-gallery",
   "metadata": {},
   "outputs": [],
   "source": []
  }
 ],
 "metadata": {
  "environment": {
   "name": "tf2-gpu.2-3.m65",
   "type": "gcloud",
   "uri": "gcr.io/deeplearning-platform-release/tf2-gpu.2-3:m65"
  },
  "kernelspec": {
   "display_name": "Python 3",
   "language": "python",
   "name": "python3"
  },
  "language_info": {
   "codemirror_mode": {
    "name": "ipython",
    "version": 3
   },
   "file_extension": ".py",
   "mimetype": "text/x-python",
   "name": "python",
   "nbconvert_exporter": "python",
   "pygments_lexer": "ipython3",
   "version": "3.9.2"
  }
 },
 "nbformat": 4,
 "nbformat_minor": 5
}
